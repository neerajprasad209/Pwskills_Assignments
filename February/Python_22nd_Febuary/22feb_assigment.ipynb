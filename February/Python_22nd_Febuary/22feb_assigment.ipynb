{
 "cells": [
  {
   "cell_type": "markdown",
   "id": "8e8e51e0",
   "metadata": {},
   "source": [
    "# Go to This given URL and Solve the Given Question."
   ]
  },
  {
   "cell_type": "markdown",
   "id": "af9f3ddb",
   "metadata": {},
   "source": [
    "## URL To Scrape : [https://www.youtube.com/@PW-Foundation/videos](https://www.youtube.com/@PW-Foundation/videos)"
   ]
  },
  {
   "cell_type": "code",
   "execution_count": 2,
   "id": "1f757fae",
   "metadata": {},
   "outputs": [],
   "source": [
    "# Setup Logging File\n",
    "\n",
    "import logging\n",
    "logging.basicConfig(filename='ImageScrapping.log',level=logging.DEBUG,format= '%(asctime)s - %(name)s - %(levelname)s - %(message)s')"
   ]
  },
  {
   "cell_type": "markdown",
   "id": "ba052a38",
   "metadata": {},
   "source": [
    "## Question 1 : Write a python program to extract the video URL of the first five videos.\n",
    "---"
   ]
  },
  {
   "cell_type": "markdown",
   "id": "0d82ee47",
   "metadata": {},
   "source": [
    "## Answer:\n",
    "\n",
    "* Youtube is a dynamic website which is created with JavaScript . \n",
    "\n",
    "* Beautiful Soup will fail to scrap the given url.\n",
    "\n",
    "* Using Selenium scraping the data from the given URL."
   ]
  },
  {
   "cell_type": "markdown",
   "id": "9f07ea42",
   "metadata": {},
   "source": [
    "### Step 1: Install and Import Selenium and dependencies"
   ]
  },
  {
   "cell_type": "code",
   "execution_count": 19,
   "id": "21e4b88e",
   "metadata": {},
   "outputs": [],
   "source": [
    "from selenium import webdriver\n",
    "from selenium.webdriver.common.by import By\n",
    "from selenium.webdriver.chrome.service import Service\n",
    "from webdriver_manager.chrome import ChromeDriverManager\n",
    "\n",
    "import pandas as pd\n",
    "import time\n",
    "\n",
    "PATH = Service(executable_path='C:/Users/NEERAJ/Downloads/My Projects/Python_22feb_assigment/chromedriver.exe')\n",
    "driver = webdriver.Chrome(service=PATH)\n",
    "driver.maximize_window()\n",
    "\n",
    "url = \"https://www.youtube.com/@PW-Foundation/videos\""
   ]
  },
  {
   "cell_type": "markdown",
   "id": "51d67d1f",
   "metadata": {},
   "source": [
    "### Step 2: Creating a function to get top-5 urls from the given channel "
   ]
  },
  {
   "cell_type": "code",
   "execution_count": 8,
   "id": "17991330",
   "metadata": {},
   "outputs": [],
   "source": [
    "# Getting the Vedio URl.\n",
    "def geting_url(url):\n",
    "    driver.get(url)\n",
    "    time.sleep(4)\n",
    "    \n",
    "    topurl = []\n",
    "    \n",
    "    url_elems = driver.find_elements(By.XPATH,\"//*[@id='video-title-link']\")\n",
    "    url_element = url_elems[0:5]\n",
    "    for i in url_element:\n",
    "        topurl.append(i.get_attribute('href'))\n",
    "    return topurl"
   ]
  },
  {
   "cell_type": "markdown",
   "id": "faef8992",
   "metadata": {},
   "source": [
    "### Step 3: Executing the function to get top5 URL's"
   ]
  },
  {
   "cell_type": "code",
   "execution_count": 20,
   "id": "6b2dee58",
   "metadata": {},
   "outputs": [
    {
     "data": {
      "text/plain": [
       "['https://www.youtube.com/watch?v=U09HORTeaB8',\n",
       " 'https://www.youtube.com/watch?v=eazPrtheE14',\n",
       " 'https://www.youtube.com/watch?v=luqdZrYnFOM',\n",
       " 'https://www.youtube.com/watch?v=YiBqvPi8Q1I',\n",
       " 'https://www.youtube.com/watch?v=mw9mLdN6ssA']"
      ]
     },
     "execution_count": 20,
     "metadata": {},
     "output_type": "execute_result"
    }
   ],
   "source": [
    "top_5url = geting_url(url)\n",
    "top_5url"
   ]
  },
  {
   "cell_type": "markdown",
   "id": "9aa7083c",
   "metadata": {},
   "source": [
    "## Question 2: Write a python program to extract the URL of the video thumbnails of the first five videos.\n",
    "\n",
    "\n",
    "\n",
    "### Answer:"
   ]
  },
  {
   "cell_type": "code",
   "execution_count": 23,
   "id": "11b7373c",
   "metadata": {},
   "outputs": [],
   "source": [
    "# Getting Thumbnails Links\n",
    "import time\n",
    "def thumbnail_urls(url):\n",
    "    driver.get(url)\n",
    "    time.sleep(4)\n",
    "    \n",
    "    img_links = []    \n",
    "    \n",
    "    images = driver.find_elements(By.XPATH,\"//*[@class='yt-core-image--fill-parent-height yt-core-image--fill-parent-width yt-core-image yt-core-image--content-mode-scale-aspect-fill yt-core-image--loaded']\")\n",
    "    image = images[0:5]\n",
    "    for i in image:\n",
    "        img_links.append(i.get_attribute('src'))\n",
    "    \n",
    "    return img_links\n"
   ]
  },
  {
   "cell_type": "code",
   "execution_count": 24,
   "id": "3b87e3c2",
   "metadata": {},
   "outputs": [
    {
     "data": {
      "text/plain": [
       "['https://i.ytimg.com/vi/U09HORTeaB8/hqdefault.jpg?sqp=-oaymwEcCNACELwBSFXyq4qpAw4IARUAAIhCGAFwAcABBg==&rs=AOn4CLDbgldZv8fiVZHupnBcZRnKqmIW-A',\n",
       " 'https://i.ytimg.com/vi/eazPrtheE14/hqdefault.jpg?sqp=-oaymwEcCNACELwBSFXyq4qpAw4IARUAAIhCGAFwAcABBg==&rs=AOn4CLB4gAhQRNo31HIP0I3l0KWHUp2V4A',\n",
       " 'https://i.ytimg.com/vi/luqdZrYnFOM/hqdefault.jpg?sqp=-oaymwE2CNACELwBSFXyq4qpAygIARUAAIhCGAFwAcABBvABAfgB_gmAAtAFigIMCAAQARhVIE4oZTAP&rs=AOn4CLAyEc79WAnOYLUwzRIsZf9260fZZg',\n",
       " 'https://i.ytimg.com/vi/YiBqvPi8Q1I/hqdefault.jpg?sqp=-oaymwEcCNACELwBSFXyq4qpAw4IARUAAIhCGAFwAcABBg==&rs=AOn4CLDwsFsgFr8TkzIFK9Eyq2BaIijcXQ',\n",
       " 'https://i.ytimg.com/vi/mw9mLdN6ssA/hqdefault.jpg?sqp=-oaymwEcCNACELwBSFXyq4qpAw4IARUAAIhCGAFwAcABBg==&rs=AOn4CLAXY5GVVh_GKPD2Bi9s0jc4Kzt8cw']"
      ]
     },
     "execution_count": 24,
     "metadata": {},
     "output_type": "execute_result"
    }
   ],
   "source": [
    "top5_img = thumbnail_urls(url)\n",
    "top5_img"
   ]
  },
  {
   "cell_type": "markdown",
   "id": "288df7bf",
   "metadata": {},
   "source": [
    "## Question 3: Write a python program to extract the title of the first five videos.\n",
    "\n",
    "### Answer :"
   ]
  },
  {
   "cell_type": "code",
   "execution_count": 25,
   "id": "23974f9e",
   "metadata": {},
   "outputs": [],
   "source": [
    "# Getting Titles Text\n",
    "def getting_titles(url):\n",
    "    driver.get(url)\n",
    "    time.sleep(4)\n",
    "    \n",
    "    top5titles_text = []\n",
    "    \n",
    "    titles = driver.find_elements(By.XPATH, \"//*[@id='video-title']\")\n",
    "    title = titles[0:5]\n",
    "    for i in title:\n",
    "        top5titles_text.append(i.text)\n",
    "\n",
    "    return top5titles_text\n",
    "    "
   ]
  },
  {
   "cell_type": "code",
   "execution_count": 26,
   "id": "01fb8afe",
   "metadata": {},
   "outputs": [
    {
     "data": {
      "text/plain": [
       "['MEGA MOCK TEST Series is LIVE Now 🔴|| For Class-9th & 10th Students @free',\n",
       " 'ALERT 🚨 : OLYMPIAD EXAM Registration Open for 2023-2024 | Step by Step Procedure | NSO | IMO | SOF',\n",
       " 'Offer Ending Soon 🤯 | Only Few Hours Left | #SapneDekhneKiAzaadi 🔥',\n",
       " 'Upto 35% Off On All PW Batches 🔥 | Only 1 Day Left 🤯 #SapneDekhneKiAzaadi',\n",
       " 'Happy 77th Independence Day 🇮🇳 | Check the Offers Now 🔥 #SapneDekhneKiAzaadi']"
      ]
     },
     "execution_count": 26,
     "metadata": {},
     "output_type": "execute_result"
    }
   ],
   "source": [
    "top5titles_txt = getting_titles(url)\n",
    "top5titles_txt"
   ]
  },
  {
   "cell_type": "markdown",
   "id": "7f013cfd",
   "metadata": {},
   "source": [
    "## Question 4: Write a python program to extract the number of views of the first five\n",
    "\n",
    "### Answer:"
   ]
  },
  {
   "cell_type": "code",
   "execution_count": 27,
   "id": "6c0bbdb4",
   "metadata": {},
   "outputs": [],
   "source": [
    "def getting_views(url):\n",
    "    \n",
    "    views_exact = []\n",
    "    \n",
    "    for i in top_5url:\n",
    "        new_url = i\n",
    "        driver.execute_script('window.open('');')\n",
    "                \n",
    "        driver.switch_to.window(driver.window_handles[1])\n",
    "        driver.get(new_url)\n",
    "        time.sleep(2)\n",
    "                \n",
    "        show_more = driver.find_element(By.ID,\"expand\")\n",
    "        show_more.click()\n",
    "                \n",
    "        all_views = driver.find_element(By.XPATH,\"/html/body/ytd-app/div[1]/ytd-page-manager/ytd-watch-flexy/div[5]/div[1]/div/div[2]/ytd-watch-metadata/div/div[4]/div[1]/div/div[1]/yt-formatted-string/span[1]\")\n",
    "        views = all_views.text\n",
    "        views_exact.append(views)\n",
    "                \n",
    "        driver.close()\n",
    "        driver.switch_to.window(driver.window_handles[0])\n",
    "\n",
    "    driver.get(url)\n",
    "\n",
    "    return views_exact\n"
   ]
  },
  {
   "cell_type": "code",
   "execution_count": 28,
   "id": "54e6a107",
   "metadata": {},
   "outputs": [
    {
     "data": {
      "text/plain": [
       "['46,846 views',\n",
       " '20,374 views',\n",
       " '16,928 views',\n",
       " '12,777 views',\n",
       " '42,049 views']"
      ]
     },
     "execution_count": 28,
     "metadata": {},
     "output_type": "execute_result"
    }
   ],
   "source": [
    "top5urls_views = getting_views(url)\n",
    "top5urls_views"
   ]
  },
  {
   "cell_type": "markdown",
   "id": "6d9c286f",
   "metadata": {},
   "source": [
    "## Question 5: Write a python program to extract the time of posting of video for the first five videos. \n",
    "\n",
    "\n",
    "### Answer:"
   ]
  },
  {
   "cell_type": "code",
   "execution_count": 29,
   "id": "7d3ed620",
   "metadata": {},
   "outputs": [],
   "source": [
    "def getting_dates(url):\n",
    "    \n",
    "    dates = []\n",
    "    \n",
    "    for i in top_5url:\n",
    "        new_url = i\n",
    "        driver.execute_script('window.open('');')\n",
    "                \n",
    "        driver.switch_to.window(driver.window_handles[1])\n",
    "        driver.get(new_url)\n",
    "        time.sleep(2)\n",
    "                \n",
    "        show_more = driver.find_element(By.ID,\"expand\")\n",
    "        show_more.click()\n",
    "                \n",
    "        #all_views = driver.find_element(By.XPATH,\"/html/body/ytd-app/div[1]/ytd-page-manager/ytd-watch-flexy/div[5]/div[1]/div/div[2]/ytd-watch-metadata/div/div[4]/div[1]/div/div[1]/yt-formatted-string/span[1]\")\n",
    "        #views = all_views.text\n",
    "        #views_exact.append(views)\n",
    "                \n",
    "                \n",
    "        post_date = driver.find_element(By.XPATH,\"/html/body/ytd-app/div[1]/ytd-page-manager/ytd-watch-flexy/div[5]/div[1]/div/div[2]/ytd-watch-metadata/div/div[4]/div[1]/div/div[1]/yt-formatted-string/span[3]\")\n",
    "        video_date =post_date.text\n",
    "        dates.append(video_date)\n",
    "                \n",
    "        driver.close()\n",
    "        driver.switch_to.window(driver.window_handles[0])\n",
    "\n",
    "    driver.get(url)\n",
    "\n",
    "    return dates"
   ]
  },
  {
   "cell_type": "code",
   "execution_count": 30,
   "id": "bcdb26dd",
   "metadata": {},
   "outputs": [
    {
     "data": {
      "text/plain": [
       "['Aug 26, 2023',\n",
       " 'Aug 23, 2023',\n",
       " 'Aug 20, 2023',\n",
       " 'Aug 19, 2023',\n",
       " 'Aug 15, 2023']"
      ]
     },
     "execution_count": 30,
     "metadata": {},
     "output_type": "execute_result"
    }
   ],
   "source": [
    "top5urls_dates = getting_dates(url)\n",
    "top5urls_dates"
   ]
  },
  {
   "cell_type": "markdown",
   "id": "77d0ace8",
   "metadata": {},
   "source": [
    "## Saving Scraped Data to scv File."
   ]
  },
  {
   "cell_type": "code",
   "execution_count": 31,
   "id": "07e3e530",
   "metadata": {},
   "outputs": [],
   "source": [
    "import pandas as pd\n",
    "df = pd.DataFrame({'URL': top_5url,'Img_link': top5_img, 'Title': top5titles_txt,'Views': top5urls_views,'Dates': top5urls_dates})"
   ]
  },
  {
   "cell_type": "code",
   "execution_count": 32,
   "id": "2688b45f",
   "metadata": {},
   "outputs": [
    {
     "data": {
      "text/html": [
       "<div>\n",
       "<style scoped>\n",
       "    .dataframe tbody tr th:only-of-type {\n",
       "        vertical-align: middle;\n",
       "    }\n",
       "\n",
       "    .dataframe tbody tr th {\n",
       "        vertical-align: top;\n",
       "    }\n",
       "\n",
       "    .dataframe thead th {\n",
       "        text-align: right;\n",
       "    }\n",
       "</style>\n",
       "<table border=\"1\" class=\"dataframe\">\n",
       "  <thead>\n",
       "    <tr style=\"text-align: right;\">\n",
       "      <th></th>\n",
       "      <th>URL</th>\n",
       "      <th>Img_link</th>\n",
       "      <th>Title</th>\n",
       "      <th>Views</th>\n",
       "      <th>Dates</th>\n",
       "    </tr>\n",
       "  </thead>\n",
       "  <tbody>\n",
       "    <tr>\n",
       "      <th>0</th>\n",
       "      <td>https://www.youtube.com/watch?v=U09HORTeaB8</td>\n",
       "      <td>https://i.ytimg.com/vi/U09HORTeaB8/hqdefault.j...</td>\n",
       "      <td>MEGA MOCK TEST Series is LIVE Now 🔴|| For Clas...</td>\n",
       "      <td>46,846 views</td>\n",
       "      <td>Aug 26, 2023</td>\n",
       "    </tr>\n",
       "    <tr>\n",
       "      <th>1</th>\n",
       "      <td>https://www.youtube.com/watch?v=eazPrtheE14</td>\n",
       "      <td>https://i.ytimg.com/vi/eazPrtheE14/hqdefault.j...</td>\n",
       "      <td>ALERT 🚨 : OLYMPIAD EXAM Registration Open for ...</td>\n",
       "      <td>20,374 views</td>\n",
       "      <td>Aug 23, 2023</td>\n",
       "    </tr>\n",
       "    <tr>\n",
       "      <th>2</th>\n",
       "      <td>https://www.youtube.com/watch?v=luqdZrYnFOM</td>\n",
       "      <td>https://i.ytimg.com/vi/luqdZrYnFOM/hqdefault.j...</td>\n",
       "      <td>Offer Ending Soon 🤯 | Only Few Hours Left | #S...</td>\n",
       "      <td>16,928 views</td>\n",
       "      <td>Aug 20, 2023</td>\n",
       "    </tr>\n",
       "    <tr>\n",
       "      <th>3</th>\n",
       "      <td>https://www.youtube.com/watch?v=YiBqvPi8Q1I</td>\n",
       "      <td>https://i.ytimg.com/vi/YiBqvPi8Q1I/hqdefault.j...</td>\n",
       "      <td>Upto 35% Off On All PW Batches 🔥 | Only 1 Day ...</td>\n",
       "      <td>12,777 views</td>\n",
       "      <td>Aug 19, 2023</td>\n",
       "    </tr>\n",
       "    <tr>\n",
       "      <th>4</th>\n",
       "      <td>https://www.youtube.com/watch?v=mw9mLdN6ssA</td>\n",
       "      <td>https://i.ytimg.com/vi/mw9mLdN6ssA/hqdefault.j...</td>\n",
       "      <td>Happy 77th Independence Day 🇮🇳 | Check the Off...</td>\n",
       "      <td>42,049 views</td>\n",
       "      <td>Aug 15, 2023</td>\n",
       "    </tr>\n",
       "  </tbody>\n",
       "</table>\n",
       "</div>"
      ],
      "text/plain": [
       "                                           URL  \\\n",
       "0  https://www.youtube.com/watch?v=U09HORTeaB8   \n",
       "1  https://www.youtube.com/watch?v=eazPrtheE14   \n",
       "2  https://www.youtube.com/watch?v=luqdZrYnFOM   \n",
       "3  https://www.youtube.com/watch?v=YiBqvPi8Q1I   \n",
       "4  https://www.youtube.com/watch?v=mw9mLdN6ssA   \n",
       "\n",
       "                                            Img_link  \\\n",
       "0  https://i.ytimg.com/vi/U09HORTeaB8/hqdefault.j...   \n",
       "1  https://i.ytimg.com/vi/eazPrtheE14/hqdefault.j...   \n",
       "2  https://i.ytimg.com/vi/luqdZrYnFOM/hqdefault.j...   \n",
       "3  https://i.ytimg.com/vi/YiBqvPi8Q1I/hqdefault.j...   \n",
       "4  https://i.ytimg.com/vi/mw9mLdN6ssA/hqdefault.j...   \n",
       "\n",
       "                                               Title         Views  \\\n",
       "0  MEGA MOCK TEST Series is LIVE Now 🔴|| For Clas...  46,846 views   \n",
       "1  ALERT 🚨 : OLYMPIAD EXAM Registration Open for ...  20,374 views   \n",
       "2  Offer Ending Soon 🤯 | Only Few Hours Left | #S...  16,928 views   \n",
       "3  Upto 35% Off On All PW Batches 🔥 | Only 1 Day ...  12,777 views   \n",
       "4  Happy 77th Independence Day 🇮🇳 | Check the Off...  42,049 views   \n",
       "\n",
       "          Dates  \n",
       "0  Aug 26, 2023  \n",
       "1  Aug 23, 2023  \n",
       "2  Aug 20, 2023  \n",
       "3  Aug 19, 2023  \n",
       "4  Aug 15, 2023  "
      ]
     },
     "execution_count": 32,
     "metadata": {},
     "output_type": "execute_result"
    }
   ],
   "source": [
    "df"
   ]
  },
  {
   "cell_type": "code",
   "execution_count": 33,
   "id": "6f0bc73b",
   "metadata": {},
   "outputs": [],
   "source": [
    "df.to_csv('YTdata.csv', index=False)"
   ]
  },
  {
   "cell_type": "code",
   "execution_count": null,
   "id": "5c12d143",
   "metadata": {},
   "outputs": [],
   "source": []
  }
 ],
 "metadata": {
  "kernelspec": {
   "display_name": "Python 3 (ipykernel)",
   "language": "python",
   "name": "python3"
  },
  "language_info": {
   "codemirror_mode": {
    "name": "ipython",
    "version": 3
   },
   "file_extension": ".py",
   "mimetype": "text/x-python",
   "name": "python",
   "nbconvert_exporter": "python",
   "pygments_lexer": "ipython3",
   "version": "3.11.3"
  }
 },
 "nbformat": 4,
 "nbformat_minor": 5
}
