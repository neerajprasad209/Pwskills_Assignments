{
 "cells": [
  {
   "cell_type": "markdown",
   "id": "30102db1-9f6b-4166-bdf7-014887e531e8",
   "metadata": {},
   "source": [
    "## Q1. Create a function which will take a list as an argument and return the product of all the numbers after creating a flat list. Use      the below-given list as an argument for your function.\n",
    "\n",
    "\n",
    "    list1 = [1,2,3,4, [44,55,66, True], False, (34,56,78,89,34), {1,2,3,3,2,1}, {1:34, \"key2\": [55, 67, 78, 89], 4: (45, 22, 61, 34)}, [56, 'data science'], 'Machine Learning']\n",
    "\n",
    "### Note: you must extract numeric keys and values of the dictionary also."
   ]
  },
  {
   "cell_type": "code",
   "execution_count": 2,
   "id": "99e6a8a3-52c3-4569-90dd-5c6dc4a3480f",
   "metadata": {},
   "outputs": [
    {
     "name": "stdout",
     "output_type": "stream",
     "text": [
      "The Product of the flat list :  0\n"
     ]
    }
   ],
   "source": [
    "from collections.abc import Iterable\n",
    "\n",
    "#Function to create a list from nested list.\n",
    "\n",
    "def flatten_list(lst):\n",
    "    for el in lst:\n",
    "        if isinstance(el, Iterable) and not isinstance(el, (str, bytes)):\n",
    "            yield from flatten_list(el)\n",
    "        else:\n",
    "            yield el\n",
    "\n",
    "#Function to gat the product of the flattern_list.\n",
    "\n",
    "def get_product(lst):\n",
    "    flat_list = list(flatten_list(lst))\n",
    "    res = 1\n",
    "    for item in flat_list:\n",
    "        if isinstance(item, (int, float)):\n",
    "            res = res * item\n",
    "        elif isinstance(item, dict):\n",
    "            for key, value in item.items():\n",
    "                if isinstance(key, (int, float)):\n",
    "                    res = res * key\n",
    "                if isinstance(value, (int, float)):\n",
    "                    res = res * value\n",
    "    return res\n",
    "\n",
    "list1 = [1,2,3,4,[44,55,66,True],False,(34,56,78,89,34),{1,2,3,3,2,1},{1:34,\"key2\":[55,67,78,89],4:(45,22,61,34)},[56,'data science'],'Machine Learning']\n",
    "\n",
    "product = get_product(list1)\n",
    "print(\"The Product of the flat list : \",product)"
   ]
  },
  {
   "cell_type": "markdown",
   "id": "a9a12e35-8d5b-4fe8-aa3e-8897ba902373",
   "metadata": {},
   "source": [
    "# Q2. Write a python program for encrypting a message sent to you by your friend. The logic of encryption      should be such that, for a the output should be z. For b, the output should be y. For c, the output should be x respectively. Also, the whitespace should be replaced with a dollar sign. Keep the punctuation marks unchanged.\n",
    "\n",
    "\n",
    "    Input Sentence: I want to become a Data Scientist.\n",
    "\n",
    "\n",
    "## Encrypt the above input sentence using the program you just created.\n",
    "\n",
    "\n",
    "* Convert the given input sentence into lowercase before encrypting. The final output should be lowercase."
   ]
  },
  {
   "cell_type": "code",
   "execution_count": 1,
   "id": "b3097f66-e47e-42ea-b82f-c4d47aab02e1",
   "metadata": {},
   "outputs": [
    {
     "name": "stdout",
     "output_type": "stream",
     "text": [
      "Encrypted Message :  h$vzms$sn$adbnld$z$czsz$rbhdmbd.\n"
     ]
    }
   ],
   "source": [
    "# Function to encrypt the message \n",
    "\n",
    "def enc_msg(msg):\n",
    "    res = \"\"\n",
    "    for char in msg:\n",
    "        if char.isalpha():\n",
    "            res = res +chr((ord(char) + 25 - 97) % 26 + 97)\n",
    "        elif char.isspace():\n",
    "            res = res + \"$\"\n",
    "        else:\n",
    "            res = res + char\n",
    "    return res\n",
    "\n",
    "sentance = \"i want to become a data science.\"\n",
    "\n",
    "enc_msg = enc_msg(sentance)\n",
    "\n",
    "print(\"Encrypted Message : \",enc_msg)"
   ]
  },
  {
   "cell_type": "code",
   "execution_count": null,
   "id": "64ae6975-e8ae-4e8c-924b-907e12f900ce",
   "metadata": {},
   "outputs": [],
   "source": []
  }
 ],
 "metadata": {
  "kernelspec": {
   "display_name": "Python 3 (ipykernel)",
   "language": "python",
   "name": "python3"
  },
  "language_info": {
   "codemirror_mode": {
    "name": "ipython",
    "version": 3
   },
   "file_extension": ".py",
   "mimetype": "text/x-python",
   "name": "python",
   "nbconvert_exporter": "python",
   "pygments_lexer": "ipython3",
   "version": "3.10.8"
  }
 },
 "nbformat": 4,
 "nbformat_minor": 5
}
