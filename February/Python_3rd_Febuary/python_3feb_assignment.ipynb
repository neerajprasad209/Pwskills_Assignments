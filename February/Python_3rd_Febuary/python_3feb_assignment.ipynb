{
 "cells": [
  {
   "cell_type": "markdown",
   "id": "d04dddbf-8fe5-4a29-9190-fcd0f5c84360",
   "metadata": {},
   "source": [
    "# Answer. 1"
   ]
  },
  {
   "cell_type": "markdown",
   "id": "fc0446f5-8f25-4bc7-a1e9-2116b4618f39",
   "metadata": {},
   "source": [
    "Function is a block of code. Function can return element as result.\n",
    "\n",
    "Keyword 'def' in used to declare the function in the python, followed by finction name and  parameter."
   ]
  },
  {
   "cell_type": "code",
   "execution_count": 6,
   "id": "0b9e1c08-8ba9-4321-ac88-3c4dc41eb01f",
   "metadata": {},
   "outputs": [],
   "source": [
    "# Program to create a function that return odd numer list.\n",
    "\n",
    "def odd_numbers():   # Declaring the function odd_numbers\n",
    "    l = []  #list to store the  odd numbers\n",
    "    for i in range(1,25):  # loop is starting from 1 and it goes till the range 25.\n",
    "        if i % 2 == 1:     # condition if i is divided by 2 and reminder is 1.\n",
    "            l.append(i)    # then i append to the list l.\n",
    "    return(l)              # return keyword return the list l.\n"
   ]
  },
  {
   "cell_type": "code",
   "execution_count": 7,
   "id": "e81bb28a-266f-4c0d-b253-191a06d41b24",
   "metadata": {},
   "outputs": [
    {
     "data": {
      "text/plain": [
       "[1, 3, 5, 7, 9, 11, 13, 15, 17, 19, 21, 23]"
      ]
     },
     "execution_count": 7,
     "metadata": {},
     "output_type": "execute_result"
    }
   ],
   "source": [
    "odd_numbers()  # Calling the function and print the odd list"
   ]
  },
  {
   "cell_type": "markdown",
   "id": "ea2d42b6-24c7-4410-afc7-7d69842c6703",
   "metadata": {},
   "source": [
    "# Answer. 2"
   ]
  },
  {
   "cell_type": "markdown",
   "id": "5604ebc4-44d7-4418-987c-215b01e1367a",
   "metadata": {},
   "source": [
    "### *args "
   ]
  },
  {
   "cell_type": "markdown",
   "id": "2cb25629-14bc-4e39-be7c-c6110bb69041",
   "metadata": {},
   "source": [
    "1. *args in function definitions in Python is used to pass a variable number of arguments to a function. Syntax is to use the symbol *"
   ]
  },
  {
   "cell_type": "code",
   "execution_count": 16,
   "id": "c0d7cf08-0ee5-4365-97b6-e40370a01cbf",
   "metadata": {},
   "outputs": [
    {
     "name": "stdout",
     "output_type": "stream",
     "text": [
      "(5, 2, 6, 4, 6, 4)\n"
     ]
    }
   ],
   "source": [
    "def add(*args):\n",
    "    print(args)\n",
    "    \n",
    "add(5,2,6,4,6,4)"
   ]
  },
  {
   "cell_type": "markdown",
   "id": "f5280f82-49f0-463b-9249-c62e1d835882",
   "metadata": {},
   "source": [
    "### *kwargs"
   ]
  },
  {
   "cell_type": "markdown",
   "id": "367eea4f-beaf-4000-8f63-5d832cdfdc0e",
   "metadata": {},
   "source": [
    "2. **kwargs allows us to pass a variable number of keyword arguments to a Python function."
   ]
  },
  {
   "cell_type": "code",
   "execution_count": 18,
   "id": "6efd8a5d-c291-498d-bdc9-2fd52a588669",
   "metadata": {},
   "outputs": [
    {
     "name": "stdout",
     "output_type": "stream",
     "text": [
      "{'banana': 5, 'mango': 7, 'apple': 8}\n"
     ]
    }
   ],
   "source": [
    "def fruits(**kwargs):\n",
    "    print(kwargs)\n",
    "\n",
    "fruits(banana=5, mango=7, apple=8)"
   ]
  },
  {
   "cell_type": "markdown",
   "id": "7056fbff-44f8-40c4-88f5-ce28e4a4c2d0",
   "metadata": {},
   "source": [
    "# Answer. 3"
   ]
  },
  {
   "cell_type": "markdown",
   "id": "071ed985-4640-455a-bff2-492aa3c7ca9f",
   "metadata": {},
   "source": [
    "Iterator in Python is an object that is used to iterate over iterable objects like lists, tuples, dicts, and sets.                                           \n",
    "The iter() method is used to initilize the iterator ant the next() method is used for iteration."
   ]
  },
  {
   "cell_type": "code",
   "execution_count": 2,
   "id": "40e88e23-5833-4887-92f1-2ec4ecb5de1c",
   "metadata": {},
   "outputs": [
    {
     "name": "stdout",
     "output_type": "stream",
     "text": [
      "2\n",
      "4\n",
      "6\n",
      "8\n",
      "10\n"
     ]
    }
   ],
   "source": [
    "my_list = [2,4,6,8,10,12,14,16,18,20]\n",
    "list1 =iter(my_list)\n",
    "\n",
    "print(next(list1))\n",
    "print(next(list1))\n",
    "print(next(list1))\n",
    "print(next(list1))\n",
    "print(next(list1))"
   ]
  },
  {
   "cell_type": "markdown",
   "id": "f431c7dd-66cb-4e1d-911e-af714ad55584",
   "metadata": {},
   "source": [
    "# Answer. 4"
   ]
  },
  {
   "cell_type": "markdown",
   "id": "20698718-8f2f-448e-bf27-a3e74964362b",
   "metadata": {},
   "source": [
    "Generator are function that return a sequence of values. we use yeield statement to return the value from the function.                         \n",
    "Yield ststement returns the elements from a generator function into a generator object"
   ]
  },
  {
   "cell_type": "code",
   "execution_count": 28,
   "id": "0065d209-8de5-450f-b0d1-99147d65da69",
   "metadata": {},
   "outputs": [
    {
     "name": "stdout",
     "output_type": "stream",
     "text": [
      "0\n",
      "1\n",
      "2\n",
      "3\n",
      "4\n"
     ]
    }
   ],
   "source": [
    "#Example of generator function\n",
    "\n",
    "def gen(num):\n",
    "    for i in range(num):\n",
    "        yield i\n",
    "        \n",
    "g = gen(6)\n",
    "print(next(g))\n",
    "print(next(g))\n",
    "print(next(g))\n",
    "print(next(g))\n",
    "print(next(g))"
   ]
  },
  {
   "cell_type": "markdown",
   "id": "f26a64e6-6705-40b7-849f-8a21ef963f1d",
   "metadata": {},
   "source": [
    "# Answer. 5"
   ]
  },
  {
   "cell_type": "code",
   "execution_count": 24,
   "id": "dd2bdd61-b1e5-4577-a94a-8f64ffd373c3",
   "metadata": {},
   "outputs": [
    {
     "name": "stdout",
     "output_type": "stream",
     "text": [
      "2\n",
      "3\n",
      "5\n",
      "7\n",
      "11\n",
      "13\n",
      "17\n",
      "19\n",
      "23\n",
      "29\n",
      "31\n",
      "37\n",
      "41\n",
      "43\n",
      "47\n",
      "53\n",
      "59\n",
      "61\n",
      "67\n",
      "71\n"
     ]
    }
   ],
   "source": [
    "# Print the first 20 prime numbers using generator function.\n",
    "\n",
    "def gen():\n",
    "    lis_primes = []\n",
    "    for num in range(2, 1000):\n",
    "        is_prime = True\n",
    "        for i in lis_primes:\n",
    "            if i * i > num:\n",
    "                break\n",
    "            if num % i == 0:\n",
    "                is_prime = False\n",
    "                break\n",
    "        if is_prime:\n",
    "            lis_primes.append(num)\n",
    "            yield num\n",
    "\n",
    "prime_gen = gen()\n",
    "for _ in range(20):\n",
    "    print(next(prime_gen))"
   ]
  },
  {
   "cell_type": "markdown",
   "id": "7c38266f-91d9-4170-b7a3-300d9d8c8a0b",
   "metadata": {},
   "source": [
    "# Answer. 6 "
   ]
  },
  {
   "cell_type": "code",
   "execution_count": 49,
   "id": "23b28911-8eb2-4419-ae65-c70eb3e62e76",
   "metadata": {},
   "outputs": [
    {
     "name": "stdout",
     "output_type": "stream",
     "text": [
      "1\n",
      "2\n",
      "3\n",
      "5\n",
      "8\n",
      "13\n",
      "21\n",
      "34\n",
      "55\n",
      "89\n"
     ]
    }
   ],
   "source": [
    "# Print the fibonacci series using while loop \n",
    "\n",
    "# Defining the function name.\n",
    "def febo():\n",
    "    num = 0\n",
    "    a = 0\n",
    "    b = 1\n",
    "    while num <10: # iterating the number\n",
    "        c = a+b    # adding the upper two number\n",
    "        a =b       # swaping the number \n",
    "        b =c\n",
    "        num = num + 1    # incrementing the number \n",
    "        print(c)        # Displat the c\n",
    "\n",
    "febo()   # calling the function"
   ]
  },
  {
   "cell_type": "markdown",
   "id": "cb9db31f-7590-4974-b4df-2a9a8611ab85",
   "metadata": {},
   "source": [
    "# Answer. 7"
   ]
  },
  {
   "cell_type": "code",
   "execution_count": 57,
   "id": "7430a72b-65c6-4135-a3b9-be3ce665a0c8",
   "metadata": {},
   "outputs": [
    {
     "name": "stdout",
     "output_type": "stream",
     "text": [
      "['p', 'w', 's', 'k', 'i', 'l', 'l', 's']\n"
     ]
    }
   ],
   "source": [
    "# Defining the function name ans passing the string parameter\n",
    "\n",
    "def comp(string):\n",
    "    # Creating a empty list\n",
    "    List = []\n",
    "\n",
    "    # Iterating the string\n",
    "    for character in string:\n",
    "        List.append(character)\n",
    "\n",
    "    # Display list\n",
    "    print(List)\n",
    "\n",
    "# Caling the function and pass the parameter\n",
    "comp(\"pwskills\")"
   ]
  },
  {
   "cell_type": "markdown",
   "id": "cd20979e-3de7-4f6b-8d34-6f887d7a161f",
   "metadata": {},
   "source": [
    "# Answer. 8"
   ]
  },
  {
   "cell_type": "code",
   "execution_count": 2,
   "id": "2d7b9f01-b742-4290-9b02-6384323353fb",
   "metadata": {},
   "outputs": [
    {
     "name": "stdin",
     "output_type": "stream",
     "text": [
      "Enter your word dad\n"
     ]
    },
    {
     "name": "stdout",
     "output_type": "stream",
     "text": [
      " \n",
      "Yes word is palindrome \n"
     ]
    }
   ],
   "source": [
    "# function which return reverse of a string\n",
    "\n",
    "def isPalindrome(s):\n",
    "\treturn s == s[::-1]\n",
    "\n",
    "\n",
    "# Driver code\n",
    "s = input(\"Enter your word\")\n",
    "ans = isPalindrome(s)\n",
    "print(\" \")\n",
    "if ans:\n",
    "\tprint(\"Yes word is palindrome \")\n",
    "else:\n",
    "\tprint(\"No word is palindrome\")\n"
   ]
  },
  {
   "cell_type": "markdown",
   "id": "6e13d75b-1981-425d-86a1-93ac405e0b91",
   "metadata": {},
   "source": [
    "# Answer. 9"
   ]
  },
  {
   "cell_type": "code",
   "execution_count": 5,
   "id": "4086919b-9c10-499f-8d6f-a99a3c6186ad",
   "metadata": {},
   "outputs": [
    {
     "name": "stdout",
     "output_type": "stream",
     "text": [
      "[1, 3, 5, 7, 9, 11, 13, 15, 17, 19, 21, 23, 25, 27, 29, 31, 33, 35, 37, 39, 41, 43, 45, 47, 49, 51, 53, 55, 57, 59, 61, 63, 65, 67, 69, 71, 73, 75, 77, 79, 81, 83, 85, 87, 89, 91, 93, 95, 97, 99]\n"
     ]
    }
   ],
   "source": [
    "# Proogram to print the odd number from 1 to 100\n",
    "\n",
    "def odd(g):\n",
    "    List = []\n",
    "    for num in range(g):\n",
    "        if num % 2 != 0:\n",
    "            List.append(num)\n",
    "    print(List)\n",
    "        \n",
    "        \n",
    "odd(100)"
   ]
  },
  {
   "cell_type": "code",
   "execution_count": null,
   "id": "774deacb-cb0e-479e-8631-a29ac4fe29fb",
   "metadata": {},
   "outputs": [],
   "source": []
  }
 ],
 "metadata": {
  "kernelspec": {
   "display_name": "Python 3 (ipykernel)",
   "language": "python",
   "name": "python3"
  },
  "language_info": {
   "codemirror_mode": {
    "name": "ipython",
    "version": 3
   },
   "file_extension": ".py",
   "mimetype": "text/x-python",
   "name": "python",
   "nbconvert_exporter": "python",
   "pygments_lexer": "ipython3",
   "version": "3.10.8"
  }
 },
 "nbformat": 4,
 "nbformat_minor": 5
}
