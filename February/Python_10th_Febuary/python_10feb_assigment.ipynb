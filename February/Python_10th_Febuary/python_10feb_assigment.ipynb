{
 "cells": [
  {
   "cell_type": "markdown",
   "id": "1a3e007d-0a3a-4527-b03a-64ebb3174c0c",
   "metadata": {},
   "source": [
    "# Q1. Which function is used to open a file? What are the different modes of opening a file? Explain each mode of file opening."
   ]
  },
  {
   "cell_type": "markdown",
   "id": "1f21de0e-572f-4e5f-be0e-0ff92c6dfd86",
   "metadata": {},
   "source": [
    "### Answer : Files in Python can be opened with a built-in open() function\n",
    "Syntax : open(file_address, access_mode)\n",
    "\n",
    "1. In ‘r’ mode, the file opens in the read only mode. By default, if we don’t specify the mode argument, it will be treated as read or ‘r’ mode."
   ]
  },
  {
   "cell_type": "code",
   "execution_count": 4,
   "id": "384cb669-5d38-47cd-a64e-6e58981c61bd",
   "metadata": {},
   "outputs": [
    {
     "name": "stdout",
     "output_type": "stream",
     "text": [
      "Hello this my new program\n"
     ]
    }
   ],
   "source": [
    "# r mode example\n",
    "# Reading a file\n",
    "file = open('Myfile.txt', 'r')\n",
    "\n",
    "#read()\n",
    "text = file.read()\n",
    "\n",
    "print(text)\n",
    "file.close()"
   ]
  },
  {
   "cell_type": "markdown",
   "id": "9459784b-0232-4344-ad7d-9f119017637d",
   "metadata": {},
   "source": [
    "2. In the ‘w’ mode, the file opens in write mode. It removes existing content, if present, in the file. If the specified file doesn’t exist, it creates one with the specified name."
   ]
  },
  {
   "cell_type": "code",
   "execution_count": 5,
   "id": "72529ac5-7f40-4a72-8260-b9abd3da7985",
   "metadata": {},
   "outputs": [],
   "source": [
    "# Writing a file\n",
    "file = open('Myfile.txt', 'w')\n",
    "line = 'This file is modified with write mode\\n'\n",
    "\n",
    "#write()\n",
    "file.write(line)\n",
    "file.close()"
   ]
  },
  {
   "cell_type": "markdown",
   "id": "c0a30502-aaac-4720-aa0f-0895831c0d8b",
   "metadata": {},
   "source": [
    "3. In the ‘a’ mode, the file opens in append mode. It adds content to an existing file (or append at the end of the file). If the specified file doesn’t exist, it creates one with the specified name."
   ]
  },
  {
   "cell_type": "code",
   "execution_count": 6,
   "id": "eea553e7-75c2-4005-82bb-e1d7459310c5",
   "metadata": {},
   "outputs": [],
   "source": [
    "# Appending a file\n",
    "file = open('Myfile.txt', 'a')\n",
    "lines = 'This is text written in append mode\\n'\n",
    "\n",
    "# Appending lines\n",
    "file.write(lines)\n",
    "file.close()"
   ]
  },
  {
   "cell_type": "markdown",
   "id": "d4de948d-7c9a-4600-9e2d-907e94d9c72d",
   "metadata": {},
   "source": [
    "4. In the ‘r+’ mode, the file opens in the read & write mode. It does not remove existing content, if present, in the file and does not create a file if not present in the directory."
   ]
  },
  {
   "cell_type": "code",
   "execution_count": 8,
   "id": "c0dc7615-5b68-4bfe-943b-881561f84bf4",
   "metadata": {},
   "outputs": [
    {
     "name": "stdout",
     "output_type": "stream",
     "text": [
      "This file is modified with write mode\n",
      "This is text written in append mode\n",
      "\n"
     ]
    }
   ],
   "source": [
    "# Reading and Writing a file with r+ mode\n",
    "file = open('Myfile.txt', 'r+')\n",
    "lines = file.read()\n",
    "print(lines)\n",
    "file.write(lines)\n",
    "file.close()"
   ]
  },
  {
   "cell_type": "markdown",
   "id": "55b6762d-c9fc-4011-b017-ed54297f0489",
   "metadata": {},
   "source": [
    "5. In the ‘w+’ mode, open the file in the read & write mode & remove existing content. If the file doesn’t exist, it creates a new one. It does not remove existing content & if a file doesn’t exist, it creates a new one"
   ]
  },
  {
   "cell_type": "code",
   "execution_count": 9,
   "id": "2ecbad9f-ff66-4a5e-9c1b-8ea2fbf6c6c9",
   "metadata": {},
   "outputs": [],
   "source": [
    "# Writing and Reading a file\n",
    "file = open('Myfile.txt', 'w+')\n",
    "lines = file.read()\n",
    "file.write('This is w+ mode\\n')\n",
    "file.close()"
   ]
  },
  {
   "cell_type": "markdown",
   "id": "98592cff-dc16-4bd6-bcf5-002347f389e4",
   "metadata": {},
   "source": [
    "6. a+: Opens a file for both appending and reading"
   ]
  },
  {
   "cell_type": "code",
   "execution_count": 10,
   "id": "fc039613-210c-44cc-b4ae-ac28852f5df7",
   "metadata": {},
   "outputs": [],
   "source": [
    "# Appending and reading a file\n",
    "file = open('Myfile.txt', 'a+')\n",
    "lines = file.read()\n",
    "file.write('This is a+ mode\\n')\n",
    "file.close()"
   ]
  },
  {
   "cell_type": "markdown",
   "id": "5f9bf36c-f0f7-4d0a-8418-0d6adc493d75",
   "metadata": {},
   "source": [
    "# Q2. Why close() function is used? Why is it important to close a file?"
   ]
  },
  {
   "cell_type": "markdown",
   "id": "f0ad2667-91de-4158-bbea-0c660d5c5ef4",
   "metadata": {},
   "source": [
    "### Answer : It is always a good practice to close a file after performing desired operations to it. Thus makes sure that all our changes have been saved to the file.\n",
    "Closing is done with .close() method"
   ]
  },
  {
   "cell_type": "code",
   "execution_count": 12,
   "id": "f568bfef-8c84-4e9f-ab09-690cbfcd4bea",
   "metadata": {},
   "outputs": [
    {
     "name": "stdout",
     "output_type": "stream",
     "text": [
      "This is w+ mode\n",
      "This is a+ mode\n",
      "\n"
     ]
    }
   ],
   "source": [
    "# Opening file in read mode\n",
    "file = open('Myfile.txt', 'r')\n",
    "\n",
    "#reading file and printing results\n",
    "text = file.read()\n",
    "print(text)\n",
    "\n",
    "# Closing the file\n",
    "file.close()"
   ]
  },
  {
   "cell_type": "markdown",
   "id": "3603a898-960e-4a50-8f97-4e85b32f62f3",
   "metadata": {},
   "source": [
    "# Q3. Write a python program to create a text file. Write ‘I want to become a Data Scientist’ in that file. Then close the file. Open this file and read the content of the file."
   ]
  },
  {
   "cell_type": "code",
   "execution_count": 13,
   "id": "1c6dfde4-f1f6-4c50-961c-c051685395e1",
   "metadata": {},
   "outputs": [],
   "source": [
    "# Opening a file in write mode\n",
    "new_file = open('new_file.txt','w')\n",
    "# Writing the file in write mode\n",
    "new_file.write('I want to become a Data Scientist')\n",
    "# Closing the file\n",
    "new_file.close()"
   ]
  },
  {
   "cell_type": "code",
   "execution_count": 14,
   "id": "c9d0e1c2-0f76-4c3c-8dc5-e7970460513d",
   "metadata": {},
   "outputs": [
    {
     "name": "stdout",
     "output_type": "stream",
     "text": [
      "I want to become a Data Scientist\n"
     ]
    }
   ],
   "source": [
    "# Opening file in read mode\n",
    "new_file = open('new_file.txt','r')\n",
    "# Reading the file\n",
    "lines = new_file.read()\n",
    "print(lines)\n",
    "# Closing the file\n",
    "new_file.close()"
   ]
  },
  {
   "cell_type": "markdown",
   "id": "e31cd7c5-fce7-4a8c-9c92-54b4383d276a",
   "metadata": {},
   "source": [
    "# Q4. Explain the following with python code: read(), readline() and readlines()."
   ]
  },
  {
   "cell_type": "markdown",
   "id": "387abfa0-160d-4ca6-b22e-32b03e62e568",
   "metadata": {},
   "source": [
    "## Answer :\n",
    "1. The read() method returns the specified number of bytes from the file. Default is -1 which means the whole file."
   ]
  },
  {
   "cell_type": "code",
   "execution_count": 15,
   "id": "3b2f865f-2130-4b61-99e4-ac974a8d6eb0",
   "metadata": {},
   "outputs": [
    {
     "name": "stdout",
     "output_type": "stream",
     "text": [
      "This is w+ mode\n",
      "This is a+ mode\n",
      "\n"
     ]
    }
   ],
   "source": [
    "file = open('Myfile.txt','r')\n",
    "print(file.read())\n",
    "file.close()"
   ]
  },
  {
   "cell_type": "code",
   "execution_count": 17,
   "id": "a147b10e-34fc-480c-a56c-e64f58f77f67",
   "metadata": {},
   "outputs": [
    {
     "name": "stdout",
     "output_type": "stream",
     "text": [
      "This\n"
     ]
    }
   ],
   "source": [
    "file = open('Myfile.txt','r')\n",
    "print(file.read(4))\n",
    "file.close()"
   ]
  },
  {
   "cell_type": "markdown",
   "id": "542fa3ab-5b47-4e5b-8804-1157f7a21137",
   "metadata": {},
   "source": [
    "2. The readline() method returns one line from the file. You can also specified how many bytes from the line to return, by using the size parameter."
   ]
  },
  {
   "cell_type": "code",
   "execution_count": 19,
   "id": "17a55093-ed1f-4ffe-b85d-5c3c78355eca",
   "metadata": {},
   "outputs": [
    {
     "name": "stdout",
     "output_type": "stream",
     "text": [
      "This is w+ mode\n",
      "\n"
     ]
    }
   ],
   "source": [
    "file = open('Myfile.txt','r')\n",
    "print(file.readline())\n",
    "file.close()"
   ]
  },
  {
   "cell_type": "markdown",
   "id": "b8c65cd3-b049-4067-b850-36c14fc57782",
   "metadata": {},
   "source": [
    "3. The readlines() method returns a list containing each line in the file as a list item."
   ]
  },
  {
   "cell_type": "code",
   "execution_count": 21,
   "id": "15eaefae-3f25-4edb-a3f7-1037c9901635",
   "metadata": {},
   "outputs": [
    {
     "name": "stdout",
     "output_type": "stream",
     "text": [
      "['This is w+ mode\\n', 'This is a+ mode\\n']\n"
     ]
    }
   ],
   "source": [
    "file = open('Myfile.txt','r')\n",
    "print(file.readlines())\n",
    "file.close()"
   ]
  },
  {
   "cell_type": "markdown",
   "id": "14e108e5-2d4d-4dc9-8ccf-c9312d653e6d",
   "metadata": {},
   "source": [
    "# Q5. Explain why with statement is used with open(). What is the advantage of using with statement and open() together?"
   ]
  },
  {
   "cell_type": "markdown",
   "id": "680f1d03-8530-485a-8a9b-6937b9d3326a",
   "metadata": {},
   "source": [
    "## Answer : In Python, with statement is used in exception handling to make the code cleaner and much more readable. It simplifies the management of common resources like file streams.\n",
    "\n",
    "## Advantage is : unlike the previous implementations, there is no need to call file.close()\n",
    "\n",
    "It is guaranteed to close the file no matter how the nested block exits. If an exception occurs before the end of the block, it will close the file before the exception is caught by an outer exception handler."
   ]
  },
  {
   "cell_type": "code",
   "execution_count": 23,
   "id": "cd22283b-85d8-449f-b142-b3b555dfe575",
   "metadata": {},
   "outputs": [],
   "source": [
    "# using with statement\n",
    "with open('with_file.txt', 'w') as file:\n",
    "    file.write('This is file created using with statement')"
   ]
  },
  {
   "cell_type": "code",
   "execution_count": 24,
   "id": "a11c0f30-f600-475e-8f97-8c8433743ad3",
   "metadata": {},
   "outputs": [
    {
     "name": "stdout",
     "output_type": "stream",
     "text": [
      "This is file created using with statement\n"
     ]
    }
   ],
   "source": [
    "# Using the above file using with statement and reading the file\n",
    "with open('with_file.txt','r') as file:\n",
    "    print(file.read())"
   ]
  },
  {
   "cell_type": "markdown",
   "id": "338ca8aa-90ce-4c5b-a60c-be886baf8a8c",
   "metadata": {},
   "source": [
    "# Q6. Explain the write() and writelines() functions. Give a suitable example."
   ]
  },
  {
   "cell_type": "markdown",
   "id": "573c7fc3-518c-4e36-ad3b-e23420f8b110",
   "metadata": {},
   "source": [
    "## Answer : \n",
    "1. The write() function will write the content in the file without adding any extra characters.<br>\n",
    " While writing data to a file, we must know that the write function does not add a newline character(\\n) to the end of the string.<br>\n",
    " The write() function returns None."
   ]
  },
  {
   "cell_type": "code",
   "execution_count": 25,
   "id": "a4f6d3dc-a546-4e32-a323-ec5c45e5fcb9",
   "metadata": {},
   "outputs": [],
   "source": [
    "student_file = open(\"students.txt\", \"w\")\n",
    "\n",
    "student_name = ['Utkarsh','Pravin','Dhiraj']\n",
    "\n",
    "for i in student_name:\n",
    "    student_file.write(f'Name of student : {i}')\n",
    "    student_file.write(\"\\n\")\n",
    "\t\n",
    "student_file.close()"
   ]
  },
  {
   "cell_type": "markdown",
   "id": "bab2d541-12b4-4031-b579-6fabc6ffe056",
   "metadata": {},
   "source": [
    "writelines() function:               \n",
    "The writelines() method writes the items of a list to the file. Where the texts will be inserted depends on the file mode and stream position."
   ]
  },
  {
   "cell_type": "code",
   "execution_count": null,
   "id": "9fcbaf5e-2498-41c5-8e79-523f08fc99a0",
   "metadata": {},
   "outputs": [],
   "source": [
    "f = open(\"test2.txt\", \"a\")\n",
    "f.writelines(\"This is my 2nd file\")\n",
    "f.close()"
   ]
  }
 ],
 "metadata": {
  "kernelspec": {
   "display_name": "Python 3 (ipykernel)",
   "language": "python",
   "name": "python3"
  },
  "language_info": {
   "codemirror_mode": {
    "name": "ipython",
    "version": 3
   },
   "file_extension": ".py",
   "mimetype": "text/x-python",
   "name": "python",
   "nbconvert_exporter": "python",
   "pygments_lexer": "ipython3",
   "version": "3.10.8"
  }
 },
 "nbformat": 4,
 "nbformat_minor": 5
}
