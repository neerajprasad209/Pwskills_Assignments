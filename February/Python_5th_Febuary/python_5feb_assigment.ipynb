{
 "cells": [
  {
   "cell_type": "markdown",
   "id": "5d28d989-2dd7-4f94-9256-a053bf219019",
   "metadata": {},
   "source": [
    "# Q1. Explain Class and Object with respect to Object-Oriented Programming. Give a suitable example."
   ]
  },
  {
   "cell_type": "markdown",
   "id": "f78c7697-a598-4348-bf3c-1aa73de3104b",
   "metadata": {},
   "source": [
    "* Object-Oriented Programming :-                                                               \n",
    "An object oriented prigraming is to design the procgram using classes and objects. It implement real-world entities like inheritance, polymorphisms, encapsulation, etc. in the programming. The main concept of OOPs is to bind the data and the functions that work on that together as a single unit so that no other part of the code can access this data."
   ]
  },
  {
   "cell_type": "markdown",
   "id": "753ea864-bdd7-4820-9b5f-fd16de6c6da3",
   "metadata": {},
   "source": [
    "* Class :-                                                                                       \n",
    "Class is a collection of objects. It is a logical entity that has some specific attributes and methods.\n"
   ]
  },
  {
   "cell_type": "markdown",
   "id": "46811e6d-002f-4b50-9c04-7742f7e4c5c9",
   "metadata": {},
   "source": [
    "* Objects :-                                                                                                  \n",
    "The object is an entity that has state and behavior. It may be any real-world object like the mouse, keyboard, chair, table, pen, etc."
   ]
  },
  {
   "cell_type": "code",
   "execution_count": 20,
   "id": "b4231a30-fe3b-4d72-9e7b-baf544470ca3",
   "metadata": {},
   "outputs": [],
   "source": [
    "#Example Class/Object\n",
    "\n",
    "#Creating a class named number.\n",
    "class number:\n",
    "    x = 20"
   ]
  },
  {
   "cell_type": "code",
   "execution_count": 19,
   "id": "da88672b-406e-47b8-980d-0eb09739afdf",
   "metadata": {},
   "outputs": [
    {
     "name": "stdout",
     "output_type": "stream",
     "text": [
      "20\n"
     ]
    }
   ],
   "source": [
    "#Creating a object name n1 and print the value of x\n",
    "n1 = number()\n",
    "print(n1.x)"
   ]
  },
  {
   "cell_type": "markdown",
   "id": "cadf3cf4-bea1-408e-a1e8-874fe77d53ef",
   "metadata": {},
   "source": [
    "# Q2. Name the four pillars of OOPs."
   ]
  },
  {
   "cell_type": "markdown",
   "id": "24ab48c2-69e1-4c37-b236-8fb73a5e7086",
   "metadata": {},
   "source": [
    "### The four pillars of Oops\n",
    "1. Abstraction\n",
    "2. Encapsulation\n",
    "3. Inheritance\n",
    "4. Polymorphism"
   ]
  },
  {
   "cell_type": "markdown",
   "id": "aed7dba2-050f-40d6-acfc-6de06cc922ac",
   "metadata": {},
   "source": [
    "1. Abstraction :-                                                                                                   \n",
    "Abstraction means displaying only basic information and hiding the details. Data abstraction refers to providing only necessary information about the data to the outside world, hiding the background info or implementation.\n"
   ]
  },
  {
   "cell_type": "markdown",
   "id": "2dbe1a33-7de2-44f2-a5b2-3e71846a36d2",
   "metadata": {},
   "source": [
    "2. Encapsulation :-                                                                                            \n",
    "Encapsulation is defined as wrapping up of data and information under a single unit. In object-oriented programming, Encapsulation is defined as binding together the data and the functions that manipulate them."
   ]
  },
  {
   "cell_type": "markdown",
   "id": "b8faaf83-df3f-470c-951d-236f6f06946a",
   "metadata": {},
   "source": [
    "3. Inheritance :-                                                                                                                    \n",
    "Inheritance is the process in which two classes have a relationship with each other, and objects of one class acquire properties and features of the other class. The class which inherits the features is known as the child class, and the class whose features it inherited is called the parent class."
   ]
  },
  {
   "cell_type": "markdown",
   "id": "8931bb7d-ccd7-4571-80ef-94885024e066",
   "metadata": {},
   "source": [
    "4. Polymorphism :-                                                                                                               \n",
    "Polymorphism allows developers to create multiple methods with the same name, but with different implementations. This makes it easier to create flexible systems that are easier to understand and maintain."
   ]
  },
  {
   "cell_type": "markdown",
   "id": "aeeb7620-7746-4e4c-86ee-72019d8b9963",
   "metadata": {},
   "source": [
    "# Q3. Explain why the __init__() function is used. Give a suitable example."
   ]
  },
  {
   "cell_type": "markdown",
   "id": "e5675917-de6c-4e6c-80f2-2105e16e3335",
   "metadata": {},
   "source": [
    "*  __init()__  :-                                                                                                        \n",
    "All classes have a function called __init__(), which is always executed when the class is being initiated."
   ]
  },
  {
   "cell_type": "code",
   "execution_count": 16,
   "id": "053107a2-48cd-44a0-8ea7-e43192453954",
   "metadata": {},
   "outputs": [
    {
     "name": "stdout",
     "output_type": "stream",
     "text": [
      "The name of Dog is:  Snow\n",
      "The bread of Dog is:  Labrador\n"
     ]
    }
   ],
   "source": [
    "# Example \n",
    "class dog:\n",
    "    def __init__(self, name, bread):\n",
    "        self.name = name\n",
    "        self.bread = bread\n",
    "\n",
    "p1 = dog(\"Snow\", \"Labrador\")\n",
    "\n",
    "print(\"The name of Dog is: \",format(p1.name))\n",
    "print(\"The bread of Dog is: \",format(p1.bread))"
   ]
  },
  {
   "cell_type": "markdown",
   "id": "ade51607-c47e-4594-aa0b-1ed5d90f6a8b",
   "metadata": {},
   "source": [
    "# Q4. Why self is used in OOPs?"
   ]
  },
  {
   "cell_type": "markdown",
   "id": "a58302b8-a9d6-4a36-9eea-8d9a083645e4",
   "metadata": {},
   "source": [
    "The self parameter is a reference to the current instance of the class, and is used to access variables that belongs to the class."
   ]
  },
  {
   "cell_type": "markdown",
   "id": "0a747664-7808-4607-8a16-bcc766f31687",
   "metadata": {},
   "source": [
    "# Q5. What is inheritance? Give an example for each type of inheritance."
   ]
  },
  {
   "cell_type": "markdown",
   "id": "2efb958c-477a-4a54-b368-5976e5d9768d",
   "metadata": {},
   "source": [
    "Inheritance allows us to define a class that inherits all the methods and properties from another class.\n",
    "Parent class is the class being inherited from, also called base class.\n",
    "Child class is the class that inherits from another class, also called derived class."
   ]
  },
  {
   "cell_type": "code",
   "execution_count": null,
   "id": "b4fed51d-f750-4738-ada9-2b959e481ac4",
   "metadata": {},
   "outputs": [],
   "source": []
  }
 ],
 "metadata": {
  "kernelspec": {
   "display_name": "Python 3 (ipykernel)",
   "language": "python",
   "name": "python3"
  },
  "language_info": {
   "codemirror_mode": {
    "name": "ipython",
    "version": 3
   },
   "file_extension": ".py",
   "mimetype": "text/x-python",
   "name": "python",
   "nbconvert_exporter": "python",
   "pygments_lexer": "ipython3",
   "version": "3.10.8"
  }
 },
 "nbformat": 4,
 "nbformat_minor": 5
}
