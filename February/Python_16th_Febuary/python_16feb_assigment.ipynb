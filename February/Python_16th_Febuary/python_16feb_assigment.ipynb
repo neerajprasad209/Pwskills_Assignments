{
 "cells": [
  {
   "cell_type": "markdown",
   "id": "7aa4dedf",
   "metadata": {},
   "source": [
    "# Q1. What is a database? Differentiate between SQL and NoSQL databases."
   ]
  },
  {
   "cell_type": "markdown",
   "id": "27222662",
   "metadata": {},
   "source": [
    "## Answer:\n",
    "\n",
    "A database is a collection of organized data that is stored and managed on a computer system. It allows for efficient storage, retrieval, and manipulation of large amounts of data. A database system typically consists of software that manages the data, a database server that stores the data, and one or more applications that access the data.\n",
    "\n",
    "SQL (Structured Query Language) and NoSQL (Not only SQL) are two different types of database management systems that use different methods for storing and retrieving data. Here are some key differences between the two:\n",
    "\n",
    "|      Feature   | SQL databases                              | NoSQL databases                    |\n",
    "| :---------:    | :----------------------------------------  | :--------------------------------  |\n",
    "| Data model     | Relational data model                      | Flexible data model                |\n",
    "| Query language | SQL                                        | Database-specific query language   |\n",
    "| Scalability    | Vertically scalable                        | Horizontally scalable              |\n",
    "| Consistency    | Strong consistency                         | May offer weaker consistency models|\n",
    "| Usage          | Complex queries and transactions           | Fast and flexible data processing  |\n",
    "\n",
    "Here are some examples of each databases:\n",
    "1. SQL Databases:\n",
    "    * mySQL\n",
    "    * Oracle\n",
    "    * PostgreSQL\n",
    "    * Microsoft SQL Server\n",
    "    * SQLite\n",
    "2. NoSQL Databases:\n",
    "    * MongoDB (document-oriented)\n",
    "    * Cassandra (column-family)\n",
    "    * Redis (key-value)\n",
    "    * Neo4j (graph)\n",
    "    * Amazon DynamoDB (document-oriented)\n",
    "\n",
    "\n",
    "Similarly, there are many different types of SQL databases, each with their own features and benefits. For example, MySQL is a popular choice for web applications due to its fast performance and scalability, while PostgreSQL is often used for data warehousing and business intelligence applications due to its advanced query optimization capabilities.\n",
    "\n",
    "Ultimately, the choice between SQL and NoSQL databases will depend on the specific requirements of your application and the type of data you need to store and process."
   ]
  },
  {
   "cell_type": "markdown",
   "id": "9e744f45",
   "metadata": {},
   "source": [
    "# Q2. What is DDL? Explain why CREATE, DROP, ALTER, and TRUNCATE are used with an example."
   ]
  },
  {
   "cell_type": "markdown",
   "id": "7c89c481",
   "metadata": {},
   "source": [
    "## Answer : DDL stands for Data Definition Language, which is a subset of SQL used to create, modify, and delete database objects such as tables, indexes, and views."
   ]
  },
  {
   "cell_type": "markdown",
   "id": "4c1fd558",
   "metadata": {},
   "source": [
    "### Establishing Connection with SQLite3"
   ]
  },
  {
   "cell_type": "markdown",
   "id": "9bd0f074",
   "metadata": {},
   "source": [
    "#### Dependencies required : sqlalchemy==1.3.9 , ipython-sql\n",
    "Using !pip install to install above package through this jupyter notebook"
   ]
  },
  {
   "cell_type": "code",
   "execution_count": 4,
   "id": "c50aee86",
   "metadata": {},
   "outputs": [
    {
     "name": "stdout",
     "output_type": "stream",
     "text": [
      "Collecting sqlalchemy==1.3.9\n",
      "  Downloading SQLAlchemy-1.3.9.tar.gz (6.0 MB)\n",
      "     ---------------------------------------- 6.0/6.0 MB 7.6 MB/s eta 0:00:00\n",
      "  Preparing metadata (setup.py): started\n",
      "  Preparing metadata (setup.py): finished with status 'done'\n",
      "Collecting ipython-sql\n",
      "  Downloading ipython_sql-0.5.0-py3-none-any.whl (20 kB)\n",
      "Requirement already satisfied: ipython-genutils in c:\\users\\neeraj\\anaconda3\\lib\\site-packages (from ipython-sql) (0.2.0)\n",
      "  Downloading ipython_sql-0.4.1-py3-none-any.whl (21 kB)\n",
      "Collecting sqlparse\n",
      "  Downloading sqlparse-0.4.4-py3-none-any.whl (41 kB)\n",
      "     ---------------------------------------- 41.2/41.2 kB ? eta 0:00:00\n",
      "Requirement already satisfied: six in c:\\users\\neeraj\\anaconda3\\lib\\site-packages (from ipython-sql) (1.16.0)\n",
      "Requirement already satisfied: ipython>=1.0 in c:\\users\\neeraj\\anaconda3\\lib\\site-packages (from ipython-sql) (8.10.0)\n",
      "Collecting prettytable<1\n",
      "  Downloading prettytable-0.7.2.zip (28 kB)\n",
      "  Preparing metadata (setup.py): started\n",
      "  Preparing metadata (setup.py): finished with status 'done'\n",
      "Requirement already satisfied: prompt-toolkit<3.1.0,>=3.0.30 in c:\\users\\neeraj\\anaconda3\\lib\\site-packages (from ipython>=1.0->ipython-sql) (3.0.36)\n",
      "Requirement already satisfied: pygments>=2.4.0 in c:\\users\\neeraj\\anaconda3\\lib\\site-packages (from ipython>=1.0->ipython-sql) (2.11.2)\n",
      "Requirement already satisfied: jedi>=0.16 in c:\\users\\neeraj\\anaconda3\\lib\\site-packages (from ipython>=1.0->ipython-sql) (0.18.1)\n",
      "Requirement already satisfied: traitlets>=5 in c:\\users\\neeraj\\anaconda3\\lib\\site-packages (from ipython>=1.0->ipython-sql) (5.7.1)\n",
      "Requirement already satisfied: decorator in c:\\users\\neeraj\\anaconda3\\lib\\site-packages (from ipython>=1.0->ipython-sql) (5.1.1)\n",
      "Requirement already satisfied: stack-data in c:\\users\\neeraj\\anaconda3\\lib\\site-packages (from ipython>=1.0->ipython-sql) (0.2.0)\n",
      "Requirement already satisfied: colorama in c:\\users\\neeraj\\anaconda3\\lib\\site-packages (from ipython>=1.0->ipython-sql) (0.4.6)\n",
      "Requirement already satisfied: matplotlib-inline in c:\\users\\neeraj\\anaconda3\\lib\\site-packages (from ipython>=1.0->ipython-sql) (0.1.6)\n",
      "Requirement already satisfied: pickleshare in c:\\users\\neeraj\\anaconda3\\lib\\site-packages (from ipython>=1.0->ipython-sql) (0.7.5)\n",
      "Requirement already satisfied: backcall in c:\\users\\neeraj\\anaconda3\\lib\\site-packages (from ipython>=1.0->ipython-sql) (0.2.0)\n",
      "Requirement already satisfied: parso<0.9.0,>=0.8.0 in c:\\users\\neeraj\\anaconda3\\lib\\site-packages (from jedi>=0.16->ipython>=1.0->ipython-sql) (0.8.3)\n",
      "Requirement already satisfied: wcwidth in c:\\users\\neeraj\\anaconda3\\lib\\site-packages (from prompt-toolkit<3.1.0,>=3.0.30->ipython>=1.0->ipython-sql) (0.2.5)\n",
      "Requirement already satisfied: asttokens in c:\\users\\neeraj\\anaconda3\\lib\\site-packages (from stack-data->ipython>=1.0->ipython-sql) (2.0.5)\n",
      "Requirement already satisfied: executing in c:\\users\\neeraj\\anaconda3\\lib\\site-packages (from stack-data->ipython>=1.0->ipython-sql) (0.8.3)\n",
      "Requirement already satisfied: pure-eval in c:\\users\\neeraj\\anaconda3\\lib\\site-packages (from stack-data->ipython>=1.0->ipython-sql) (0.2.2)\n",
      "Building wheels for collected packages: sqlalchemy, prettytable\n",
      "  Building wheel for sqlalchemy (setup.py): started\n",
      "  Building wheel for sqlalchemy (setup.py): finished with status 'done'\n",
      "  Created wheel for sqlalchemy: filename=SQLAlchemy-1.3.9-cp310-cp310-win_amd64.whl size=1142948 sha256=770413349f77444e83ca69e5aff06870d9eea3dc4a7ddbe8f9b81b0a85b15879\n",
      "  Stored in directory: c:\\users\\neeraj\\appdata\\local\\pip\\cache\\wheels\\66\\e3\\30\\28b647805efa547d8f190c0ea36dbce63a098cd732559acf2f\n",
      "  Building wheel for prettytable (setup.py): started\n",
      "  Building wheel for prettytable (setup.py): finished with status 'done'\n",
      "  Created wheel for prettytable: filename=prettytable-0.7.2-py3-none-any.whl size=13705 sha256=30bf52742bfc339c15b74c7d99bfaf746357733c0edc78294a817e8a295dcb76\n",
      "  Stored in directory: c:\\users\\neeraj\\appdata\\local\\pip\\cache\\wheels\\ec\\32\\b1\\b9dda552a609c834467b28a174fa60d2c102e17857ccafd95b\n",
      "Successfully built sqlalchemy prettytable\n",
      "Installing collected packages: prettytable, sqlparse, sqlalchemy, ipython-sql\n",
      "  Attempting uninstall: sqlalchemy\n",
      "    Found existing installation: SQLAlchemy 1.4.39\n",
      "    Uninstalling SQLAlchemy-1.4.39:\n",
      "      Successfully uninstalled SQLAlchemy-1.4.39\n",
      "Successfully installed ipython-sql-0.4.1 prettytable-0.7.2 sqlalchemy-1.3.9 sqlparse-0.4.4\n"
     ]
    }
   ],
   "source": [
    "!pip install sqlalchemy==1.3.9 ipython-sql"
   ]
  },
  {
   "cell_type": "code",
   "execution_count": 5,
   "id": "b8c35d69",
   "metadata": {},
   "outputs": [],
   "source": [
    "%load_ext sql"
   ]
  },
  {
   "cell_type": "code",
   "execution_count": 6,
   "id": "584cae65",
   "metadata": {},
   "outputs": [],
   "source": [
    "import csv, sqlite3\n",
    "con = sqlite3.connect(\"test.db\")\n",
    "cur = con.cursor()"
   ]
  },
  {
   "cell_type": "code",
   "execution_count": 7,
   "id": "517ff507",
   "metadata": {},
   "outputs": [],
   "source": [
    "%sql sqlite:///test.db"
   ]
  },
  {
   "cell_type": "markdown",
   "id": "b6956386",
   "metadata": {},
   "source": [
    "### With above a connection is now established to test.db and we can directly write a query with %%sql magic command using above"
   ]
  },
  {
   "cell_type": "markdown",
   "id": "f911d36e",
   "metadata": {},
   "source": [
    "Note: The %%sql command is a Jupyter Notebook magic command that allows you to execute SQL queries directly in a notebook cell. Provided that database connection is established"
   ]
  },
  {
   "cell_type": "markdown",
   "id": "c0ce4326",
   "metadata": {},
   "source": [
    "## Below are DDL Commands executed with %%sql magic cammand"
   ]
  },
  {
   "cell_type": "markdown",
   "id": "5cc2a108",
   "metadata": {},
   "source": [
    "1. CREATE: The CREATE command is used to create a new database object, such as a table, index, or view. For example, to create a new table called \"users\" with columns for a user's name, email, and password, you would use the following SQL statement:"
   ]
  },
  {
   "cell_type": "code",
   "execution_count": 11,
   "id": "6d6031a3",
   "metadata": {},
   "outputs": [
    {
     "name": "stdout",
     "output_type": "stream",
     "text": [
      " * sqlite:///test.db\n",
      "Done.\n"
     ]
    },
    {
     "data": {
      "text/plain": [
       "[]"
      ]
     },
     "execution_count": 11,
     "metadata": {},
     "output_type": "execute_result"
    }
   ],
   "source": [
    "%%sql\n",
    "CREATE TABLE if not exists users\n",
    "(id INT PRIMARY KEY,\n",
    "name VARCHAR(50) NOT NULL,\n",
    "email VARCHAR(50) NOT NULL,\n",
    "password VARCHAR(50) NOT NULL);"
   ]
  },
  {
   "cell_type": "code",
   "execution_count": 12,
   "id": "e7b421f6",
   "metadata": {},
   "outputs": [
    {
     "name": "stdout",
     "output_type": "stream",
     "text": [
      " * sqlite:///test.db\n",
      "Done.\n"
     ]
    },
    {
     "data": {
      "text/html": [
       "<table>\n",
       "    <tr>\n",
       "        <th>id</th>\n",
       "        <th>name</th>\n",
       "        <th>email</th>\n",
       "        <th>password</th>\n",
       "    </tr>\n",
       "</table>"
      ],
      "text/plain": [
       "[]"
      ]
     },
     "execution_count": 12,
     "metadata": {},
     "output_type": "execute_result"
    }
   ],
   "source": [
    "# Viewing Above table\n",
    "%sql SELECT * FROM users;"
   ]
  },
  {
   "cell_type": "markdown",
   "id": "323567fe",
   "metadata": {},
   "source": [
    "2. DROP: The DROP command is used to delete an existing database object. For example, to delete the \"users\" table created in the previous example, you would use the following SQL statement:"
   ]
  },
  {
   "cell_type": "code",
   "execution_count": 14,
   "id": "16efa96d",
   "metadata": {},
   "outputs": [
    {
     "name": "stdout",
     "output_type": "stream",
     "text": [
      " * sqlite:///test.db\n",
      "Done.\n"
     ]
    },
    {
     "data": {
      "text/plain": [
       "[]"
      ]
     },
     "execution_count": 14,
     "metadata": {},
     "output_type": "execute_result"
    }
   ],
   "source": [
    "# DROP example to delete tables\n",
    "%sql DROP TABLE users;"
   ]
  },
  {
   "cell_type": "code",
   "execution_count": 15,
   "id": "35de76b8",
   "metadata": {},
   "outputs": [
    {
     "name": "stdout",
     "output_type": "stream",
     "text": [
      " * sqlite:///test.db\n",
      "(sqlite3.OperationalError) no such table: users\n",
      "[SQL: SELECT * FROM users]\n",
      "(Background on this error at: http://sqlalche.me/e/e3q8)\n"
     ]
    }
   ],
   "source": [
    "%sql SELECT * FROM users\n",
    "#Below output shows that users table is deleted (no such table: users)"
   ]
  },
  {
   "cell_type": "markdown",
   "id": "6f4fb6d0",
   "metadata": {},
   "source": [
    "3. ALTER: The ALTER command is used to modify an existing database object, such as a table, index, or view. For example, to add a new column to the \"users\" table to track a user's login status."
   ]
  },
  {
   "cell_type": "code",
   "execution_count": 17,
   "id": "a40f2957",
   "metadata": {},
   "outputs": [
    {
     "name": "stdout",
     "output_type": "stream",
     "text": [
      " * sqlite:///test.db\n",
      "Done.\n"
     ]
    },
    {
     "data": {
      "text/plain": [
       "[]"
      ]
     },
     "execution_count": 17,
     "metadata": {},
     "output_type": "execute_result"
    }
   ],
   "source": [
    "%%sql\n",
    "CREATE TABLE if not exists users\n",
    "(id INT PRIMARY KEY,\n",
    "name VARCHAR(50) NOT NULL,\n",
    "email VARCHAR(50) NOT NULL,\n",
    "password VARCHAR(50) NOT NULL);"
   ]
  },
  {
   "cell_type": "code",
   "execution_count": 18,
   "id": "548473d4",
   "metadata": {},
   "outputs": [
    {
     "name": "stdout",
     "output_type": "stream",
     "text": [
      " * sqlite:///test.db\n",
      "Done.\n"
     ]
    },
    {
     "data": {
      "text/html": [
       "<table>\n",
       "    <tr>\n",
       "        <th>id</th>\n",
       "        <th>name</th>\n",
       "        <th>email</th>\n",
       "        <th>password</th>\n",
       "    </tr>\n",
       "</table>"
      ],
      "text/plain": [
       "[]"
      ]
     },
     "execution_count": 18,
     "metadata": {},
     "output_type": "execute_result"
    }
   ],
   "source": [
    "%sql SELECT * FROM users;"
   ]
  },
  {
   "cell_type": "code",
   "execution_count": 19,
   "id": "72825f28",
   "metadata": {},
   "outputs": [
    {
     "name": "stdout",
     "output_type": "stream",
     "text": [
      " * sqlite:///test.db\n",
      "Done.\n"
     ]
    },
    {
     "data": {
      "text/plain": [
       "[]"
      ]
     },
     "execution_count": 19,
     "metadata": {},
     "output_type": "execute_result"
    }
   ],
   "source": [
    "%sql ALTER TABLE users ADD COLUMN login_status BOOLEAN;"
   ]
  },
  {
   "cell_type": "code",
   "execution_count": 20,
   "id": "a7f07187",
   "metadata": {},
   "outputs": [
    {
     "name": "stdout",
     "output_type": "stream",
     "text": [
      " * sqlite:///test.db\n",
      "Done.\n"
     ]
    },
    {
     "data": {
      "text/html": [
       "<table>\n",
       "    <tr>\n",
       "        <th>id</th>\n",
       "        <th>name</th>\n",
       "        <th>email</th>\n",
       "        <th>password</th>\n",
       "        <th>login_status</th>\n",
       "    </tr>\n",
       "</table>"
      ],
      "text/plain": [
       "[]"
      ]
     },
     "execution_count": 20,
     "metadata": {},
     "output_type": "execute_result"
    }
   ],
   "source": [
    "%sql SELECT * FROM users;"
   ]
  },
  {
   "cell_type": "markdown",
   "id": "4481d4b1",
   "metadata": {},
   "source": [
    "4. TRUNCATE: The TRUNCATE command is used to delete all the rows in a table, while keeping the table structure intact. For example, to delete all the data in the \"users\" table but keep the table structure, you would use the following SQL statement:\n",
    "\n",
    "***Please note that SQLite has command : DELETE FROM table_name*** instead of TRUNCATE from mySQL\n",
    "\n",
    "Command in my SQL is as below:<br>\n",
    "TRUNCATE TABLE table_name"
   ]
  },
  {
   "cell_type": "code",
   "execution_count": 22,
   "id": "4f4f8147",
   "metadata": {},
   "outputs": [
    {
     "name": "stdout",
     "output_type": "stream",
     "text": [
      " * sqlite:///test.db\n",
      "Done.\n"
     ]
    },
    {
     "data": {
      "text/html": [
       "<table>\n",
       "    <tr>\n",
       "        <th>id</th>\n",
       "        <th>name</th>\n",
       "        <th>email</th>\n",
       "        <th>password</th>\n",
       "        <th>login_status</th>\n",
       "    </tr>\n",
       "</table>"
      ],
      "text/plain": [
       "[]"
      ]
     },
     "execution_count": 22,
     "metadata": {},
     "output_type": "execute_result"
    }
   ],
   "source": [
    "%sql select * from users;"
   ]
  },
  {
   "cell_type": "code",
   "execution_count": 23,
   "id": "31167537",
   "metadata": {},
   "outputs": [
    {
     "name": "stdout",
     "output_type": "stream",
     "text": [
      " * sqlite:///test.db\n",
      "1 rows affected.\n",
      "1 rows affected.\n"
     ]
    },
    {
     "data": {
      "text/plain": [
       "[]"
      ]
     },
     "execution_count": 23,
     "metadata": {},
     "output_type": "execute_result"
    }
   ],
   "source": [
    "%%sql \n",
    "INSERT INTO users VALUES (1,'Joe','test@test.com','123#413s',False);\n",
    "INSERT INTO users VALUES (2, 'Chandler','test@jane.com','21wdds2',True); "
   ]
  },
  {
   "cell_type": "code",
   "execution_count": 24,
   "id": "a793e1f1",
   "metadata": {},
   "outputs": [
    {
     "name": "stdout",
     "output_type": "stream",
     "text": [
      " * sqlite:///test.db\n",
      "Done.\n"
     ]
    },
    {
     "data": {
      "text/html": [
       "<table>\n",
       "    <tr>\n",
       "        <th>id</th>\n",
       "        <th>name</th>\n",
       "        <th>email</th>\n",
       "        <th>password</th>\n",
       "        <th>login_status</th>\n",
       "    </tr>\n",
       "    <tr>\n",
       "        <td>1</td>\n",
       "        <td>Joe</td>\n",
       "        <td>test@test.com</td>\n",
       "        <td>123#413s</td>\n",
       "        <td>0</td>\n",
       "    </tr>\n",
       "    <tr>\n",
       "        <td>2</td>\n",
       "        <td>Chandler</td>\n",
       "        <td>test@jane.com</td>\n",
       "        <td>21wdds2</td>\n",
       "        <td>1</td>\n",
       "    </tr>\n",
       "</table>"
      ],
      "text/plain": [
       "[(1, 'Joe', 'test@test.com', '123#413s', 0),\n",
       " (2, 'Chandler', 'test@jane.com', '21wdds2', 1)]"
      ]
     },
     "execution_count": 24,
     "metadata": {},
     "output_type": "execute_result"
    }
   ],
   "source": [
    "%sql SELECT * FROM users;"
   ]
  },
  {
   "cell_type": "code",
   "execution_count": 25,
   "id": "05c56b3f",
   "metadata": {},
   "outputs": [
    {
     "name": "stdout",
     "output_type": "stream",
     "text": [
      " * sqlite:///test.db\n",
      "2 rows affected.\n"
     ]
    },
    {
     "data": {
      "text/plain": [
       "[]"
      ]
     },
     "execution_count": 25,
     "metadata": {},
     "output_type": "execute_result"
    }
   ],
   "source": [
    "%sql DELETE FROM users;"
   ]
  },
  {
   "cell_type": "code",
   "execution_count": 26,
   "id": "23ceb3c5",
   "metadata": {},
   "outputs": [
    {
     "name": "stdout",
     "output_type": "stream",
     "text": [
      " * sqlite:///test.db\n",
      "Done.\n"
     ]
    },
    {
     "data": {
      "text/html": [
       "<table>\n",
       "    <tr>\n",
       "        <th>id</th>\n",
       "        <th>name</th>\n",
       "        <th>email</th>\n",
       "        <th>password</th>\n",
       "        <th>login_status</th>\n",
       "    </tr>\n",
       "</table>"
      ],
      "text/plain": [
       "[]"
      ]
     },
     "execution_count": 26,
     "metadata": {},
     "output_type": "execute_result"
    }
   ],
   "source": [
    "%sql SELECT * FROM users;"
   ]
  },
  {
   "cell_type": "markdown",
   "id": "87408727",
   "metadata": {},
   "source": [
    "# Q3. What is DML? Explain INSERT, UPDATE, and DELETE with an example."
   ]
  },
  {
   "cell_type": "markdown",
   "id": "3e84d24f",
   "metadata": {},
   "source": [
    "## Answer : DML stands for \"Data Manipulation Language,\" and it is a subset of SQL (Structured Query Language) that is used to manipulate data within a database. The three main commands in DML are INSERT, UPDATE, and DELETE."
   ]
  },
  {
   "cell_type": "markdown",
   "id": "ba29e0a8",
   "metadata": {},
   "source": [
    "### Creating a Blank Table first with student information grades"
   ]
  },
  {
   "cell_type": "code",
   "execution_count": 34,
   "id": "a4760e34",
   "metadata": {},
   "outputs": [
    {
     "name": "stdout",
     "output_type": "stream",
     "text": [
      " * sqlite:///test.db\n",
      "Done.\n"
     ]
    },
    {
     "data": {
      "text/plain": [
       "[]"
      ]
     },
     "execution_count": 34,
     "metadata": {},
     "output_type": "execute_result"
    }
   ],
   "source": [
    "%%sql\n",
    "CREATE TABLE if not exists students\n",
    "(name VARCHAR(50) ,\n",
    "age INT ,\n",
    "grade VARCHAR(2));"
   ]
  },
  {
   "cell_type": "code",
   "execution_count": 35,
   "id": "f491d712",
   "metadata": {},
   "outputs": [
    {
     "name": "stdout",
     "output_type": "stream",
     "text": [
      " * sqlite:///test.db\n",
      "Done.\n"
     ]
    },
    {
     "data": {
      "text/html": [
       "<table>\n",
       "    <tr>\n",
       "        <th>name</th>\n",
       "        <th>age</th>\n",
       "        <th>grade</th>\n",
       "    </tr>\n",
       "</table>"
      ],
      "text/plain": [
       "[]"
      ]
     },
     "execution_count": 35,
     "metadata": {},
     "output_type": "execute_result"
    }
   ],
   "source": [
    "# Viewing the students table\n",
    "%sql SELECT * FROM students"
   ]
  },
  {
   "cell_type": "markdown",
   "id": "1a3cd64d",
   "metadata": {},
   "source": [
    "1. INSERT - The INSERT command is used to add new data to a database table."
   ]
  },
  {
   "cell_type": "code",
   "execution_count": 36,
   "id": "224741d9",
   "metadata": {},
   "outputs": [
    {
     "name": "stdout",
     "output_type": "stream",
     "text": [
      " * sqlite:///test.db\n",
      "1 rows affected.\n"
     ]
    },
    {
     "data": {
      "text/plain": [
       "[]"
      ]
     },
     "execution_count": 36,
     "metadata": {},
     "output_type": "execute_result"
    }
   ],
   "source": [
    "#INSERT Command\n",
    "%sql INSERT INTO students VALUES ('Neeraj prasad', 28, 'B');"
   ]
  },
  {
   "cell_type": "code",
   "execution_count": 37,
   "id": "d913e845",
   "metadata": {},
   "outputs": [
    {
     "name": "stdout",
     "output_type": "stream",
     "text": [
      " * sqlite:///test.db\n",
      "Done.\n"
     ]
    },
    {
     "data": {
      "text/html": [
       "<table>\n",
       "    <tr>\n",
       "        <th>name</th>\n",
       "        <th>age</th>\n",
       "        <th>grade</th>\n",
       "    </tr>\n",
       "    <tr>\n",
       "        <td>Neeraj prasad</td>\n",
       "        <td>28</td>\n",
       "        <td>B</td>\n",
       "    </tr>\n",
       "</table>"
      ],
      "text/plain": [
       "[('Neeraj prasad', 28, 'B')]"
      ]
     },
     "execution_count": 37,
     "metadata": {},
     "output_type": "execute_result"
    }
   ],
   "source": [
    "# Viewing the table now\n",
    "%sql SELECT * FROM students"
   ]
  },
  {
   "cell_type": "markdown",
   "id": "4878006c",
   "metadata": {},
   "source": [
    "2. UPDATE: The UPDATE command is used to modify existing data in a database table"
   ]
  },
  {
   "cell_type": "code",
   "execution_count": 40,
   "id": "15d4da9a",
   "metadata": {},
   "outputs": [
    {
     "name": "stdout",
     "output_type": "stream",
     "text": [
      " * sqlite:///test.db\n",
      "1 rows affected.\n"
     ]
    },
    {
     "data": {
      "text/plain": [
       "[]"
      ]
     },
     "execution_count": 40,
     "metadata": {},
     "output_type": "execute_result"
    }
   ],
   "source": [
    "# UPDATE example\n",
    "%sql UPDATE students SET grade = 'A+' WHERE name = 'Neeraj prasad';"
   ]
  },
  {
   "cell_type": "code",
   "execution_count": 41,
   "id": "50a8a42a",
   "metadata": {},
   "outputs": [
    {
     "name": "stdout",
     "output_type": "stream",
     "text": [
      " * sqlite:///test.db\n",
      "Done.\n"
     ]
    },
    {
     "data": {
      "text/html": [
       "<table>\n",
       "    <tr>\n",
       "        <th>name</th>\n",
       "        <th>age</th>\n",
       "        <th>grade</th>\n",
       "    </tr>\n",
       "    <tr>\n",
       "        <td>Neeraj prasad</td>\n",
       "        <td>28</td>\n",
       "        <td>A+</td>\n",
       "    </tr>\n",
       "</table>"
      ],
      "text/plain": [
       "[('Neeraj prasad', 28, 'A+')]"
      ]
     },
     "execution_count": 41,
     "metadata": {},
     "output_type": "execute_result"
    }
   ],
   "source": [
    "%sql SELECT * FROM students;"
   ]
  },
  {
   "cell_type": "markdown",
   "id": "7ddba542",
   "metadata": {},
   "source": [
    "3. DELETE: The DELETE command is used to remove data from a database table."
   ]
  },
  {
   "cell_type": "code",
   "execution_count": 42,
   "id": "3d9c238c",
   "metadata": {},
   "outputs": [
    {
     "name": "stdout",
     "output_type": "stream",
     "text": [
      " * sqlite:///test.db\n",
      "1 rows affected.\n"
     ]
    },
    {
     "data": {
      "text/plain": [
       "[]"
      ]
     },
     "execution_count": 42,
     "metadata": {},
     "output_type": "execute_result"
    }
   ],
   "source": [
    "%sql DELETE FROM students WHERE name='Neeraj prasad';"
   ]
  },
  {
   "cell_type": "code",
   "execution_count": 43,
   "id": "25c56a6e",
   "metadata": {},
   "outputs": [
    {
     "name": "stdout",
     "output_type": "stream",
     "text": [
      " * sqlite:///test.db\n",
      "Done.\n"
     ]
    },
    {
     "data": {
      "text/html": [
       "<table>\n",
       "    <tr>\n",
       "        <th>name</th>\n",
       "        <th>age</th>\n",
       "        <th>grade</th>\n",
       "    </tr>\n",
       "</table>"
      ],
      "text/plain": [
       "[]"
      ]
     },
     "execution_count": 43,
     "metadata": {},
     "output_type": "execute_result"
    }
   ],
   "source": [
    "%sql SELECT * FROM students;"
   ]
  },
  {
   "cell_type": "markdown",
   "id": "82ce7f2b",
   "metadata": {},
   "source": [
    "# Q4. What is DQL? Explain SELECT with an example."
   ]
  },
  {
   "cell_type": "markdown",
   "id": "3ab32ea6",
   "metadata": {},
   "source": [
    "## Answer : DQL stands for \"Data Query Language,\" and it is a subset of SQL (Structured Query Language) that is used to retrieve data from a database. The main command in DQL is SELECT."
   ]
  },
  {
   "cell_type": "code",
   "execution_count": 44,
   "id": "e96e53a4",
   "metadata": {},
   "outputs": [
    {
     "name": "stdout",
     "output_type": "stream",
     "text": [
      " * sqlite:///test.db\n",
      "Done.\n"
     ]
    },
    {
     "data": {
      "text/html": [
       "<table>\n",
       "    <tr>\n",
       "        <th>name</th>\n",
       "        <th>age</th>\n",
       "        <th>grade</th>\n",
       "    </tr>\n",
       "</table>"
      ],
      "text/plain": [
       "[]"
      ]
     },
     "execution_count": 44,
     "metadata": {},
     "output_type": "execute_result"
    }
   ],
   "source": [
    "#Checking students table\n",
    "%sql SELECt * FROM students"
   ]
  },
  {
   "cell_type": "markdown",
   "id": "f6806c05",
   "metadata": {},
   "source": [
    "### Inserting various students using INSERT command"
   ]
  },
  {
   "cell_type": "code",
   "execution_count": 45,
   "id": "9f242c65",
   "metadata": {},
   "outputs": [
    {
     "name": "stdout",
     "output_type": "stream",
     "text": [
      " * sqlite:///test.db\n",
      "1 rows affected.\n",
      "1 rows affected.\n",
      "1 rows affected.\n",
      "1 rows affected.\n",
      "1 rows affected.\n",
      "1 rows affected.\n",
      "1 rows affected.\n"
     ]
    },
    {
     "data": {
      "text/plain": [
       "[]"
      ]
     },
     "execution_count": 45,
     "metadata": {},
     "output_type": "execute_result"
    }
   ],
   "source": [
    "%%sql\n",
    "INSERT INTO students VALUES ('Neeraj', 28, 'A');\n",
    "INSERT INTO students VALUES ('John', 35, 'B');\n",
    "INSERT INTO students VALUES ('Joe', 40, 'A');\n",
    "INSERT INTO students VALUES ('Chandler', 35, 'A');\n",
    "INSERT INTO students VALUES ('Diksha', 24, 'C');\n",
    "INSERT INTO students VALUES ('Aditi', 22, 'B');\n",
    "INSERT INTO students VALUES ('Kritika', 38, 'C')"
   ]
  },
  {
   "cell_type": "code",
   "execution_count": 46,
   "id": "da96007a",
   "metadata": {},
   "outputs": [
    {
     "name": "stdout",
     "output_type": "stream",
     "text": [
      " * sqlite:///test.db\n",
      "Done.\n"
     ]
    },
    {
     "data": {
      "text/html": [
       "<table>\n",
       "    <tr>\n",
       "        <th>name</th>\n",
       "        <th>age</th>\n",
       "        <th>grade</th>\n",
       "    </tr>\n",
       "    <tr>\n",
       "        <td>Neeraj</td>\n",
       "        <td>28</td>\n",
       "        <td>A</td>\n",
       "    </tr>\n",
       "    <tr>\n",
       "        <td>John</td>\n",
       "        <td>35</td>\n",
       "        <td>B</td>\n",
       "    </tr>\n",
       "    <tr>\n",
       "        <td>Joe</td>\n",
       "        <td>40</td>\n",
       "        <td>A</td>\n",
       "    </tr>\n",
       "    <tr>\n",
       "        <td>Chandler</td>\n",
       "        <td>35</td>\n",
       "        <td>A</td>\n",
       "    </tr>\n",
       "    <tr>\n",
       "        <td>Diksha</td>\n",
       "        <td>24</td>\n",
       "        <td>C</td>\n",
       "    </tr>\n",
       "    <tr>\n",
       "        <td>Aditi</td>\n",
       "        <td>22</td>\n",
       "        <td>B</td>\n",
       "    </tr>\n",
       "    <tr>\n",
       "        <td>Kritika</td>\n",
       "        <td>38</td>\n",
       "        <td>C</td>\n",
       "    </tr>\n",
       "</table>"
      ],
      "text/plain": [
       "[('Neeraj', 28, 'A'),\n",
       " ('John', 35, 'B'),\n",
       " ('Joe', 40, 'A'),\n",
       " ('Chandler', 35, 'A'),\n",
       " ('Diksha', 24, 'C'),\n",
       " ('Aditi', 22, 'B'),\n",
       " ('Kritika', 38, 'C')]"
      ]
     },
     "execution_count": 46,
     "metadata": {},
     "output_type": "execute_result"
    }
   ],
   "source": [
    "# Selecting Entire students table\n",
    "%sql SELECT * from students;"
   ]
  },
  {
   "cell_type": "code",
   "execution_count": 47,
   "id": "8d81c8db",
   "metadata": {},
   "outputs": [
    {
     "name": "stdout",
     "output_type": "stream",
     "text": [
      " * sqlite:///test.db\n",
      "Done.\n"
     ]
    },
    {
     "data": {
      "text/html": [
       "<table>\n",
       "    <tr>\n",
       "        <th>name</th>\n",
       "        <th>age</th>\n",
       "    </tr>\n",
       "    <tr>\n",
       "        <td>Neeraj</td>\n",
       "        <td>28</td>\n",
       "    </tr>\n",
       "    <tr>\n",
       "        <td>John</td>\n",
       "        <td>35</td>\n",
       "    </tr>\n",
       "    <tr>\n",
       "        <td>Joe</td>\n",
       "        <td>40</td>\n",
       "    </tr>\n",
       "    <tr>\n",
       "        <td>Chandler</td>\n",
       "        <td>35</td>\n",
       "    </tr>\n",
       "    <tr>\n",
       "        <td>Diksha</td>\n",
       "        <td>24</td>\n",
       "    </tr>\n",
       "    <tr>\n",
       "        <td>Aditi</td>\n",
       "        <td>22</td>\n",
       "    </tr>\n",
       "    <tr>\n",
       "        <td>Kritika</td>\n",
       "        <td>38</td>\n",
       "    </tr>\n",
       "</table>"
      ],
      "text/plain": [
       "[('Neeraj', 28),\n",
       " ('John', 35),\n",
       " ('Joe', 40),\n",
       " ('Chandler', 35),\n",
       " ('Diksha', 24),\n",
       " ('Aditi', 22),\n",
       " ('Kritika', 38)]"
      ]
     },
     "execution_count": 47,
     "metadata": {},
     "output_type": "execute_result"
    }
   ],
   "source": [
    "# Example 2 : Show only name and age of students\n",
    "%sql SELECT name, age FROM students;"
   ]
  },
  {
   "cell_type": "code",
   "execution_count": 48,
   "id": "65ec1572",
   "metadata": {},
   "outputs": [
    {
     "name": "stdout",
     "output_type": "stream",
     "text": [
      " * sqlite:///test.db\n",
      "Done.\n"
     ]
    },
    {
     "data": {
      "text/html": [
       "<table>\n",
       "    <tr>\n",
       "        <th>name</th>\n",
       "        <th>age</th>\n",
       "        <th>grade</th>\n",
       "    </tr>\n",
       "    <tr>\n",
       "        <td>Neeraj</td>\n",
       "        <td>28</td>\n",
       "        <td>A</td>\n",
       "    </tr>\n",
       "    <tr>\n",
       "        <td>Joe</td>\n",
       "        <td>40</td>\n",
       "        <td>A</td>\n",
       "    </tr>\n",
       "    <tr>\n",
       "        <td>Chandler</td>\n",
       "        <td>35</td>\n",
       "        <td>A</td>\n",
       "    </tr>\n",
       "</table>"
      ],
      "text/plain": [
       "[('Neeraj', 28, 'A'), ('Joe', 40, 'A'), ('Chandler', 35, 'A')]"
      ]
     },
     "execution_count": 48,
     "metadata": {},
     "output_type": "execute_result"
    }
   ],
   "source": [
    "# Example 3: Selecting student with A Grade\n",
    "%sql SELECT * FROM students WHERE grade='A';"
   ]
  },
  {
   "cell_type": "markdown",
   "id": "83d2d116",
   "metadata": {},
   "source": [
    "# Q5. Explain Primary Key and Foreign Key."
   ]
  },
  {
   "cell_type": "markdown",
   "id": "9f04103f",
   "metadata": {},
   "source": [
    "## Answer: \n",
    "\n",
    "1. Primary Key: In a database table, a primary key is a column or a set of columns that uniquely identifies each row in the table. The primary key is used to ensure that each row in the table is unique, and it is often used as a reference by other tables. The primary key is also used to enforce data integrity, which means that it ensures that there are no duplicate or null values in the key column(s)."
   ]
  },
  {
   "cell_type": "markdown",
   "id": "9dd6ac29",
   "metadata": {},
   "source": [
    "Creating a table named \"customers\" with columns \"customer_id\", \"first_name\", \"last_name\", and \"email\". The \"customer_id\" column is defined as the primary key."
   ]
  },
  {
   "cell_type": "code",
   "execution_count": 49,
   "id": "ff71b762",
   "metadata": {},
   "outputs": [
    {
     "name": "stdout",
     "output_type": "stream",
     "text": [
      " * sqlite:///test.db\n",
      "Done.\n"
     ]
    },
    {
     "data": {
      "text/plain": [
       "[]"
      ]
     },
     "execution_count": 49,
     "metadata": {},
     "output_type": "execute_result"
    }
   ],
   "source": [
    "%%sql\n",
    "CREATE TABLE customers (\n",
    "  customer_id INT PRIMARY KEY,\n",
    "  first_name VARCHAR(50),\n",
    "  last_name VARCHAR(50),\n",
    "  email VARCHAR(100));"
   ]
  },
  {
   "cell_type": "code",
   "execution_count": 50,
   "id": "034e742c",
   "metadata": {},
   "outputs": [
    {
     "name": "stdout",
     "output_type": "stream",
     "text": [
      " * sqlite:///test.db\n",
      "Done.\n"
     ]
    },
    {
     "data": {
      "text/html": [
       "<table>\n",
       "    <tr>\n",
       "        <th>customer_id</th>\n",
       "        <th>first_name</th>\n",
       "        <th>last_name</th>\n",
       "        <th>email</th>\n",
       "    </tr>\n",
       "</table>"
      ],
      "text/plain": [
       "[]"
      ]
     },
     "execution_count": 50,
     "metadata": {},
     "output_type": "execute_result"
    }
   ],
   "source": [
    "%sql SELECT * FROM customers"
   ]
  },
  {
   "cell_type": "markdown",
   "id": "87b04eea",
   "metadata": {},
   "source": [
    "2. Foreign Key: A foreign key is a column or a set of columns in a table that refers to the primary key of another table. The foreign key is used to establish a relationship between two tables, and it ensures that the data in the foreign key column(s) of one table matches the data in the primary key column(s) of the other table.\n",
    "\n",
    "Creating a table named \"orders\" with columns \"order_id\", \"order_date\", \"customer_id\", and \"total_amount\". The \"order_id\" column is defined as the primary key, and the \"customer_id\" column is defined as a foreign key that references the \"customer_id\" column of the \"customers\" table. This establishes a relationship between the \"orders\" table and the \"customers\" table. The \"total_amount\" column is used to store the total amount of the order."
   ]
  },
  {
   "cell_type": "code",
   "execution_count": 51,
   "id": "a13fab19",
   "metadata": {},
   "outputs": [
    {
     "name": "stdout",
     "output_type": "stream",
     "text": [
      " * sqlite:///test.db\n",
      "Done.\n"
     ]
    },
    {
     "data": {
      "text/plain": [
       "[]"
      ]
     },
     "execution_count": 51,
     "metadata": {},
     "output_type": "execute_result"
    }
   ],
   "source": [
    "%%sql\n",
    "CREATE TABLE orders (\n",
    "  order_id INT PRIMARY KEY,\n",
    "  order_date DATE,\n",
    "  customer_id INT,\n",
    "  total_amount DECIMAL(10,2),\n",
    "  FOREIGN KEY (customer_id) REFERENCES customers(customer_id));"
   ]
  },
  {
   "cell_type": "code",
   "execution_count": 52,
   "id": "7ea711dc",
   "metadata": {},
   "outputs": [
    {
     "name": "stdout",
     "output_type": "stream",
     "text": [
      " * sqlite:///test.db\n",
      "Done.\n"
     ]
    },
    {
     "data": {
      "text/html": [
       "<table>\n",
       "    <tr>\n",
       "        <th>order_id</th>\n",
       "        <th>order_date</th>\n",
       "        <th>customer_id</th>\n",
       "        <th>total_amount</th>\n",
       "    </tr>\n",
       "</table>"
      ],
      "text/plain": [
       "[]"
      ]
     },
     "execution_count": 52,
     "metadata": {},
     "output_type": "execute_result"
    }
   ],
   "source": [
    "%sql SELECT * FROM orders"
   ]
  },
  {
   "cell_type": "markdown",
   "id": "8bbc9a43",
   "metadata": {},
   "source": [
    "### Closing SQLite datbase connection"
   ]
  },
  {
   "cell_type": "code",
   "execution_count": 53,
   "id": "079a8622",
   "metadata": {},
   "outputs": [],
   "source": [
    "con.close()"
   ]
  },
  {
   "cell_type": "markdown",
   "id": "521c1444",
   "metadata": {},
   "source": [
    "# Q6. Write a python code to connect MySQL to python. Explain the cursor() and execute() method."
   ]
  },
  {
   "cell_type": "code",
   "execution_count": 57,
   "id": "0cbdff29",
   "metadata": {},
   "outputs": [
    {
     "name": "stdout",
     "output_type": "stream",
     "text": [
      "<mysql.connector.connection_cext.CMySQLConnection object at 0x0000022E1A652B90>\n",
      "('information_schema',)\n",
      "('my',)\n",
      "('mydb',)\n",
      "('mysql',)\n",
      "('performance_schema',)\n",
      "('sales',)\n",
      "('sys',)\n"
     ]
    }
   ],
   "source": [
    "import mysql.connector\n",
    "# import mysql.connector\n",
    "#create user 'user'@'%' identified by 'password'\n",
    "mydb = mysql.connector.connect(\n",
    "  host=\"localhost\",\n",
    "  user=\"root\",\n",
    "  password=\"admin\"\n",
    ")\n",
    "print(mydb)\n",
    "mycursor = mydb.cursor()\n",
    "mycursor.execute(\"SHOW DATABASES\")\n",
    "for x in mycursor:\n",
    "    print(x)\n",
    "mydb.close()"
   ]
  },
  {
   "cell_type": "markdown",
   "id": "14546d54",
   "metadata": {},
   "source": [
    "1. In above code, we first establish a connection to a MySQL database using the mysql.connector.connect() method, which takes the host, user, password as arguments.\n",
    "2. Next, we create a cursor object using the cursor() method of the connection object. The cursor object allows us to execute queries and fetch results.\n",
    "3. We then execute a SQL query using the execute() method of the cursor object, which takes the SQL query as an argument."
   ]
  },
  {
   "cell_type": "markdown",
   "id": "b2953d71",
   "metadata": {},
   "source": [
    "# Q7. Give the order of execution of SQL clauses in an SQL query."
   ]
  },
  {
   "cell_type": "markdown",
   "id": "aaf42834",
   "metadata": {},
   "source": [
    "## Answer: In an SQL query, the clauses are executed in the following order:\n",
    "1. FROM clause: Specifies the table or tables from which to retrieve data.\n",
    "\n",
    "2. JOIN clause: Specifies how to join multiple tables together, if needed.\n",
    "\n",
    "3. WHERE clause: Specifies which rows to retrieve based on a set of conditions.\n",
    "\n",
    "4. GROUP BY clause: Specifies how to group rows based on one or more columns.\n",
    "\n",
    "5. HAVING clause: Specifies which groups to retrieve based on a set of conditions.\n",
    "\n",
    "6. SELECT clause: Specifies which columns to retrieve.\n",
    "\n",
    "7. DISTINCT clause: Specifies to retrieve only distinct values of the specified columns.\n",
    "\n",
    "8. ORDER BY clause: Specifies how to sort the retrieved rows based on one or more columns.\n",
    "\n",
    "9. LIMIT clause: Specifies the maximum number of rows to retrieve."
   ]
  },
  {
   "cell_type": "code",
   "execution_count": null,
   "id": "df13672c",
   "metadata": {},
   "outputs": [],
   "source": []
  }
 ],
 "metadata": {
  "kernelspec": {
   "display_name": "Python 3 (ipykernel)",
   "language": "python",
   "name": "python3"
  },
  "language_info": {
   "codemirror_mode": {
    "name": "ipython",
    "version": 3
   },
   "file_extension": ".py",
   "mimetype": "text/x-python",
   "name": "python",
   "nbconvert_exporter": "python",
   "pygments_lexer": "ipython3",
   "version": "3.10.9"
  }
 },
 "nbformat": 4,
 "nbformat_minor": 5
}
