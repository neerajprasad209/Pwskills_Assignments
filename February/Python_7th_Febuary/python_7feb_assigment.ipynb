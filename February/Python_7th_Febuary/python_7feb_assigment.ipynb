{
 "cells": [
  {
   "cell_type": "markdown",
   "id": "191a4602-8c12-441a-88de-1bf0304b8326",
   "metadata": {},
   "source": [
    "\n",
    " # Q1. You are writing code for a company. The requirement of the company is that you create a python function that will check whether the password entered by the user is correct or not. The function should take the password as input and return the string “Valid Password” if the entered password follows the below-given password guidelines else it should return “Invalid Password”.\n",
    "\n",
    "    1. The Password should contain at least two uppercase letters and at least two lowercase letters.\n",
    "    2. The Password should contain at least a number and three special characters.\n",
    "    3. The length of the password should be 10 characters long."
   ]
  },
  {
   "cell_type": "code",
   "execution_count": 1,
   "id": "0f8d0200-b3b6-4bbb-8f19-2e035ccb03dc",
   "metadata": {},
   "outputs": [],
   "source": [
    "def ValidPassword(password):\n",
    "        if(len(password) > 8):\n",
    "            flag = False\n",
    "            \n",
    "            for char in password:\n",
    "                if(char.isdigit()):\n",
    "                    flag = True\n",
    "                if(not char.isalnum()):\n",
    "                    flag = True\n",
    "                    \n",
    "            if flag == True:\n",
    "                return True\n",
    "            else:\n",
    "                return False"
   ]
  },
  {
   "cell_type": "code",
   "execution_count": 2,
   "id": "223cc790-5f7e-4ed0-98d1-a4acf55c7924",
   "metadata": {},
   "outputs": [],
   "source": [
    "def find_upper_lower(password):\n",
    "    upper_count = 0\n",
    "    lower_count = 0\n",
    "    for i in password:\n",
    "        if i.isalpha():\n",
    "            if i.isupper():\n",
    "                upper_count=upper_count+1\n",
    "            else:\n",
    "                lower_count=lower_count+1\n",
    "    \n",
    "    if (upper_count >= 2) and (lower_count >= 2):\n",
    "        return True\n",
    "    else:\n",
    "        return False"
   ]
  },
  {
   "cell_type": "code",
   "execution_count": 3,
   "id": "60c541fb-1bca-4134-b74e-b10bf4793b33",
   "metadata": {},
   "outputs": [
    {
     "name": "stdin",
     "output_type": "stream",
     "text": [
      "Enter the Password:  SecurE@123456\n"
     ]
    },
    {
     "name": "stdout",
     "output_type": "stream",
     "text": [
      "Vailad Password\n"
     ]
    }
   ],
   "source": [
    "password_check = input(\"Enter the Password: \") \n",
    "check1 = ValidPassword(password_check)\n",
    "check2 = find_upper_lower(password_check)\n",
    "\n",
    "if (check1 == True) and (check2 == True):\n",
    "    print(\"Vailad Password\")\n",
    "else:\n",
    "    print(\"Invalid Password\")"
   ]
  },
  {
   "cell_type": "markdown",
   "id": "05cf5dbe-b7e3-4bf4-93eb-32ca9fea906d",
   "metadata": {},
   "source": [
    "# Q2. Solve the below-given questions using at least one of the following:\n",
    "    1. Lambda function\n",
    "    2. Filter function\n",
    "    3. Zap function\n",
    "    4. List Comprehension"
   ]
  },
  {
   "cell_type": "markdown",
   "id": "411ed4f7-627a-4a2a-88cb-22fa4553158c",
   "metadata": {},
   "source": [
    "* Check if the string starts with a particular letter"
   ]
  },
  {
   "cell_type": "code",
   "execution_count": 1,
   "id": "26cb6b83-16a8-4c86-96b1-b356b7855d0e",
   "metadata": {},
   "outputs": [
    {
     "name": "stdout",
     "output_type": "stream",
     "text": [
      "True\n"
     ]
    }
   ],
   "source": [
    "starts_with = lambda x: True if x.startswith('I') else False\n",
    "print(starts_with('India'))"
   ]
  },
  {
   "cell_type": "markdown",
   "id": "de745ca5-9f79-4d63-86e7-5c3a851a8fb8",
   "metadata": {},
   "source": [
    "* Check if the string is numeric"
   ]
  },
  {
   "cell_type": "code",
   "execution_count": 7,
   "id": "f5747448-27ae-471b-9439-ca948e63ef9e",
   "metadata": {},
   "outputs": [
    {
     "name": "stdout",
     "output_type": "stream",
     "text": [
      "True\n"
     ]
    }
   ],
   "source": [
    "txt = lambda x: True if x.isnumeric() else False\n",
    "print(txt('23746'))"
   ]
  },
  {
   "cell_type": "markdown",
   "id": "8d11e23e-50ac-4bd4-b7d4-af80052209a1",
   "metadata": {},
   "source": [
    "* Sort a list of tuples having fruit names and their quantity. [(\"mango\",99),(\"orange\",80), (\"grapes\", 1000)]"
   ]
  },
  {
   "cell_type": "code",
   "execution_count": 9,
   "id": "ce97a8d2-8077-4ab6-90bb-f27f728d8fa9",
   "metadata": {},
   "outputs": [
    {
     "name": "stdout",
     "output_type": "stream",
     "text": [
      "[('orange', 80), ('mango', 99), ('grapes', 1000)]\n"
     ]
    }
   ],
   "source": [
    "fruits = [(\"mango\",99),(\"orange\",80), (\"grapes\", 1000)]\n",
    "sort_fruits = sorted(fruits, key=lambda x: x[1])\n",
    "print(sort_fruits)"
   ]
  },
  {
   "cell_type": "markdown",
   "id": "d96c1158-9c3c-46ac-b48d-f93ea01e1fb9",
   "metadata": {},
   "source": [
    "* Find the squares of numbers from 1 to 10"
   ]
  },
  {
   "cell_type": "code",
   "execution_count": 22,
   "id": "ffdabf28-a1bf-47b2-8811-d9dd5032dc9b",
   "metadata": {},
   "outputs": [
    {
     "name": "stdout",
     "output_type": "stream",
     "text": [
      "[1, 4, 9, 16, 25, 36, 49, 64, 81, 100]\n"
     ]
    }
   ],
   "source": [
    "numbers_list = list(range(1,11))  \n",
    "  \n",
    "squared_list = list(map( lambda num: num ** 2 , numbers_list ))  \n",
    "  \n",
    "print( squared_list )"
   ]
  },
  {
   "cell_type": "markdown",
   "id": "c6c9870c-6eb3-4a3a-941a-bf6c5d764a8b",
   "metadata": {},
   "source": [
    "* Find the cube root of numbers from 1 to 10"
   ]
  },
  {
   "cell_type": "code",
   "execution_count": 21,
   "id": "3818d4da-c4bc-4d2a-b557-72ac74cf587b",
   "metadata": {},
   "outputs": [
    {
     "name": "stdout",
     "output_type": "stream",
     "text": [
      "[1, 8, 27, 64, 125, 216, 343, 512, 729, 1000]\n"
     ]
    }
   ],
   "source": [
    "numbers_list = list(range(1,11))\n",
    "  \n",
    "squared_list = list(map( lambda num: num ** 3 , numbers_list ))  \n",
    "  \n",
    "print( squared_list )"
   ]
  },
  {
   "cell_type": "markdown",
   "id": "63be3903-1f69-4338-8b31-481fe6ad1378",
   "metadata": {},
   "source": [
    "* Check if a given number is even"
   ]
  },
  {
   "cell_type": "code",
   "execution_count": 40,
   "id": "7d607b30-5e11-49e6-b236-7b204ff44f1b",
   "metadata": {},
   "outputs": [
    {
     "name": "stdin",
     "output_type": "stream",
     "text": [
      "Enter number to check even or odd: 3\n"
     ]
    },
    {
     "name": "stdout",
     "output_type": "stream",
     "text": [
      "Odd\n"
     ]
    }
   ],
   "source": [
    "check = lambda x: 1 if x%2==0 else 0\n",
    "\n",
    "num = int(input(\"Enter number to check even or odd:\"))\n",
    "\n",
    "if check(num):\n",
    "    print(\"Even\")\n",
    "else:\n",
    "    print(\"Odd\")"
   ]
  },
  {
   "cell_type": "markdown",
   "id": "ffa556aa-d5f4-4786-bc99-03ce3e20ed14",
   "metadata": {},
   "source": [
    "* Filter odd numbers from the given list [ 1,2,3,4,5,6,7,8,9,10 ]"
   ]
  },
  {
   "cell_type": "code",
   "execution_count": 49,
   "id": "2fe01eb0-e168-4ca9-8d40-fc3c2c8decfb",
   "metadata": {},
   "outputs": [
    {
     "name": "stdout",
     "output_type": "stream",
     "text": [
      "5\n",
      "17\n"
     ]
    }
   ],
   "source": [
    "num = [5, 12, 17, 18, 24, 32]\n",
    "\n",
    "def myFunc(x):\n",
    "    if x%2 == 1:\n",
    "        return True\n",
    "    \n",
    "adults = filter(myFunc, num)\n",
    "\n",
    "for x in adults:\n",
    "    print(x)"
   ]
  },
  {
   "cell_type": "markdown",
   "id": "3a3723fc-36f2-4d81-b38b-3e12208e3a33",
   "metadata": {},
   "source": [
    "* Sort a list of integers into positive and negative integers lists [ 1,2,3,4,5,6,-1,-2,-3,-4,-5,0 ]"
   ]
  },
  {
   "cell_type": "code",
   "execution_count": 50,
   "id": "ec09d324-896b-4b5f-9224-b5d481b39bc0",
   "metadata": {},
   "outputs": [
    {
     "name": "stdout",
     "output_type": "stream",
     "text": [
      "Positive numbers: [1, 2, 3, 4, 5, 6]\n",
      "Negative numbers: [-1, -2, -3, -4, -5]\n"
     ]
    }
   ],
   "source": [
    "numbers = [1,2,3,4,5,6,-1,-2,-3,-4,-5,0]\n",
    "\n",
    "positive_numbers = [num for num in numbers if num > 0]\n",
    "negative_numbers = [num for num in numbers if num < 0]\n",
    "\n",
    "print(\"Positive numbers:\", positive_numbers)\n",
    "print(\"Negative numbers:\", negative_numbers)"
   ]
  },
  {
   "cell_type": "code",
   "execution_count": null,
   "id": "a25446bb-7caa-4bd2-9400-6c7ce38098c2",
   "metadata": {},
   "outputs": [],
   "source": []
  }
 ],
 "metadata": {
  "kernelspec": {
   "display_name": "Python 3 (ipykernel)",
   "language": "python",
   "name": "python3"
  },
  "language_info": {
   "codemirror_mode": {
    "name": "ipython",
    "version": 3
   },
   "file_extension": ".py",
   "mimetype": "text/x-python",
   "name": "python",
   "nbconvert_exporter": "python",
   "pygments_lexer": "ipython3",
   "version": "3.10.8"
  }
 },
 "nbformat": 4,
 "nbformat_minor": 5
}
