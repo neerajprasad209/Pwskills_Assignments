{
 "cells": [
  {
   "cell_type": "markdown",
   "id": "7703c841-fab2-4113-8c6e-cb67d867fcfc",
   "metadata": {},
   "source": [
    "# Answer. 1"
   ]
  },
  {
   "cell_type": "markdown",
   "id": "86ef129f-f6df-48cd-9a84-8daeba55571d",
   "metadata": {},
   "source": [
    "### For loop is typically used when you know the number of iteration in the loop. Basically when we use for loop when we already know the stating and the ending point of the loop."
   ]
  },
  {
   "cell_type": "code",
   "execution_count": 5,
   "id": "a3a4439d-30b6-49f1-96f7-590837d958a0",
   "metadata": {},
   "outputs": [
    {
     "name": "stdout",
     "output_type": "stream",
     "text": [
      "1\n",
      "2\n",
      "3\n",
      "4\n",
      "5\n",
      "6\n",
      "7\n",
      "8\n",
      "9\n"
     ]
    }
   ],
   "source": [
    "# For example printing natural numbers.\n",
    "for num in range(1,10):     # Here in range we know the starting point and the ending point.\n",
    "    print(num)"
   ]
  },
  {
   "cell_type": "markdown",
   "id": "577da665-2573-4416-bf22-98c7f0fe6606",
   "metadata": {},
   "source": [
    "### While loop is used when we have no clue of how many number of loop having iteration."
   ]
  },
  {
   "cell_type": "code",
   "execution_count": 19,
   "id": "5ef83e9e-7603-4fe3-86cb-ac6fd7a52112",
   "metadata": {},
   "outputs": [
    {
     "name": "stdout",
     "output_type": "stream",
     "text": [
      "21\n"
     ]
    }
   ],
   "source": [
    "# Example for while loop. print sum of digit\n",
    "num = int(input(\"Enter any number\"))  #Here we dont know what digit user put or how many itteration loop having\n",
    "res = 0\n",
    "while num > 0:\n",
    "    res = res + int(num % 10)\n",
    "    num = num/10\n",
    "    \n",
    "print(int(res))\n",
    "    "
   ]
  },
  {
   "cell_type": "markdown",
   "id": "b7577afc-2369-4026-bf99-c08c36a0ca10",
   "metadata": {},
   "source": [
    "# Answer 2"
   ]
  },
  {
   "cell_type": "code",
   "execution_count": 4,
   "id": "6b48392b-9f27-4435-9d01-569c179015ac",
   "metadata": {},
   "outputs": [
    {
     "name": "stdout",
     "output_type": "stream",
     "text": [
      "Sum of the first 10 natural numbers: 55\n",
      "Product of the first 10 natural numbers: 3628800\n"
     ]
    }
   ],
   "source": [
    "# program to print sum of first natural numbers using for loop\n",
    "\n",
    "num = 0   #Declaring the num as variable\n",
    "mul = 1   #Declaring the mul as variable\n",
    "\n",
    "for i in range(1,11):  #Starting the loop from range 1 to 10\n",
    "    num = num +i       #Assign the rasult on the num variable\n",
    "    mul = mul *i       #Assigning the result on the mul variable\n",
    "    \n",
    "print(\"Sum of the first 10 natural numbers:\",num)         #Printing the num and mul variable\n",
    "print(\"Product of the first 10 natural numbers:\",mul)"
   ]
  },
  {
   "cell_type": "code",
   "execution_count": 5,
   "id": "b191ec4d-fe2b-4a00-b569-5c4cabe362a5",
   "metadata": {},
   "outputs": [
    {
     "name": "stdout",
     "output_type": "stream",
     "text": [
      "Sum of the first 10 natural numbers: 55\n",
      "Product of the first 10 natural numbers: 3628800\n"
     ]
    }
   ],
   "source": [
    "# program to print product of first natural numbers using for loop\n",
    "\n",
    "num = 0    #Declaring the num as variable\n",
    "mul = 1    #Declaring the mul as variable\n",
    "i = 1\n",
    "\n",
    "while (i <= 10):   #Starting the loop from 1 to 10\n",
    "    num = num + i  #Assign the rasult on the num variable\n",
    "    mul = mul *i   #Assigning the result on the mul variable\n",
    "    i = i+1        #Incrementing the i variable\n",
    "    \n",
    "print(\"Sum of the first 10 natural numbers:\",num)         #Printing the num and mul variable\n",
    "print(\"Product of the first 10 natural numbers:\",mul)"
   ]
  },
  {
   "cell_type": "markdown",
   "id": "8561da88-7789-4c9a-80dd-24e798dd8620",
   "metadata": {},
   "source": [
    "# Answer. 3"
   ]
  },
  {
   "cell_type": "code",
   "execution_count": 13,
   "id": "011b8938-e58d-4165-b662-5823306b47af",
   "metadata": {},
   "outputs": [
    {
     "name": "stdin",
     "output_type": "stream",
     "text": [
      "Enter the Unit consumed by User: 310\n"
     ]
    },
    {
     "name": "stdout",
     "output_type": "stream",
     "text": [
      "The total amount of unit user consumed :  310\n",
      "The total amount user have to Pay:  2250.0\n"
     ]
    }
   ],
   "source": [
    "# Program to comput the eletricity bill of a house hold\n",
    "\n",
    "unit = int(input(\"Enter the Unit consumed by User:\"))  # Taking the input from the user in variable unit\n",
    "\n",
    "if unit <= 100:             # Putting condition if unit is less than equall to 100. So for for first 100 unit rate will be 4.5.\n",
    "    res = unit* 4.5         # calculating the first 100 unit rate and store into vriable res. \n",
    "    print(\"The total amount of unit user consumed : \",unit,)  # Printing the total unit consumed by user.\n",
    "    print(\"The total amount user have to Pay: \",res)          # printing the total amount user have to pay.\n",
    "    \n",
    "elif unit <= 200:           \n",
    "    res = (100*4.5)+(unit - 100)*6      \n",
    "    print(\"The total amount of unit user consumed : \",unit,)      \n",
    "    print(\"The total amount user have to Pay: \",res)              \n",
    "    \n",
    "elif unit <= 300:            \n",
    "    res = (100*4.5)+(200-100)*6+(unit - 200)* 10        \n",
    "    print(\"The total amount of unit user consumed : \",unit,)\n",
    "    print(\"The total amount user have to Pay: \",res)\n",
    "    \n",
    "elif unit > 300:\n",
    "    res = (100*4.5)+(200-100)*6+(300-200)* 10+(unit-300)*20\n",
    "    print(\"The total amount of unit user consumed : \",unit,)\n",
    "    print(\"The total amount user have to Pay: \",res)and \n",
    "    "
   ]
  },
  {
   "cell_type": "markdown",
   "id": "5b496f63-6f18-4f80-925d-18eb254bd76e",
   "metadata": {},
   "source": [
    "# Answer. 4"
   ]
  },
  {
   "cell_type": "code",
   "execution_count": 12,
   "id": "deda11c5-f4ab-4a76-9aea-f5649f465b15",
   "metadata": {},
   "outputs": [],
   "source": [
    "# Create a list of numbers from 1 to 100. Use for loop and while loop to calculate the cube of each number and if the cube of that number is divisible by 4 or 5 \n",
    "# then append that number in a list and print that list"
   ]
  },
  {
   "cell_type": "code",
   "execution_count": 7,
   "id": "60ea55a5-bda7-48ee-9e1d-802ea4cc734c",
   "metadata": {},
   "outputs": [
    {
     "name": "stdout",
     "output_type": "stream",
     "text": [
      "[2, 4, 5, 6, 8, 10, 12, 14, 15, 16, 18, 20, 22, 24, 25, 26, 28, 30, 32, 34, 35, 36, 38, 40, 42, 44, 45, 46, 48, 50, 52, 54, 55, 56, 58, 60, 62, 64, 65, 66, 68, 70, 72, 74, 75, 76, 78, 80, 82, 84, 85, 86, 88, 90, 92, 94, 95, 96, 98, 100]\n"
     ]
    }
   ],
   "source": [
    "my_list = [] #Declearing the my list\n",
    "\n",
    "for num in range(1,101):         #Starting the loop \n",
    "    res = num ** 3         #Calculating the cube of number\n",
    "    if res % 4 == 0 or res % 5 == 0:      #Checking the no is divisible by 4 & 5\n",
    "        my_list.append(num)     #Add the divisable no into the my list\n",
    "        \n",
    "print(my_list)      #Printing the my list"
   ]
  },
  {
   "cell_type": "code",
   "execution_count": 6,
   "id": "c1b49dd7-fb18-42b6-b99e-5071047b1725",
   "metadata": {},
   "outputs": [
    {
     "name": "stdout",
     "output_type": "stream",
     "text": [
      "[2, 4, 5, 6, 8, 10, 12, 14, 15, 16, 18, 20, 22, 24, 25, 26, 28, 30, 32, 34, 35, 36, 38, 40, 42, 44, 45, 46, 48, 50, 52, 54, 55, 56, 58, 60, 62, 64, 65, 66, 68, 70, 72, 74, 75, 76, 78, 80, 82, 84, 85, 86, 88, 90, 92, 94, 95, 96, 98, 100]\n"
     ]
    }
   ],
   "source": [
    "my_list1 = []  #Declearing the my list\n",
    "\n",
    "num = 1\n",
    "while num <= 100:     #Starting the loop\n",
    "    res = num ** 3       #Calculating the cube of number\n",
    "    if res % 4 == 0 or res % 5 ==0 :     #Checking the no is divisible by 4 & 5\n",
    "        my_list1.append(num)  #Add the divisable no into the my list\n",
    "    num = num+1    #Increnmenting the num by 1 \n",
    "    \n",
    "print(my_list1)    #Printing the my list"
   ]
  },
  {
   "cell_type": "markdown",
   "id": "82e6abfe-2a21-4bd1-b9a8-5b5dc5dda2ed",
   "metadata": {},
   "source": [
    "# Answer. 5"
   ]
  },
  {
   "cell_type": "code",
   "execution_count": 13,
   "id": "d27e77af-5591-47d8-81a4-5809dedbcc57",
   "metadata": {},
   "outputs": [
    {
     "name": "stdout",
     "output_type": "stream",
     "text": [
      "The number of vowels in the given string is: 33\n"
     ]
    }
   ],
   "source": [
    "# Program to count the vowels in the given string\n",
    "\n",
    "vowels = \"aeiouAEIOU\"   #Assign the vowels into the variable\n",
    "word = \"I want to become a data scientist\"    # assign thee given variable into the variable\n",
    "count = 0\n",
    "\n",
    "for char in word:  #Starting the loop. \n",
    "    if char in word:   #Condition if char found in the word \n",
    "        count = count+ 1    #Increment in the count by 1\n",
    "        \n",
    "print(\"The number of vowels in the given string is:\",count)    #Print the result"
   ]
  },
  {
   "cell_type": "code",
   "execution_count": null,
   "id": "ded0be90-79da-42ce-8fbc-8ee3d801cdd8",
   "metadata": {},
   "outputs": [],
   "source": []
  }
 ],
 "metadata": {
  "kernelspec": {
   "display_name": "Python 3 (ipykernel)",
   "language": "python",
   "name": "python3"
  },
  "language_info": {
   "codemirror_mode": {
    "name": "ipython",
    "version": 3
   },
   "file_extension": ".py",
   "mimetype": "text/x-python",
   "name": "python",
   "nbconvert_exporter": "python",
   "pygments_lexer": "ipython3",
   "version": "3.10.8"
  }
 },
 "nbformat": 4,
 "nbformat_minor": 5
}
