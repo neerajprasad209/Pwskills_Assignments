{
 "cells": [
  {
   "cell_type": "markdown",
   "id": "29a81b96-69f1-495f-8f8b-1f6563bef2a5",
   "metadata": {},
   "source": [
    "# Import logging method in custom format"
   ]
  },
  {
   "cell_type": "code",
   "execution_count": 4,
   "id": "ed962ac3-2be1-419f-9447-60270257c3b6",
   "metadata": {},
   "outputs": [],
   "source": [
    "import logging\n",
    "logging.basicConfig(filename='Assignment13.log',level=logging.DEBUG,format= '%(asctime)s - %(name)s - %(levelname)s - %(message)s')"
   ]
  },
  {
   "cell_type": "markdown",
   "id": "5a19759b-4374-47be-a879-1a654d6b00eb",
   "metadata": {},
   "source": [
    "# Q1: What is Multi Threading in Python? Why it is used? Name the module used to handle threads in python."
   ]
  },
  {
   "cell_type": "markdown",
   "id": "554d85ec-df25-4ef4-9f4b-47e1bc5c4e3e",
   "metadata": {},
   "source": [
    "## Answer :\n",
    "1. A thread is a unit of execution within a process. Multithreading refers to concurrently executing multiple threads by rapidly switching the control of the CPU between threads (called context switching).\n",
    "2. Threading in python is used to run multiple threads (tasks, function calls) at the same time. Note that this does not mean that they are executed on different CPUs. Python threads will NOT make your program faster if it already uses 100 % CPU time. In that case, you probably want to look into parallel programming.\n",
    "3. The module used to handle threads in python is \"threading\" module"
   ]
  },
  {
   "cell_type": "markdown",
   "id": "89a27b3c-295f-494b-98ee-718db33af344",
   "metadata": {},
   "source": [
    "### example of fetching multiple files from url with help of threading"
   ]
  },
  {
   "cell_type": "code",
   "execution_count": 5,
   "id": "96d9e054-caa9-48a7-978e-2ef1c4ecdae7",
   "metadata": {},
   "outputs": [],
   "source": [
    "#Create a function to download file \n",
    "import urllib.request\n",
    "\n",
    "def file_download(url, filename):\n",
    "    \"\"\"\n",
    "    This function downloads files from url and saves it into given filename\n",
    "    \"\"\"\n",
    "    try: \n",
    "        logging.info('This is start of file_download function')\n",
    "        urllib.request.urlretrieve(url,filename)\n",
    "        logging.info(f'File from url {url} download successfully and saved as {filename}')\n",
    "    except ValueError as e:\n",
    "        logging.error(f'{url} Url entered is incorrect, error occured : {e}')\n",
    "        raise ValueError('Please enter proper url , File not found')\n",
    "    finally:\n",
    "        logging.info('This is end of file_download function') "
   ]
  },
  {
   "cell_type": "code",
   "execution_count": 6,
   "id": "48049ca7-2c0f-4760-be5e-96263befae3a",
   "metadata": {},
   "outputs": [],
   "source": [
    "# Creating a list of URL's and filenames to save\n",
    "url_list = ['https://raw.githubusercontent.com/neerajprasad209/AssignmentPython/main/Assignment12.log',\n",
    " 'https://raw.githubusercontent.com/neerajprasad209/AssignmentPython/main/TryExcept.log',\n",
    " 'https://raw.githubusercontent.com/neerajprasad209/AssignmentPython/main/students.txt']\n",
    "\n",
    "data_file_list = ['data1.txt','data2.txt','data3.txt']"
   ]
  },
  {
   "cell_type": "code",
   "execution_count": 7,
   "id": "c2cc3355-4e5d-4275-a1ed-7625f8bb9d44",
   "metadata": {},
   "outputs": [
    {
     "data": {
      "text/plain": [
       "[<Thread(Thread-8 (file_download), initial)>,\n",
       " <Thread(Thread-9 (file_download), initial)>,\n",
       " <Thread(Thread-10 (file_download), initial)>]"
      ]
     },
     "execution_count": 7,
     "metadata": {},
     "output_type": "execute_result"
    }
   ],
   "source": [
    "# Creating Multithreading operation\n",
    "import threading\n",
    "thread = [threading.Thread(target=file_download, args=(url_list[i],data_file_list[i])) for i in range(len(url_list))]\n",
    "logging.info(thread)\n",
    "thread"
   ]
  },
  {
   "cell_type": "code",
   "execution_count": 8,
   "id": "db9abb6b-8992-47e2-b890-8463ac896ae2",
   "metadata": {},
   "outputs": [
    {
     "name": "stdout",
     "output_type": "stream",
     "text": [
      "CPU times: user 321 µs, sys: 4.33 ms, total: 4.65 ms\n",
      "Wall time: 3.51 ms\n"
     ]
    }
   ],
   "source": [
    "%%time\n",
    "# Timing the MultiThreading Time\n",
    "try:\n",
    "    logging.info('This is start of Multithreading')\n",
    "    for t in thread:\n",
    "        t.start()\n",
    "    logging.info('All Data Downloaded Successfully')\n",
    "except ValueError as e:\n",
    "    logging.error(f'url not found error occured and handled {e}' )\n",
    "    print('Url not found exception occured and handled :',e)\n",
    "except RuntimeError as e:\n",
    "    logging.error(f'RuntimeError occured : {e}')\n",
    "    print('Threads can only be started once, Error occured :',e)\n",
    "finally:\n",
    "    logging.info('This is end of Multithreading')"
   ]
  },
  {
   "cell_type": "code",
   "execution_count": 9,
   "id": "c786e65f-9e8f-46a1-825a-296a0b340507",
   "metadata": {},
   "outputs": [
    {
     "name": "stdout",
     "output_type": "stream",
     "text": [
      "CPU times: user 135 ms, sys: 6.07 ms, total: 141 ms\n",
      "Wall time: 168 ms\n"
     ]
    }
   ],
   "source": [
    "%%time\n",
    "# Timing The Normal For loop method to download files sequentially\n",
    "try :\n",
    "    logging.info('This is start of normal looping method')\n",
    "    for i in range(len(url_list)):\n",
    "        file_download(url_list[i],data_file_list[i])\n",
    "    logging.info('All Files Download successfully')\n",
    "except ValueError as e:\n",
    "    logging.error(f'Please enter proper url , Error occured : {e}')\n",
    "    print('Url not found exception occured and handled :',e)\n",
    "finally:\n",
    "    logging.info('This is end of normal looping method')"
   ]
  },
  {
   "cell_type": "markdown",
   "id": "19e43c86-7c15-4021-bc63-d67a9b54ea84",
   "metadata": {},
   "source": [
    "%%time is a magic command in Jupyter Notebook that is used to measure the execution time of a single code cell.             \n",
    "When you use this command at the beginning of a cell, Jupyter Notebook will measure the time it takes to execute             \n",
    "the entire cell and display the execution time in the output cell.          \n",
    "\n",
    "\n",
    "The CPU times section shows the amount of CPU time used by the code, while the Wall time section shows the actual                \n",
    "time it took to execute the code. This can be helpful for optimizing code and identifying performance bottlenecks.             "
   ]
  },
  {
   "cell_type": "markdown",
   "id": "a24e4512-d13e-4a38-9b6a-74bcfb2d4469",
   "metadata": {},
   "source": [
    "Above shows that Wall Time for Threading is much lesser than Normal for loop for downloading and saving multiple files."
   ]
  },
  {
   "cell_type": "markdown",
   "id": "6d363eb9-fe9b-4bcf-a7a1-d3fd3ad7439a",
   "metadata": {},
   "source": [
    "# Q2: Why Threading Module is used ? Write the use of following functions\n",
    "1. activeCount()\n",
    "2. currentThread()\n",
    "3. enumerate"
   ]
  },
  {
   "cell_type": "markdown",
   "id": "d18c82bc-0501-412c-9bc4-1a88fb479e63",
   "metadata": {},
   "source": [
    "## Answer : Python \"threading\" module allows you to have different parts of your program run concurrently and can simplify your design.<br>\n",
    "\n",
    "### Use of below functions :\n",
    "### 1. active_count() -  Returns the number of thread objects that are active.(activeCount is deprecated latest function is active_count)"
   ]
  },
  {
   "cell_type": "code",
   "execution_count": 10,
   "id": "73cbafa2-01b3-4a52-a800-8a860335e2ad",
   "metadata": {},
   "outputs": [
    {
     "name": "stdout",
     "output_type": "stream",
     "text": [
      "Currently active threads are : 8\n"
     ]
    }
   ],
   "source": [
    "# Example 1: active_count() \n",
    "print(f\"Currently active threads are : {threading.active_count()}\")\n",
    "logging.info(f\"Currently active threads are : {threading.active_count()}\")"
   ]
  },
  {
   "cell_type": "markdown",
   "id": "78ab283e-4a10-4799-842a-04413a982f09",
   "metadata": {},
   "source": [
    "### 2. current_thread() - it returns the current Thread object active at the moment.(currentThread is deprecated latest function is current_thread) "
   ]
  },
  {
   "cell_type": "code",
   "execution_count": 11,
   "id": "3b861c6f-dac2-4723-86a9-740ec379f561",
   "metadata": {},
   "outputs": [
    {
     "name": "stdout",
     "output_type": "stream",
     "text": [
      "Current thread is : <_MainThread(MainThread, started 140496661833536)>\n"
     ]
    }
   ],
   "source": [
    "# Example 2: current_thread()\n",
    "print(f\"Current thread is : {threading.current_thread()}\")\n",
    "logging.info(f\"Current thread is : {threading.current_thread()}\")"
   ]
  },
  {
   "cell_type": "markdown",
   "id": "e24a0e78-7c03-4ddc-97a7-af50ed6d8b72",
   "metadata": {},
   "source": [
    " ### 3. enumerate() -  Returns a list of all thread objects that are currently active."
   ]
  },
  {
   "cell_type": "code",
   "execution_count": 12,
   "id": "c4d34546-5b9c-4d2f-b5b2-08b713238c54",
   "metadata": {},
   "outputs": [
    {
     "name": "stdout",
     "output_type": "stream",
     "text": [
      "List of all active threads is : [<_MainThread(MainThread, started 140496661833536)>, <Thread(IOPub, started daemon 140496591304256)>, <Heartbeat(Heartbeat, started daemon 140496582911552)>, <Thread(Thread-3 (_watch_pipe_fd), started daemon 140496349419072)>, <Thread(Thread-4 (_watch_pipe_fd), started daemon 140496341026368)>, <ControlThread(Control, started daemon 140496332633664)>, <HistorySavingThread(IPythonHistorySavingThread, started 140496324240960)>, <ParentPollerUnix(Thread-2, started daemon 140496315848256)>]\n"
     ]
    }
   ],
   "source": [
    "# Example 3: enumerate()\n",
    "print(f'List of all active threads is : {threading.enumerate()}')\n",
    "logging.info(f'List of all active threads is : {threading.enumerate()}')"
   ]
  },
  {
   "cell_type": "markdown",
   "id": "f6340404-6620-4bdf-b559-22bad865ddbf",
   "metadata": {},
   "source": [
    "# Q3: Explain the following functions:\n",
    "1. run()\n",
    "2. start()\n",
    "3. join()\n",
    "4. isAlive()"
   ]
  },
  {
   "cell_type": "markdown",
   "id": "bc255c79-1191-4dfe-8185-3ccc4ea8f6d0",
   "metadata": {},
   "source": [
    "# Answer\n",
    "### 1. run() - The standard run() method invokes the callable object passed to the object’s constructor as the target argument, if any, with positional and keyword arguments taken from the args and kwargs arguments, respectively.\n",
    "\n",
    "### 2. start() - Start the thread’s activity. It must be called at most once per thread object. It arranges for the object’s run() method to be invoked in a separate thread of control.This method will raise a RuntimeError if called more than once on the same thread object.\n",
    "\n",
    "### 3. join() - Wait until the thread terminates. This blocks the calling thread until the thread whose join() method is called terminates – either normally or through an unhandled exception – or until the optional timeout occurs.\n",
    "\n",
    "### 4. is_alive() - (isAlive is deprecated latest function - is_alive) Return whether the thread is alive. This method returns True just before the run() method starts until just after the run() method terminates."
   ]
  },
  {
   "cell_type": "markdown",
   "id": "cd7a577c-5460-4408-902f-dc5cc754db8c",
   "metadata": {},
   "source": [
    "# Q4: Write a python program that creates two threads. Thread 1 must print list of squares and Thread 2 must print list of cubes."
   ]
  },
  {
   "cell_type": "markdown",
   "id": "29370363-2c5a-41ef-bf47-8a06a9a51691",
   "metadata": {},
   "source": [
    "# Answer  "
   ]
  },
  {
   "cell_type": "code",
   "execution_count": 13,
   "id": "ce428c8c-670d-4056-b0d2-3fcf08ccc405",
   "metadata": {},
   "outputs": [],
   "source": [
    "# Define List Squares method\n",
    "def list_squares(start,end):\n",
    "    \"\"\"\n",
    "    This function prints list of squares\n",
    "    for given start and end numbers\n",
    "    \"\"\"\n",
    "    for i in range(start, end+1):\n",
    "        print(f'Square of {i} is : {i*i}')\n",
    "        logging.info(f'Square of {i} is : {i*i}')"
   ]
  },
  {
   "cell_type": "code",
   "execution_count": 14,
   "id": "9ae82572-99e4-46cb-bdf5-8a6d9b763967",
   "metadata": {},
   "outputs": [],
   "source": [
    "# Define List Cubes method\n",
    "def list_cubes(start,end):\n",
    "    \"\"\"\n",
    "    This function prints list of cubes\n",
    "    for given start and end numbers\n",
    "    \"\"\"\n",
    "    for i in range(start, end+1):\n",
    "        print(f'Cube of {i} is : {i*i}')\n",
    "        logging.info(f'Cube of {i} is : {i**3}')"
   ]
  },
  {
   "cell_type": "code",
   "execution_count": 15,
   "id": "2eac7bb2-5e64-46c4-9714-5f034ede3b2c",
   "metadata": {},
   "outputs": [
    {
     "name": "stdout",
     "output_type": "stream",
     "text": [
      "Square of 1 is : 1\n",
      "Square of 2 is : 4\n",
      "Square of 3 is : 9\n",
      "Square of 4 is : 16\n",
      "Square of 5 is : 25\n",
      "Square of 6 is : 36\n",
      "Square of 7 is : 49\n",
      "Square of 8 is : 64\n",
      "Square of 9 is : 81\n",
      "Square of 10 is : 100\n",
      "Cube of 7 is : 49\n",
      "Cube of 8 is : 64\n",
      "Cube of 9 is : 81\n",
      "Cube of 10 is : 100\n",
      "Cube of 11 is : 121\n",
      "Cube of 12 is : 144\n",
      "Cube of 13 is : 169\n",
      "Cube of 14 is : 196\n",
      "Cube of 15 is : 225\n",
      "Cube of 16 is : 256\n"
     ]
    }
   ],
   "source": [
    "# Defining threads 1 and 2 and executing\n",
    "\n",
    "# create the threads with custom arguments\n",
    "t1 = threading.Thread(target=list_squares, args=(1, 10))\n",
    "t2 = threading.Thread(target=list_cubes, args=(7, 16))\n",
    "\n",
    "# start the threads\n",
    "t1.start()\n",
    "t2.start()\n",
    "\n",
    "# wait for the threads to finish\n",
    "t1.join()\n",
    "t2.join()"
   ]
  },
  {
   "cell_type": "markdown",
   "id": "e3df5f13-ec24-4217-adaf-38584bee7087",
   "metadata": {},
   "source": [
    "# Q5: State advantages and disadvantages of Multithreading."
   ]
  },
  {
   "cell_type": "markdown",
   "id": "80465a36-7e40-4c93-84da-a914cae28cb8",
   "metadata": {},
   "source": [
    "## Answer : Multithreading is a programming technique that enables a program to perform multiple tasks concurrently. In multithreading, multiple threads are created, and each thread can execute a different part of the program at the same time. There are several advantages and disadvantages of multithreading, which we will discuss below:"
   ]
  },
  {
   "cell_type": "markdown",
   "id": "d4fd7e5a-f8c7-4144-b0f3-20ea8933205c",
   "metadata": {},
   "source": [
    "### Advantages of multithreading:\n",
    "1. Improved performance: Multithreading can improve the performance of a program by allowing different parts of the program to run simultaneously. This can make the program more efficient and reduce the overall execution time.\n",
    "\n",
    "2. Better resource utilization: Multithreading can make better use of available resources such as CPU and memory by distributing the workload across multiple threads.\n",
    "\n",
    "3. Enhanced user experience: Multithreading can improve the user experience by making the program more responsive and interactive.\n",
    "\n",
    "4. Simplified coding: Multithreading can simplify coding by allowing the programmer to break down complex tasks into smaller, more manageable threads.\n",
    "\n",
    "5. Scalability: Multithreading allows the program to scale well as the number of threads can be increased based on the available resources."
   ]
  },
  {
   "cell_type": "markdown",
   "id": "2aa2093f-9319-475a-a435-28fd90634b39",
   "metadata": {},
   "source": [
    "### Disadvantage of Multithreading\n",
    "1. Increased complexity: Multithreading can make the program more complex and harder to debug. It can be challenging to ensure that multiple threads access shared resources in a thread-safe manner, which can lead to synchronization issues.\n",
    "\n",
    "2. Overhead: Multithreading adds overhead to the program as there is additional management overhead for creating, synchronizing, and managing threads.\n",
    "\n",
    "3. Race conditions: Multithreading can lead to race conditions, where multiple threads try to access the same shared resource simultaneously, resulting in unpredictable and incorrect behavior.\n",
    "\n",
    "4. Resource contention: Multithreading can result in resource contention when multiple threads try to access the same resource, such as memory or I/O devices, which can lead to performance degradation.\n",
    "\n",
    "5. Deadlocks: Multithreading can lead to deadlocks, where two or more threads are blocked waiting for each other to release resources, resulting in a program that hangs or crashes."
   ]
  },
  {
   "cell_type": "markdown",
   "id": "2899d333-d482-4c38-8b71-aa84b18d3313",
   "metadata": {},
   "source": [
    "# Q6: Explain deadlocks and race conditions."
   ]
  },
  {
   "cell_type": "markdown",
   "id": "dbc7fd41-fd0b-4f7c-97ac-b0ffc1fecb7f",
   "metadata": {},
   "source": [
    "## Answer : Deadlocks and race conditions are two common synchronization issues that can occur in multithreaded programs."
   ]
  },
  {
   "cell_type": "code",
   "execution_count": null,
   "id": "33753f08-e38f-49aa-a85d-0c490e1d666d",
   "metadata": {},
   "outputs": [],
   "source": []
  }
 ],
 "metadata": {
  "kernelspec": {
   "display_name": "Python 3 (ipykernel)",
   "language": "python",
   "name": "python3"
  },
  "language_info": {
   "codemirror_mode": {
    "name": "ipython",
    "version": 3
   },
   "file_extension": ".py",
   "mimetype": "text/x-python",
   "name": "python",
   "nbconvert_exporter": "python",
   "pygments_lexer": "ipython3",
   "version": "3.10.8"
  }
 },
 "nbformat": 4,
 "nbformat_minor": 5
}
