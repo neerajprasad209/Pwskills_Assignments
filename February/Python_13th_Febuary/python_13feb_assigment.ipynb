{
 "cells": [
  {
   "cell_type": "markdown",
   "id": "390db0cf-bfaa-4858-bbd2-aed3289c497f",
   "metadata": {},
   "source": [
    "# Importing logging module to create a log"
   ]
  },
  {
   "cell_type": "code",
   "execution_count": 4,
   "id": "e963b587-8d78-4e1a-9c15-e83301baab26",
   "metadata": {},
   "outputs": [],
   "source": [
    "import logging\n",
    "logging.basicConfig(filename='Assignment12.log',level=logging.DEBUG,format= '%(asctime)s - %(name)s - %(levelname)s - %(message)s')"
   ]
  },
  {
   "cell_type": "markdown",
   "id": "9205dda8-ed70-446b-b4e2-bb4265588671",
   "metadata": {},
   "source": [
    "# Q1. Explain why we have to use the Exception class while creating a Custom Exception.\n",
    "\n",
    "\n",
    "### Note: Here Exception class refers to the base class for all the exceptions."
   ]
  },
  {
   "cell_type": "markdown",
   "id": "fc7f0d2d-dc03-4b2f-b2e3-ba648c345609",
   "metadata": {},
   "source": [
    "## Answer"
   ]
  },
  {
   "cell_type": "markdown",
   "id": "46bd91bf-ff49-4b31-8ba7-77bf6f7d7e09",
   "metadata": {},
   "source": [
    "1. The Exception class is used as the base class for custom exceptions in Python because it provides a standard way of representing and handling errors that occur in a program. When you create a custom exception class, it should inherit from the Exception class in order to be recognized as an exception by the Python runtime.\n",
    "\n",
    "2. By inheriting from the Exception class, your custom exception class automatically gets all the properties and methods of the Exception class, making it easier to use and handle in your code. For example, you can raise your custom exception using the raise statement, and it will be caught by a try-except block just like any other standard exception.\n",
    "\n",
    "3. Additionally, inheriting from the Exception class also makes it possible for other parts of your code to catch your custom exception specifically, if necessary. This allows you to create more specific error handling logic for your custom exceptions, rather than relying on a catch-all approach for all exceptions.\n",
    "\n",
    "4. In summary, using the Exception class as the base class for custom exceptions provides a standard way of representing and handling errors in Python, making it easier to integrate custom exceptions into your code and handle them appropriately.\n"
   ]
  },
  {
   "cell_type": "markdown",
   "id": "2ad14b49-f24a-4b47-bb27-7a35fde031dd",
   "metadata": {},
   "source": [
    "# Q2. Write a python program to print Python Exception Hierarchy."
   ]
  },
  {
   "cell_type": "markdown",
   "id": "810f4e8e-7542-447f-9511-9cb5562fe10a",
   "metadata": {},
   "source": [
    "## Answer"
   ]
  },
  {
   "cell_type": "code",
   "execution_count": 6,
   "id": "2ade6169-5af4-43b1-83d6-959b44e0287b",
   "metadata": {},
   "outputs": [
    {
     "name": "stdout",
     "output_type": "stream",
     "text": [
      "Exception\n",
      "  TypeError\n",
      "    FloatOperation\n",
      "    MultipartConversionError\n",
      "  StopAsyncIteration\n",
      "  StopIteration\n",
      "  ImportError\n",
      "    ModuleNotFoundError\n",
      "    ZipImportError\n",
      "  OSError\n",
      "    ConnectionError\n",
      "      BrokenPipeError\n",
      "      ConnectionAbortedError\n",
      "      ConnectionRefusedError\n",
      "      ConnectionResetError\n",
      "        RemoteDisconnected\n",
      "    BlockingIOError\n",
      "    ChildProcessError\n",
      "    FileExistsError\n",
      "    FileNotFoundError\n",
      "    IsADirectoryError\n",
      "    NotADirectoryError\n",
      "    InterruptedError\n",
      "      InterruptedSystemCall\n",
      "    PermissionError\n",
      "    ProcessLookupError\n",
      "    TimeoutError\n",
      "    UnsupportedOperation\n",
      "    itimer_error\n",
      "    herror\n",
      "    gaierror\n",
      "    SSLError\n",
      "      SSLCertVerificationError\n",
      "      SSLZeroReturnError\n",
      "      SSLWantWriteError\n",
      "      SSLWantReadError\n",
      "      SSLSyscallError\n",
      "      SSLEOFError\n",
      "    Error\n",
      "      SameFileError\n",
      "    SpecialFileError\n",
      "    ExecError\n",
      "    ReadError\n",
      "    URLError\n",
      "      HTTPError\n",
      "      ContentTooShortError\n",
      "    BadGzipFile\n",
      "  EOFError\n",
      "    IncompleteReadError\n",
      "  RuntimeError\n",
      "    RecursionError\n",
      "    NotImplementedError\n",
      "      ZMQVersionError\n",
      "      StdinNotImplementedError\n",
      "    _DeadlockError\n",
      "    BrokenBarrierError\n",
      "    BrokenExecutor\n",
      "      BrokenThreadPool\n",
      "    SendfileNotAvailableError\n",
      "    ExtractionError\n",
      "    VariableError\n",
      "  NameError\n",
      "    UnboundLocalError\n",
      "  AttributeError\n",
      "    FrozenInstanceError\n",
      "  SyntaxError\n",
      "    IndentationError\n",
      "      TabError\n",
      "  LookupError\n",
      "    IndexError\n",
      "    KeyError\n",
      "      NoSuchKernel\n",
      "      UnknownBackend\n",
      "    CodecRegistryError\n",
      "  ValueError\n",
      "    UnicodeError\n",
      "      UnicodeEncodeError\n",
      "      UnicodeDecodeError\n",
      "      UnicodeTranslateError\n",
      "    UnsupportedOperation\n",
      "    JSONDecodeError\n",
      "    SSLCertVerificationError\n",
      "    Error\n",
      "    UnsupportedDigestmodError\n",
      "    IllegalMonthError\n",
      "    IllegalWeekdayError\n",
      "    ParserError\n",
      "    ClassNotFound\n",
      "    ClipboardEmpty\n",
      "    MessageDefect\n",
      "      NoBoundaryInMultipartDefect\n",
      "      StartBoundaryNotFoundDefect\n",
      "      CloseBoundaryNotFoundDefect\n",
      "      FirstHeaderLineIsContinuationDefect\n",
      "      MisplacedEnvelopeHeaderDefect\n",
      "      MissingHeaderBodySeparatorDefect\n",
      "      MultipartInvariantViolationDefect\n",
      "      InvalidMultipartContentTransferEncodingDefect\n",
      "      UndecodableBytesDefect\n",
      "      InvalidBase64PaddingDefect\n",
      "      InvalidBase64CharactersDefect\n",
      "      InvalidBase64LengthDefect\n",
      "      HeaderDefect\n",
      "        InvalidHeaderDefect\n",
      "        HeaderMissingRequiredValue\n",
      "        NonPrintableDefect\n",
      "        ObsoleteHeaderDefect\n",
      "        NonASCIILocalPartDefect\n",
      "        InvalidDateDefect\n",
      "    MacroToEdit\n",
      "    InvalidFileException\n",
      "    UnequalIterablesError\n",
      "    InvalidVersion\n",
      "    _InvalidELFFileHeader\n",
      "    InvalidWheelFilename\n",
      "    InvalidSdistFilename\n",
      "    InvalidSpecifier\n",
      "    InvalidMarker\n",
      "    UndefinedComparison\n",
      "    UndefinedEnvironmentName\n",
      "    InvalidRequirement\n",
      "      RequirementParseError\n",
      "    InvalidVersion\n",
      "  AssertionError\n",
      "  ArithmeticError\n",
      "    FloatingPointError\n",
      "    OverflowError\n",
      "    ZeroDivisionError\n",
      "      DivisionByZero\n",
      "      DivisionUndefined\n",
      "    DecimalException\n",
      "      Clamped\n",
      "      Rounded\n",
      "        Underflow\n",
      "        Overflow\n",
      "      Inexact\n",
      "        Underflow\n",
      "        Overflow\n",
      "      Subnormal\n",
      "        Underflow\n",
      "      DivisionByZero\n",
      "      FloatOperation\n",
      "      InvalidOperation\n",
      "        ConversionSyntax\n",
      "        DivisionImpossible\n",
      "        DivisionUndefined\n",
      "        InvalidContext\n",
      "  SystemError\n",
      "    CodecRegistryError\n",
      "  ReferenceError\n",
      "  MemoryError\n",
      "  BufferError\n",
      "  Warning\n",
      "    UserWarning\n",
      "      GetPassWarning\n",
      "      FormatterWarning\n",
      "    EncodingWarning\n",
      "    DeprecationWarning\n",
      "      ProvisionalWarning\n",
      "    PendingDeprecationWarning\n",
      "    SyntaxWarning\n",
      "    RuntimeWarning\n",
      "      ProactorSelectorThreadWarning\n",
      "      UnknownTimezoneWarning\n",
      "      PEP440Warning\n",
      "    FutureWarning\n",
      "      ProvisionalCompleterWarning\n",
      "    ImportWarning\n",
      "    UnicodeWarning\n",
      "    BytesWarning\n",
      "    ResourceWarning\n",
      "    DeprecatedTzFormatWarning\n",
      "    PkgResourcesDeprecationWarning\n",
      "  _OptionError\n",
      "  _Error\n",
      "  error\n",
      "  Verbose\n",
      "  Error\n",
      "  SubprocessError\n",
      "    CalledProcessError\n",
      "    TimeoutExpired\n",
      "  TokenError\n",
      "  StopTokenizing\n",
      "  ClassFoundException\n",
      "  EndOfBlock\n",
      "  TraitError\n",
      "  Error\n",
      "  Error\n",
      "    CancelledError\n",
      "    TimeoutError\n",
      "    InvalidStateError\n",
      "  _GiveupOnSendfile\n",
      "  error\n",
      "  Incomplete\n",
      "  TimeoutError\n",
      "  InvalidStateError\n",
      "  LimitOverrunError\n",
      "  QueueEmpty\n",
      "  QueueFull\n",
      "  Empty\n",
      "  Full\n",
      "  ArgumentError\n",
      "  ZMQBaseError\n",
      "    ZMQError\n",
      "      ContextTerminated\n",
      "      Again\n",
      "      InterruptedSystemCall\n",
      "    ZMQBindError\n",
      "    NotDone\n",
      "  PickleError\n",
      "    PicklingError\n",
      "    UnpicklingError\n",
      "  _Stop\n",
      "  ArgumentError\n",
      "  ArgumentTypeError\n",
      "  ConfigError\n",
      "    ConfigLoaderError\n",
      "      ArgumentError\n",
      "    ConfigFileNotFound\n",
      "  ConfigurableError\n",
      "    MultipleInstanceError\n",
      "  ApplicationError\n",
      "  error\n",
      "  TimeoutError\n",
      "  error\n",
      "  ReturnValueIgnoredError\n",
      "  KeyReuseError\n",
      "  UnknownKeyError\n",
      "  LeakedCallbackError\n",
      "  BadYieldError\n",
      "  ReturnValueIgnoredError\n",
      "  Return\n",
      "  InvalidPortNumber\n",
      "  error\n",
      "  LZMAError\n",
      "  RegistryError\n",
      "  _GiveupOnFastCopy\n",
      "  Error\n",
      "    NoSectionError\n",
      "    DuplicateSectionError\n",
      "    DuplicateOptionError\n",
      "    NoOptionError\n",
      "    InterpolationError\n",
      "      InterpolationMissingOptionError\n",
      "      InterpolationSyntaxError\n",
      "      InterpolationDepthError\n",
      "    ParsingError\n",
      "      MissingSectionHeaderError\n",
      "  NoIPAddresses\n",
      "  BadZipFile\n",
      "  LargeZipFile\n",
      "  BadEntryPoint\n",
      "  NoSuchEntryPoint\n",
      "  DuplicateKernelError\n",
      "  ErrorDuringImport\n",
      "  NotOneValueFound\n",
      "  CannotEval\n",
      "  OptionError\n",
      "  BdbQuit\n",
      "  Restart\n",
      "  ExceptionPexpect\n",
      "    EOF\n",
      "    TIMEOUT\n",
      "  PtyProcessError\n",
      "  FindCmdError\n",
      "  HomeDirError\n",
      "  ProfileDirError\n",
      "  IPythonCoreError\n",
      "    TryNext\n",
      "    UsageError\n",
      "    StdinNotImplementedError\n",
      "  InputRejected\n",
      "  GetoptError\n",
      "  ErrorToken\n",
      "  PrefilterError\n",
      "  AliasError\n",
      "    InvalidAliasError\n",
      "  Error\n",
      "    InterfaceError\n",
      "    DatabaseError\n",
      "      InternalError\n",
      "      OperationalError\n",
      "      ProgrammingError\n",
      "      IntegrityError\n",
      "      DataError\n",
      "      NotSupportedError\n",
      "  Warning\n",
      "  SpaceInInput\n",
      "  DOMException\n",
      "    IndexSizeErr\n",
      "    DomstringSizeErr\n",
      "    HierarchyRequestErr\n",
      "    WrongDocumentErr\n",
      "    InvalidCharacterErr\n",
      "    NoDataAllowedErr\n",
      "    NoModificationAllowedErr\n",
      "    NotFoundErr\n",
      "    NotSupportedErr\n",
      "    InuseAttributeErr\n",
      "    InvalidStateErr\n",
      "    SyntaxErr\n",
      "    InvalidModificationErr\n",
      "    NamespaceErr\n",
      "    InvalidAccessErr\n",
      "    ValidationErr\n",
      "  ValidationError\n",
      "  EditReadOnlyBuffer\n",
      "  _Retry\n",
      "  InvalidLayoutError\n",
      "  HeightIsUnknownError\n",
      "  ParserSyntaxError\n",
      "  InternalParseError\n",
      "  _PositionUpdatingFinished\n",
      "  SimpleGetItemNotFound\n",
      "  UncaughtAttributeError\n",
      "  HasNoContext\n",
      "  ParamIssue\n",
      "  _JediError\n",
      "    InternalError\n",
      "    WrongVersion\n",
      "    RefactoringError\n",
      "  OnErrorLeaf\n",
      "  InvalidPythonEnvironment\n",
      "  MessageError\n",
      "    MessageParseError\n",
      "      HeaderParseError\n",
      "      BoundaryError\n",
      "    MultipartConversionError\n",
      "    CharsetError\n",
      "  Error\n",
      "  HTTPException\n",
      "    NotConnected\n",
      "    InvalidURL\n",
      "    UnknownProtocol\n",
      "    UnknownTransferEncoding\n",
      "    UnimplementedFileMode\n",
      "    IncompleteRead\n",
      "    ImproperConnectionState\n",
      "      CannotSendRequest\n",
      "      CannotSendHeader\n",
      "      ResponseNotReady\n",
      "    BadStatusLine\n",
      "      RemoteDisconnected\n",
      "    LineTooLong\n",
      "  InteractivelyDefined\n",
      "  KillEmbedded\n",
      "  Error\n",
      "    NoSuchProcess\n",
      "      ZombieProcess\n",
      "    AccessDenied\n",
      "    TimeoutExpired\n",
      "  _Ipv6UnsupportedError\n",
      "  QueueEmpty\n",
      "  QueueFull\n",
      "  DebuggerInitializationError\n",
      "  ExpatError\n",
      "  Error\n",
      "    ProtocolError\n",
      "    ResponseError\n",
      "    Fault\n",
      "  ParseBaseException\n",
      "    ParseException\n",
      "    ParseFatalException\n",
      "      ParseSyntaxException\n",
      "  RecursiveGrammarException\n",
      "  ResolutionError\n",
      "    VersionConflict\n",
      "      ContextualVersionConflict\n",
      "    DistributionNotFound\n",
      "    UnknownExtra\n",
      "  _Error\n",
      "  UnableToResolveVariableException\n",
      "  InvalidTypeInArgsException\n",
      "  TransactionLimitExceeded\n"
     ]
    }
   ],
   "source": [
    "def print_exception_hierarchy(exception, level=0):\n",
    "    \n",
    "    print(\"  \" * level + exception.__name__)\n",
    "    logging.info(\" \"* level + exception.__name__)\n",
    "    for subclass in exception.__subclasses__():\n",
    "        print_exception_hierarchy(subclass, level + 1)\n",
    "        logging.info(f'Subclass: {subclass},level:{level}')\n",
    "\n",
    "print_exception_hierarchy(Exception)"
   ]
  },
  {
   "cell_type": "markdown",
   "id": "3e1a8ad3-7509-4756-b6a0-d05476961e22",
   "metadata": {},
   "source": [
    "# Q3. What errors are defined in the ArithmeticError class? Explain any two with an example."
   ]
  },
  {
   "cell_type": "markdown",
   "id": "38b9e487-42f2-47ca-b8f0-096f7524a464",
   "metadata": {},
   "source": [
    "# Answer"
   ]
  },
  {
   "cell_type": "markdown",
   "id": "135e3410-0b61-4a22-ab1f-bccc8416dfff",
   "metadata": {},
   "source": [
    "### The ArithmeticError class is a built-in exception in Python that represents errors that occur during arithmetic operations. Some of the errors that are defined in the ArithmeticError class include:\n",
    "\n",
    "1. OverflowError: This error is raised when a mathematical operation results in a number that is too large to be represented within the available memory.\n",
    "2. ZeroDivisionError: This error is raised when a division operation is attempted with a denominator of zero.\n",
    "3. FloatingPointError: This error is raised when a floating-point operation fails, such as an operation involving infinities or NaNs (Not-a-Number)."
   ]
  },
  {
   "cell_type": "code",
   "execution_count": 10,
   "id": "2a7425ef-fbd0-4a2d-84f1-d071332ab985",
   "metadata": {},
   "outputs": [
    {
     "name": "stdout",
     "output_type": "stream",
     "text": [
      "Error Occured and Handled Key Error : 'key3'\n"
     ]
    }
   ],
   "source": [
    "# Example 1 : Key Error \n",
    "logging.info('This is start of Key Error Example')\n",
    "try :\n",
    "    d = {'key1':'value1','key2':'value2'}\n",
    "    d['key3']\n",
    "    logging.info('Try Block executed')\n",
    "except KeyError as e:\n",
    "    print(f'Error Occured and Handled Key Error : {e}')\n",
    "    logging.exception(f'Error Occured and Handled Key Error : {e}')\n",
    "finally:\n",
    "    logging.info('This is end of Key Error Example')"
   ]
  },
  {
   "cell_type": "code",
   "execution_count": 11,
   "id": "ea38bbb3-c31f-4738-af0a-12d0d6ad88f7",
   "metadata": {},
   "outputs": [
    {
     "name": "stdout",
     "output_type": "stream",
     "text": [
      "Index error occured and Handled : list index out of range\n"
     ]
    }
   ],
   "source": [
    "# Example 2: Index Error\n",
    "logging.info('This is start of Index error example')\n",
    "try:\n",
    "    l = [1,2,3,4,5,True,'sample']\n",
    "    l[21]\n",
    "except IndexError as e:\n",
    "    print(f'Index error occured and Handled : {e}')\n",
    "    logging.exception(f'Index error occured and Handled : {e}')\n",
    "finally:\n",
    "    logging.info('Index Error Example complete')"
   ]
  },
  {
   "cell_type": "markdown",
   "id": "2e1d5921-d0b5-4f50-9549-ce369bae6005",
   "metadata": {},
   "source": [
    "# Q4. Why LookupError class is used? Explain with an example KeyError and IndexError."
   ]
  },
  {
   "cell_type": "markdown",
   "id": "f7e5e73b-f91c-40b2-9647-f4b4949b80f5",
   "metadata": {},
   "source": [
    "# Answer"
   ]
  },
  {
   "cell_type": "markdown",
   "id": "f5430e55-599c-4bf2-8b31-0c5d7d92a960",
   "metadata": {},
   "source": [
    "### The LookupError class is used in Python to represent exceptions that are raised when a key or an index is not found in a data structure such as a dictionary or a list. LookupError is a base class for two more specific exceptions: KeyError and IndexError.\n",
    "\n",
    "1. KeyError is raised when a key is not found in a dictionary\n",
    "2. IndexError is raised when an index is not found in a list."
   ]
  },
  {
   "cell_type": "code",
   "execution_count": 8,
   "id": "5de58a70-e110-4004-b8c0-f1825866c0fe",
   "metadata": {},
   "outputs": [
    {
     "name": "stdout",
     "output_type": "stream",
     "text": [
      "ImportError Occured and handled : No module named 'calculus'\n"
     ]
    }
   ],
   "source": [
    "# Example 1: ImportError : This is parent class for ModuleNotFoundError\n",
    "logging.info('This is start of example for ImportError')\n",
    "try :\n",
    "    import calculus\n",
    "    logging.info('Module Imported')\n",
    "except ImportError as e:\n",
    "    print(f'ImportError Occured and handled : {e}')\n",
    "    logging.exception(f'ImportError Occured and handled : {e}')\n",
    "finally:\n",
    "    logging.info('ImportError Example Complete')"
   ]
  },
  {
   "cell_type": "code",
   "execution_count": 9,
   "id": "db829014-41d9-45af-8873-2c1e2318ea4a",
   "metadata": {},
   "outputs": [
    {
     "name": "stdout",
     "output_type": "stream",
     "text": [
      "ImportError Occured and handled : No module named 'calculus'\n"
     ]
    }
   ],
   "source": [
    "# Example 2: ModuleNotFoundError: This is child class of ImportError\n",
    "logging.info('This is start of example for ModuleNotFoundError')\n",
    "try :\n",
    "    import calculus\n",
    "    logging.info('Module Imported')\n",
    "except ModuleNotFoundError as e:\n",
    "    print(f'ImportError Occured and handled : {e}')\n",
    "    logging.exception(f'ModuleNotFoundError Occured and handled : {e}')\n",
    "finally:\n",
    "    logging.info('ModuleNotFound Example Complete')"
   ]
  },
  {
   "cell_type": "markdown",
   "id": "c7aae8fb-d0aa-4f09-bb78-3887fd202fae",
   "metadata": {},
   "source": [
    "# Q5. Explain ImportError. What is ModuleNotFoundError?"
   ]
  },
  {
   "cell_type": "markdown",
   "id": "e75896dc-5757-4d20-b88f-313b613986c5",
   "metadata": {},
   "source": [
    "# Answer"
   ]
  },
  {
   "cell_type": "markdown",
   "id": "8bad7843-5ab4-4a97-892a-4d70f395d6bd",
   "metadata": {},
   "source": [
    "1. ImportError is a class in Python that represents exceptions raised when a module or package cannot be found or imported. An ImportError is raised when Python encounters a line of code that tries to import a module or package that does not exist or is not accessible due to a file system error, for example.\n",
    "\n",
    "2. ModuleNotFoundError is a subclass of ImportError that is specifically raised when a module cannot be found in the Python path. It was added in Python 3.6 as a more descriptive error message to replace the generic ImportError message."
   ]
  },
  {
   "cell_type": "code",
   "execution_count": 13,
   "id": "b45b1c64-d15f-431f-b2b6-b9d317b2972c",
   "metadata": {},
   "outputs": [
    {
     "name": "stdout",
     "output_type": "stream",
     "text": [
      "ImportError Occured and handled : No module named 'calculus'\n"
     ]
    }
   ],
   "source": [
    "# Example 1: ImportError : This is parent class for ModuleNotFoundError\n",
    "logging.info('This is start of example for ImportError')\n",
    "try :\n",
    "    import calculus\n",
    "    logging.info('Module Imported')\n",
    "except ImportError as e:\n",
    "    print(f'ImportError Occured and handled : {e}')\n",
    "    logging.exception(f'ImportError Occured and handled : {e}')\n",
    "finally:\n",
    "    logging.info('ImportError Example Complete')"
   ]
  },
  {
   "cell_type": "markdown",
   "id": "a6ccdc87-bc53-489d-bbbe-76f5568452d1",
   "metadata": {},
   "source": [
    "# Q6. List down some best practices for exception handling in python."
   ]
  },
  {
   "cell_type": "markdown",
   "id": "fb753bf5-4897-405e-b1bf-81240c3023cf",
   "metadata": {},
   "source": [
    "# Answer"
   ]
  },
  {
   "cell_type": "markdown",
   "id": "ac37e392-fc37-42bb-8a48-80ef40f48552",
   "metadata": {},
   "source": [
    "Here are some best practices for exception handling in Python:\n",
    "\n",
    "1. Be specific in catching exceptions: Instead of catching a broad, generic exception such as Exception, it's better to catch more specific exceptions that correspond to the errors you expect to handle. This way, you can ensure that only the errors you want to handle are caught and other unexpected errors are allowed to propagate.\n",
    "\n",
    "2. Use try-except blocks: try-except blocks are the recommended way to handle exceptions in Python. They allow you to catch exceptions and take appropriate action, without letting the program crash.\n",
    "\n",
    "3. Provide meaningful error messages: When raising exceptions, provide meaningful error messages that can help you diagnose and fix the problem. Avoid using generic error messages like \"Something went wrong\".\n",
    "\n",
    "4. Avoid using bare except blocks: Bare except blocks catch all exceptions and can hide important information about the cause of the error. Instead, use specific exception classes or Exception with a more descriptive error message.\n",
    "\n",
    "5. Use finally blocks wisely: finally blocks are used to execute code that needs to run regardless of whether an exception was raised or not. Use them wisely to clean up resources or close files, for example.\n",
    "\n",
    "6. Don't suppress exceptions: Avoid suppressing exceptions by using a bare except block or catching a broad exception class and not re-raising it. Doing so can hide important information about the cause of the error and make it harder to diagnose and fix.\n",
    "\n",
    "7. Propagate exceptions up the call stack: If you catch an exception and cannot handle it, propagate it up the call stack by re-raising it. This way, the exception can be handled by an enclosing try-except block or reach the top-level of the program where it can be logged or displayed to the user."
   ]
  },
  {
   "cell_type": "code",
   "execution_count": 15,
   "id": "22835805-6b0d-4c76-a92b-63d3ed654312",
   "metadata": {},
   "outputs": [],
   "source": [
    "# Example code using some of best practices Divide function\n",
    "def divide(a, b):\n",
    "    logging.info('This is start of divide function')\n",
    "    try:\n",
    "        result = a / b\n",
    "        logging.info('Try Block executed')\n",
    "    except ZeroDivisionError as e:\n",
    "        logging.exception(f'Zero Division Error occured and Handled : {e}')\n",
    "        raise ValueError(\"Cannot divide by zero\") from e\n",
    "    except TypeError as e:\n",
    "        logging.exception(f'Type Error Occured and Handled : {e}')\n",
    "        raise ValueError(\"Both arguments must be numbers\") from e\n",
    "    else:\n",
    "        logging.info('Else Block Executed')\n",
    "        return result\n",
    "    finally:\n",
    "        logging.info('This is end of divide function')"
   ]
  },
  {
   "cell_type": "code",
   "execution_count": 16,
   "id": "35512827-63ce-4072-9b67-49f0836e2c8f",
   "metadata": {},
   "outputs": [
    {
     "name": "stdout",
     "output_type": "stream",
     "text": [
      "3.3333333333333335\n"
     ]
    }
   ],
   "source": [
    "# Example 1: Both are numbers\n",
    "try:\n",
    "    print(divide(20,6))    \n",
    "except (ZeroDivisionError, ValueError) as e:\n",
    "    print(f'Error occured and Handled : {e}')    \n",
    "    logging.exception(f'Error occured and Handled : {e}')"
   ]
  },
  {
   "cell_type": "code",
   "execution_count": 17,
   "id": "b61c33cb-6b7c-450b-afe0-8cbeb8bc4025",
   "metadata": {},
   "outputs": [
    {
     "name": "stdout",
     "output_type": "stream",
     "text": [
      "Error occured and Handled : Cannot divide by zero\n"
     ]
    }
   ],
   "source": [
    "# Example 2: Dividing by Zero\n",
    "try:\n",
    "    print(divide(43,0))    \n",
    "except (ZeroDivisionError, ValueError) as e:\n",
    "    print(f'Error occured and Handled : {e}')    \n",
    "    logging.exception(f'Error occured and Handled : {e}')"
   ]
  },
  {
   "cell_type": "markdown",
   "id": "6d5ebcd7-5a0a-41c4-909c-ad2ed44762c8",
   "metadata": {},
   "source": [
    "# Showing the Logs"
   ]
  },
  {
   "cell_type": "code",
   "execution_count": 18,
   "id": "237742e4-e328-4549-b1e9-f50d4a761627",
   "metadata": {},
   "outputs": [],
   "source": [
    "# Shutdown logging first\n",
    "logging.shutdown()"
   ]
  },
  {
   "cell_type": "code",
   "execution_count": 19,
   "id": "39e31fe3-57fd-48bb-a7e6-88173e0d15dc",
   "metadata": {},
   "outputs": [
    {
     "name": "stdout",
     "output_type": "stream",
     "text": [
      "2023-07-16 17:21:00,263 - root - INFO - Exception\n",
      "2023-07-16 17:21:00,263 - root - INFO -  TypeError\n",
      "2023-07-16 17:21:00,263 - root - INFO -   FloatOperation\n",
      "2023-07-16 17:21:00,263 - root - INFO - Subclass: <class 'decimal.FloatOperation'>,level:1\n",
      "2023-07-16 17:21:00,263 - root - INFO -   MultipartConversionError\n",
      "2023-07-16 17:21:00,263 - root - INFO - Subclass: <class 'email.errors.MultipartConversionError'>,level:1\n",
      "2023-07-16 17:21:00,263 - root - INFO - Subclass: <class 'TypeError'>,level:0\n",
      "2023-07-16 17:21:00,264 - root - INFO -  StopAsyncIteration\n",
      "2023-07-16 17:21:00,264 - root - INFO - Subclass: <class 'StopAsyncIteration'>,level:0\n",
      "2023-07-16 17:21:00,264 - root - INFO -  StopIteration\n",
      "2023-07-16 17:21:00,264 - root - INFO - Subclass: <class 'StopIteration'>,level:0\n",
      "2023-07-16 17:21:00,264 - root - INFO -  ImportError\n",
      "2023-07-16 17:21:00,264 - root - INFO -   ModuleNotFoundError\n",
      "2023-07-16 17:21:00,264 - root - INFO - Subclass: <class 'ModuleNotFoundError'>,level:1\n",
      "2023-07-16 17:21:00,264 - root - INFO -   ZipImportError\n",
      "2023-07-16 17:21:00,264 - root - INFO - Subclass: <class 'zipimport.ZipImportError'>,level:1\n",
      "2023-07-16 17:21:00,264 - root - INFO - Subclass: <class 'ImportError'>,level:0\n",
      "2023-07-16 17:21:00,264 - root - INFO -  OSError\n",
      "2023-07-16 17:21:00,264 - root - INFO -   ConnectionError\n",
      "2023-07-16 17:21:00,264 - root - INFO -    BrokenPipeError\n",
      "2023-07-16 17:21:00,265 - root - INFO - Subclass: <class 'BrokenPipeError'>,level:2\n",
      "2023-07-16 17:21:00,265 - root - INFO -    ConnectionAbortedError\n",
      "2023-07-16 17:21:00,265 - root - INFO - Subclass: <class 'ConnectionAbortedError'>,level:2\n",
      "2023-07-16 17:21:00,265 - root - INFO -    ConnectionRefusedError\n",
      "2023-07-16 17:21:00,265 - root - INFO - Subclass: <class 'ConnectionRefusedError'>,level:2\n",
      "2023-07-16 17:21:00,265 - root - INFO -    ConnectionResetError\n",
      "2023-07-16 17:21:00,265 - root - INFO -     RemoteDisconnected\n",
      "2023-07-16 17:21:00,265 - root - INFO - Subclass: <class 'http.client.RemoteDisconnected'>,l\n"
     ]
    }
   ],
   "source": [
    "# Showing a preview of log file\n",
    "with open('Assignment12.log','r') as f:\n",
    "    print(f.read(2000))"
   ]
  },
  {
   "cell_type": "code",
   "execution_count": null,
   "id": "b3299ee8-38fa-4596-be82-3b3a27568793",
   "metadata": {},
   "outputs": [],
   "source": []
  }
 ],
 "metadata": {
  "kernelspec": {
   "display_name": "Python 3 (ipykernel)",
   "language": "python",
   "name": "python3"
  },
  "language_info": {
   "codemirror_mode": {
    "name": "ipython",
    "version": 3
   },
   "file_extension": ".py",
   "mimetype": "text/x-python",
   "name": "python",
   "nbconvert_exporter": "python",
   "pygments_lexer": "ipython3",
   "version": "3.10.8"
  }
 },
 "nbformat": 4,
 "nbformat_minor": 5
}
