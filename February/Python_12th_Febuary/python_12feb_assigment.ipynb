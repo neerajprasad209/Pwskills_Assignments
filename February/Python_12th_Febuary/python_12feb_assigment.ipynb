{
 "cells": [
  {
   "cell_type": "markdown",
   "id": "e3ec3353-fcf9-4ae4-aa0e-5e8894d4819d",
   "metadata": {},
   "source": [
    "# Q1. What is an exception in python? Write the difference between Exceptions and syntax errors."
   ]
  },
  {
   "cell_type": "markdown",
   "id": "b6ff9683-9a67-42c8-9810-9c5926bf0ceb",
   "metadata": {},
   "source": [
    "Answer : An exception is an event, which occurs during the execution of a program that disrupts the normal flow of the program's instructions.\n",
    "\n",
    "In general, when a Python script encounters a situation that it cannot cope with, it raises an exception.\n",
    "\n",
    "Difference in syntax error and exception :\n",
    "1. Errors cannot be handled, while Python exceptions can be handled at the run time.\n",
    "2. An error can be a syntax (parsing) error, while there can be many types of exceptions that could occur during the execution and are not unconditionally inoperable."
   ]
  },
  {
   "cell_type": "code",
   "execution_count": 2,
   "id": "524df643-e562-42e3-85d0-c72cac147a7c",
   "metadata": {},
   "outputs": [
    {
     "ename": "NameError",
     "evalue": "name 'logging' is not defined",
     "output_type": "error",
     "traceback": [
      "\u001b[0;31m---------------------------------------------------------------------------\u001b[0m",
      "\u001b[0;31mNameError\u001b[0m                                 Traceback (most recent call last)",
      "Cell \u001b[0;32mIn[2], line 2\u001b[0m\n\u001b[1;32m      1\u001b[0m \u001b[38;5;66;03m# Example of exception\u001b[39;00m\n\u001b[0;32m----> 2\u001b[0m \u001b[43mlogging\u001b[49m\u001b[38;5;241m.\u001b[39minfo(\u001b[38;5;124m'\u001b[39m\u001b[38;5;124mThis is Question 1 , Example 1\u001b[39m\u001b[38;5;124m'\u001b[39m)\n\u001b[1;32m      3\u001b[0m a \u001b[38;5;241m=\u001b[39m \u001b[38;5;241m23\u001b[39m\n\u001b[1;32m      4\u001b[0m a\u001b[38;5;241m/\u001b[39m\u001b[38;5;241m0\u001b[39m \u001b[38;5;66;03m#Division by zero is an exception\u001b[39;00m\n",
      "\u001b[0;31mNameError\u001b[0m: name 'logging' is not defined"
     ]
    }
   ],
   "source": [
    "# Example of exception\n",
    "logging.info('This is Question 1 , Example 1')\n",
    "a = 23\n",
    "a/0 #Division by zero is an exception"
   ]
  },
  {
   "cell_type": "code",
   "execution_count": 3,
   "id": "0debc7f6-4d9e-4a58-9283-d7b235626c53",
   "metadata": {},
   "outputs": [
    {
     "ename": "SyntaxError",
     "evalue": "invalid syntax. Perhaps you forgot a comma? (1664719280.py, line 4)",
     "output_type": "error",
     "traceback": [
      "\u001b[0;36m  Cell \u001b[0;32mIn[3], line 4\u001b[0;36m\u001b[0m\n\u001b[0;31m    print(a b) #incorrect syntax here will raise syntax error\u001b[0m\n\u001b[0m          ^\u001b[0m\n\u001b[0;31mSyntaxError\u001b[0m\u001b[0;31m:\u001b[0m invalid syntax. Perhaps you forgot a comma?\n"
     ]
    }
   ],
   "source": [
    "# Example of syntax error\n",
    "a = 2\n",
    "b = 3\n",
    "print(a b) #incorrect syntax here will raise syntax error"
   ]
  },
  {
   "cell_type": "markdown",
   "id": "7b051fc6-62f5-44aa-817c-f6822478698a",
   "metadata": {},
   "source": [
    "# Q2. What happens if exception is not handled? Explain with an example."
   ]
  },
  {
   "cell_type": "markdown",
   "id": "a17716bd-bd87-431d-97f9-ee94b640bee3",
   "metadata": {},
   "source": [
    "Answer : If Exception is not handled the code below the exception will not execute at all. It will stop the program at exception."
   ]
  },
  {
   "cell_type": "code",
   "execution_count": 4,
   "id": "18032284-2874-456a-9662-e122326bd8b3",
   "metadata": {},
   "outputs": [
    {
     "ename": "NameError",
     "evalue": "name 'logging' is not defined",
     "output_type": "error",
     "traceback": [
      "\u001b[0;31m---------------------------------------------------------------------------\u001b[0m",
      "\u001b[0;31mNameError\u001b[0m                                 Traceback (most recent call last)",
      "Cell \u001b[0;32mIn[4], line 1\u001b[0m\n\u001b[0;32m----> 1\u001b[0m \u001b[43mlogging\u001b[49m\u001b[38;5;241m.\u001b[39minfo(\u001b[38;5;124m'\u001b[39m\u001b[38;5;124mThis is Question 2 start\u001b[39m\u001b[38;5;124m'\u001b[39m)\n\u001b[1;32m      2\u001b[0m a \u001b[38;5;241m=\u001b[39m \u001b[38;5;241m56\u001b[39m\n\u001b[1;32m      3\u001b[0m \u001b[38;5;28mprint\u001b[39m(a\u001b[38;5;241m/\u001b[39m\u001b[38;5;241m0\u001b[39m) \u001b[38;5;66;03m# This will cause Zero Division Error\u001b[39;00m\n",
      "\u001b[0;31mNameError\u001b[0m: name 'logging' is not defined"
     ]
    }
   ],
   "source": [
    "logging.info('This is Question 2 start')\n",
    "a = 56\n",
    "print(a/0) # This will cause Zero Division Error\n",
    "print(a+23) # None of these code and below lines will not excute because exception was not handled\n",
    "print('This will not execute') # Will not execute because exception not handled"
   ]
  },
  {
   "cell_type": "markdown",
   "id": "deeaffc7-eeaf-48e5-85a0-75c34b443555",
   "metadata": {},
   "source": [
    "# Q3. Which Python Statements are used to catch and handle exceptions? Explain with an example."
   ]
  },
  {
   "cell_type": "markdown",
   "id": "90ea2709-8b26-4090-8e00-713f68ed3206",
   "metadata": {},
   "source": [
    "Answer : The try and except block in Python is used to catch and handle exceptions."
   ]
  },
  {
   "cell_type": "code",
   "execution_count": 5,
   "id": "991e8f28-8781-4877-a47d-76716347c31f",
   "metadata": {},
   "outputs": [],
   "source": [
    "# Importing logging module to create a log\n",
    "import logging\n",
    "logging.basicConfig(filename='TryExcept.log',level=logging.DEBUG,format= '%(asctime)s - %(name)s - %(levelname)s - %(message)s')"
   ]
  },
  {
   "cell_type": "code",
   "execution_count": 6,
   "id": "34f51aa0-9aea-4910-9808-49c5be5683a5",
   "metadata": {},
   "outputs": [
    {
     "name": "stdout",
     "output_type": "stream",
     "text": [
      "Their is exception in code  [Errno 2] No such file or directory: 'sample.txt'\n",
      " a=32\n",
      " b=24\n",
      " c=56\n"
     ]
    }
   ],
   "source": [
    "# I'm Creating a file example reading exception handling\n",
    "logging.info(\"This is my Start of question 3\")\n",
    "try:\n",
    "    # this code will be tried for execution\n",
    "    with open ('sample.txt','r') as f:\n",
    "        print(f.read())\n",
    "        logging.info('Try block from question Executed')\n",
    "except Exception as e:\n",
    "    print('Their is exception in code ',e)\n",
    "    \n",
    "finally:\n",
    "    a=32\n",
    "    b=24\n",
    "    c=a+b\n",
    "    print(f\" a={a}\\n b={b}\\n c={c}\")\n",
    "    logging.info('Finally Block is executed')"
   ]
  },
  {
   "cell_type": "markdown",
   "id": "8e2f4724-cb7b-4166-a2b0-35d386697e80",
   "metadata": {},
   "source": [
    "# Q4. Explain with an example:\n",
    "1. Try and else\n",
    "2. finally\n",
    "3. raise"
   ]
  },
  {
   "cell_type": "markdown",
   "id": "4d728d7b-b7af-4857-8b08-39ada3d1bfc1",
   "metadata": {},
   "source": [
    "### Answer :\n",
    "1. Try and else : Try block will execute if no exceptions. If no exceptions only then else block is executed. If exception occured except block will get executed"
   ]
  },
  {
   "cell_type": "code",
   "execution_count": 7,
   "id": "22e37b22-eef8-48a2-a968-c683ade25e95",
   "metadata": {},
   "outputs": [],
   "source": [
    "# creating a custom function for division with Try, Except ,Else blocks\n",
    "def divide(a,b):\n",
    "    logging.info(\"Start of d=function divide\")\n",
    "    try:\n",
    "        # Try block will execute if there is no exception\n",
    "        result = a/b\n",
    "        print(\"Try block Executed.\")\n",
    "        logging.info('Try Block executed')\n",
    "    except Exception as e:\n",
    "        # Except block will execute if exception found\n",
    "        print(\"Exception Occured: \",e)\n",
    "        logging.exception('Except block executed')\n",
    "    else:\n",
    "        # This block will execute only if try block executed\n",
    "        print(\"Else Block Executed\")\n",
    "        logging.info('Else Block executed')\n",
    "        return result "
   ]
  },
  {
   "cell_type": "code",
   "execution_count": 8,
   "id": "c4812eda-625d-444f-bb07-26a2e0909295",
   "metadata": {},
   "outputs": [
    {
     "name": "stdout",
     "output_type": "stream",
     "text": [
      "Try block Executed.\n",
      "Else Block Executed\n"
     ]
    },
    {
     "data": {
      "text/plain": [
       "3.0"
      ]
     },
     "execution_count": 8,
     "metadata": {},
     "output_type": "execute_result"
    }
   ],
   "source": [
    "# Test Case 1 : Both are numbers excluding 0\n",
    "divide(6,2)"
   ]
  },
  {
   "cell_type": "code",
   "execution_count": 9,
   "id": "038cbf9b-1cde-4a9d-8877-f4e14f9b3cbb",
   "metadata": {},
   "outputs": [
    {
     "name": "stdout",
     "output_type": "stream",
     "text": [
      "Try block Executed.\n",
      "Else Block Executed\n"
     ]
    },
    {
     "data": {
      "text/plain": [
       "0.0"
      ]
     },
     "execution_count": 9,
     "metadata": {},
     "output_type": "execute_result"
    }
   ],
   "source": [
    "# Test case 2 : Numerator 0 , Denominator non-zero\n",
    "divide(0,6)"
   ]
  },
  {
   "cell_type": "code",
   "execution_count": 10,
   "id": "12eb0bdf-2a9c-4c77-9784-58ea08ce882a",
   "metadata": {},
   "outputs": [
    {
     "name": "stdout",
     "output_type": "stream",
     "text": [
      "Exception Occured:  division by zero\n"
     ]
    }
   ],
   "source": [
    "# Test Case 3 : Zero in denominator\n",
    "divide(1002,0)"
   ]
  },
  {
   "cell_type": "markdown",
   "id": "d15bc663-4b6e-410c-8690-12928c9c4eb8",
   "metadata": {},
   "source": [
    "2. Finally : This code block will always execute .Regardless wether try, except, else blocks are executed"
   ]
  },
  {
   "cell_type": "code",
   "execution_count": 11,
   "id": "0d0de13a-c048-4934-8e38-184b9ee4dd16",
   "metadata": {},
   "outputs": [
    {
     "name": "stdout",
     "output_type": "stream",
     "text": [
      "Exception Occured : division by zero\n",
      "This Finally Block will always be executed\n"
     ]
    }
   ],
   "source": [
    "logging.info('Explaining Finally block code of Question 3')\n",
    "try:\n",
    "    # Try block executes if no exception occurs\n",
    "    a = 23\n",
    "    b = 0\n",
    "    c = a / b\n",
    "    print(c)\n",
    "    logging.info('Try Block executed')\n",
    "except Exception as e:\n",
    "    # Except block will execute if exception occurs\n",
    "    print('Exception Occured :',e)\n",
    "    logging.exception('Except block executed')\n",
    "finally:\n",
    "    # Finally Block will always execute regardless of exception found or not\n",
    "    print('This Finally Block will always be executed')\n",
    "    logging.info('Finally Block executed')"
   ]
  },
  {
   "cell_type": "markdown",
   "id": "eb4f2fd5-33b8-42f1-8cb4-fef798c2435b",
   "metadata": {},
   "source": [
    "3. raise : Python raise Keyword is used to raise exceptions or errors. The raise keyword raises an error and stops the control flow of the program. It is used to bring up the current exception in an exception handler so that it can be handled further up the call stack."
   ]
  },
  {
   "cell_type": "code",
   "execution_count": 12,
   "id": "c2eb5b4d-5bab-42b7-9a1a-19dfbcef488c",
   "metadata": {},
   "outputs": [],
   "source": [
    "# Take input as mobile number and raise error if it is not 10 digits and numeric\n",
    "def mob_num():\n",
    "    \n",
    "    logging.info('This is start of the function Raise explaination')\n",
    "    mob = input('Enter Mobile number : ')\n",
    "    print('The moblie number entered is',mob)\n",
    "    \n",
    "    # Check if length of mobile number is 10 digits and length is 10 digits\n",
    "    \n",
    "    if len(mob)!=10 or mob.isnumeric()!= True:\n",
    "        logging.exception('Exception occured invalid mobile number')\n",
    "        raise Exception('Invalid Mobile number is entered') "
   ]
  },
  {
   "cell_type": "code",
   "execution_count": 13,
   "id": "e2c174e6-1e4b-4c40-9f4f-007308c16fca",
   "metadata": {},
   "outputs": [
    {
     "name": "stdin",
     "output_type": "stream",
     "text": [
      "Enter Mobile number :  123456\n"
     ]
    },
    {
     "name": "stdout",
     "output_type": "stream",
     "text": [
      "The moblie number entered is 123456\n"
     ]
    },
    {
     "ename": "Exception",
     "evalue": "Invalid Mobile number is entered",
     "output_type": "error",
     "traceback": [
      "\u001b[0;31m---------------------------------------------------------------------------\u001b[0m",
      "\u001b[0;31mException\u001b[0m                                 Traceback (most recent call last)",
      "Cell \u001b[0;32mIn[13], line 2\u001b[0m\n\u001b[1;32m      1\u001b[0m \u001b[38;5;66;03m# Case 1 : Entering digits less than 10\u001b[39;00m\n\u001b[0;32m----> 2\u001b[0m \u001b[43mmob_num\u001b[49m\u001b[43m(\u001b[49m\u001b[43m)\u001b[49m\n",
      "Cell \u001b[0;32mIn[12], line 12\u001b[0m, in \u001b[0;36mmob_num\u001b[0;34m()\u001b[0m\n\u001b[1;32m     10\u001b[0m \u001b[38;5;28;01mif\u001b[39;00m \u001b[38;5;28mlen\u001b[39m(mob)\u001b[38;5;241m!=\u001b[39m\u001b[38;5;241m10\u001b[39m \u001b[38;5;129;01mor\u001b[39;00m mob\u001b[38;5;241m.\u001b[39misnumeric()\u001b[38;5;241m!=\u001b[39m \u001b[38;5;28;01mTrue\u001b[39;00m:\n\u001b[1;32m     11\u001b[0m     logging\u001b[38;5;241m.\u001b[39mexception(\u001b[38;5;124m'\u001b[39m\u001b[38;5;124mException occured invalid mobile number\u001b[39m\u001b[38;5;124m'\u001b[39m)\n\u001b[0;32m---> 12\u001b[0m     \u001b[38;5;28;01mraise\u001b[39;00m \u001b[38;5;167;01mException\u001b[39;00m(\u001b[38;5;124m'\u001b[39m\u001b[38;5;124mInvalid Mobile number is entered\u001b[39m\u001b[38;5;124m'\u001b[39m)\n",
      "\u001b[0;31mException\u001b[0m: Invalid Mobile number is entered"
     ]
    }
   ],
   "source": [
    "# Case 1 : Entering digits less than 10\n",
    "mob_num()"
   ]
  },
  {
   "cell_type": "code",
   "execution_count": 14,
   "id": "ca2737d4-0baf-44c0-8e8e-4bff4aa65283",
   "metadata": {},
   "outputs": [
    {
     "name": "stdin",
     "output_type": "stream",
     "text": [
      "Enter Mobile number :  1234rtyhjkm\n"
     ]
    },
    {
     "name": "stdout",
     "output_type": "stream",
     "text": [
      "The moblie number entered is 1234rtyhjkm\n"
     ]
    },
    {
     "ename": "Exception",
     "evalue": "Invalid Mobile number is entered",
     "output_type": "error",
     "traceback": [
      "\u001b[0;31m---------------------------------------------------------------------------\u001b[0m",
      "\u001b[0;31mException\u001b[0m                                 Traceback (most recent call last)",
      "Cell \u001b[0;32mIn[14], line 2\u001b[0m\n\u001b[1;32m      1\u001b[0m \u001b[38;5;66;03m# Case 2: Entering 10 digit number but has alphabets\u001b[39;00m\n\u001b[0;32m----> 2\u001b[0m \u001b[43mmob_num\u001b[49m\u001b[43m(\u001b[49m\u001b[43m)\u001b[49m\n",
      "Cell \u001b[0;32mIn[12], line 12\u001b[0m, in \u001b[0;36mmob_num\u001b[0;34m()\u001b[0m\n\u001b[1;32m     10\u001b[0m \u001b[38;5;28;01mif\u001b[39;00m \u001b[38;5;28mlen\u001b[39m(mob)\u001b[38;5;241m!=\u001b[39m\u001b[38;5;241m10\u001b[39m \u001b[38;5;129;01mor\u001b[39;00m mob\u001b[38;5;241m.\u001b[39misnumeric()\u001b[38;5;241m!=\u001b[39m \u001b[38;5;28;01mTrue\u001b[39;00m:\n\u001b[1;32m     11\u001b[0m     logging\u001b[38;5;241m.\u001b[39mexception(\u001b[38;5;124m'\u001b[39m\u001b[38;5;124mException occured invalid mobile number\u001b[39m\u001b[38;5;124m'\u001b[39m)\n\u001b[0;32m---> 12\u001b[0m     \u001b[38;5;28;01mraise\u001b[39;00m \u001b[38;5;167;01mException\u001b[39;00m(\u001b[38;5;124m'\u001b[39m\u001b[38;5;124mInvalid Mobile number is entered\u001b[39m\u001b[38;5;124m'\u001b[39m)\n",
      "\u001b[0;31mException\u001b[0m: Invalid Mobile number is entered"
     ]
    }
   ],
   "source": [
    "# Case 2: Entering 10 digit number but has alphabets\n",
    "mob_num()"
   ]
  },
  {
   "cell_type": "code",
   "execution_count": 15,
   "id": "a304606b-692b-49cb-a32b-8817e3a526a7",
   "metadata": {},
   "outputs": [
    {
     "name": "stdin",
     "output_type": "stream",
     "text": [
      "Enter Mobile number :  1234567890\n"
     ]
    },
    {
     "name": "stdout",
     "output_type": "stream",
     "text": [
      "The moblie number entered is 1234567890\n"
     ]
    }
   ],
   "source": [
    "# Case 3 : Entering all 10 digit mob number\n",
    "mob_num()"
   ]
  },
  {
   "cell_type": "markdown",
   "id": "39a8f1d8-3301-43f5-af6b-81fb7500afc9",
   "metadata": {},
   "source": [
    "# Q5. What are custom Exceptions in python ? Why do we need Custom Exceptions? Explain with an Example.\n"
   ]
  },
  {
   "cell_type": "markdown",
   "id": "653b641f-4482-4173-941a-c13053ba06a4",
   "metadata": {},
   "source": [
    "### Answer: Built-in exceptions offer information about Python-related problems, and custom exceptions will add information about project-related problems. Example percentage value should always be between 0 to 100\n",
    "Python detects all the critical errors that occur during Compile-time and Runtime. It stops the program's execution if the error occurs and raises an exception. Some commonly raised Exceptions are ArithmeticError, AttributeError, ImportError, IOError, FileNotFoundError, etc.\n",
    "\n",
    "Sometimes we must enforce constraints on the values that specific program variables can take or save the program from running into an undesired state. In such situations, Python allows programmers to create User-defined Exceptions. To create a User-defined Exception, we need to create a class directly or indirectly derived from the built-in Exception class."
   ]
  },
  {
   "cell_type": "code",
   "execution_count": 16,
   "id": "40a8a07c-e0f8-4a81-bbc4-939e043e90a7",
   "metadata": {},
   "outputs": [],
   "source": [
    "# Creating a custom class for custom exception\n",
    "class pcterror(Exception):\n",
    "    def __init__(self,msg):\n",
    "        self.msg = msg"
   ]
  },
  {
   "cell_type": "code",
   "execution_count": 17,
   "id": "5c3d274b-9748-4b1d-baaa-1d407eca9d89",
   "metadata": {},
   "outputs": [
    {
     "name": "stdout",
     "output_type": "stream",
     "text": [
      "Percentage marks of student is :  85\n"
     ]
    }
   ],
   "source": [
    "# Check if percentage marks of entered is valid or not\n",
    "\n",
    "# Case 1 : Percentage between 0 and 100\n",
    "logging.info('Question 5 , case 1 started')\n",
    "pct = 85\n",
    "\n",
    "# Below is custom exception which checks if percentage is in between 0 and 100\n",
    "if pct<0 or pct>100:\n",
    "    logging.error('Percentage not in range')\n",
    "    raise pcterror('Invalid percentage entered') \n",
    "else:\n",
    "    print('Percentage marks of student is : ',pct)\n",
    "    logging.info('No Error occured')"
   ]
  },
  {
   "cell_type": "code",
   "execution_count": 18,
   "id": "3310326d-3dd7-43a1-98d2-343b1932b762",
   "metadata": {},
   "outputs": [
    {
     "ename": "pcterror",
     "evalue": "Invalid percentage entered",
     "output_type": "error",
     "traceback": [
      "\u001b[0;31m---------------------------------------------------------------------------\u001b[0m",
      "\u001b[0;31mpcterror\u001b[0m                                  Traceback (most recent call last)",
      "Cell \u001b[0;32mIn[18], line 8\u001b[0m\n\u001b[1;32m      6\u001b[0m \u001b[38;5;28;01mif\u001b[39;00m pct\u001b[38;5;241m<\u001b[39m\u001b[38;5;241m0\u001b[39m \u001b[38;5;129;01mor\u001b[39;00m pct\u001b[38;5;241m>\u001b[39m\u001b[38;5;241m100\u001b[39m:\n\u001b[1;32m      7\u001b[0m     logging\u001b[38;5;241m.\u001b[39merror(\u001b[38;5;124m'\u001b[39m\u001b[38;5;124mPercentage not in range\u001b[39m\u001b[38;5;124m'\u001b[39m)\n\u001b[0;32m----> 8\u001b[0m     \u001b[38;5;28;01mraise\u001b[39;00m pcterror(\u001b[38;5;124m'\u001b[39m\u001b[38;5;124mInvalid percentage entered\u001b[39m\u001b[38;5;124m'\u001b[39m) \n\u001b[1;32m      9\u001b[0m \u001b[38;5;28;01melse\u001b[39;00m:\n\u001b[1;32m     10\u001b[0m     \u001b[38;5;28mprint\u001b[39m(\u001b[38;5;124m'\u001b[39m\u001b[38;5;124mPercentage marks of student is : \u001b[39m\u001b[38;5;124m'\u001b[39m,pct)\n",
      "\u001b[0;31mpcterror\u001b[0m: Invalid percentage entered"
     ]
    }
   ],
   "source": [
    "# Case 2 : Negative Percentage\n",
    "logging.info('Question 5 , case 2 started')\n",
    "pct = -20\n",
    "\n",
    "# Below is custom exception which checks if percentage is in between 0 and 100\n",
    "if pct<0 or pct>100:\n",
    "    logging.error('Percentage not in range')\n",
    "    raise pcterror('Invalid percentage entered') \n",
    "else:\n",
    "    print('Percentage marks of student is : ',pct)\n",
    "    logging.info('no error occured')"
   ]
  },
  {
   "cell_type": "code",
   "execution_count": 19,
   "id": "9dc86b68-abf5-452d-b81e-d03ffe7f9585",
   "metadata": {},
   "outputs": [
    {
     "ename": "pcterror",
     "evalue": "Invalid percentage entered",
     "output_type": "error",
     "traceback": [
      "\u001b[0;31m---------------------------------------------------------------------------\u001b[0m",
      "\u001b[0;31mpcterror\u001b[0m                                  Traceback (most recent call last)",
      "Cell \u001b[0;32mIn[19], line 8\u001b[0m\n\u001b[1;32m      6\u001b[0m \u001b[38;5;28;01mif\u001b[39;00m pct\u001b[38;5;241m<\u001b[39m\u001b[38;5;241m0\u001b[39m \u001b[38;5;129;01mor\u001b[39;00m pct\u001b[38;5;241m>\u001b[39m\u001b[38;5;241m100\u001b[39m:\n\u001b[1;32m      7\u001b[0m     logging\u001b[38;5;241m.\u001b[39merror(\u001b[38;5;124m'\u001b[39m\u001b[38;5;124mPercentage not in range\u001b[39m\u001b[38;5;124m'\u001b[39m)\n\u001b[0;32m----> 8\u001b[0m     \u001b[38;5;28;01mraise\u001b[39;00m pcterror(\u001b[38;5;124m'\u001b[39m\u001b[38;5;124mInvalid percentage entered\u001b[39m\u001b[38;5;124m'\u001b[39m) \n\u001b[1;32m      9\u001b[0m \u001b[38;5;28;01melse\u001b[39;00m:\n\u001b[1;32m     10\u001b[0m     \u001b[38;5;28mprint\u001b[39m(\u001b[38;5;124m'\u001b[39m\u001b[38;5;124mPercentage marks of student is : \u001b[39m\u001b[38;5;124m'\u001b[39m,pct)\n",
      "\u001b[0;31mpcterror\u001b[0m: Invalid percentage entered"
     ]
    }
   ],
   "source": [
    "# Case 3 : Percentage > 100\n",
    "logging.info('Question 5 , case 3 started')\n",
    "pct = 135\n",
    "\n",
    "# Below is custom exception which checks if percentage is in between 0 and 100\n",
    "if pct<0 or pct>100:\n",
    "    logging.error('Percentage not in range')\n",
    "    raise pcterror('Invalid percentage entered') \n",
    "else:\n",
    "    print('Percentage marks of student is : ',pct)\n",
    "    logging.info('No error in code')"
   ]
  },
  {
   "cell_type": "markdown",
   "id": "01d6660b-1729-460c-9af1-13b0f32a7994",
   "metadata": {},
   "source": [
    "# Q6. Create a custom exception class . Use this class to handle exception."
   ]
  },
  {
   "cell_type": "markdown",
   "id": "fa2b8015-b48e-48b1-bd85-5b7f2796e81f",
   "metadata": {},
   "source": [
    "### Answer : I'm Creating a custom exception to validate Mobile number"
   ]
  },
  {
   "cell_type": "code",
   "execution_count": 20,
   "id": "765277b6-f839-4263-ae6b-fca4e82537d3",
   "metadata": {},
   "outputs": [],
   "source": [
    "#Creating a custom exception class to validate Mobile number\n",
    "\n",
    "class mobileNO(Exception):\n",
    "    # This class mobileNO is child of Parent class Exception\n",
    "    def __init__(self, msg):\n",
    "        self.msg = msg"
   ]
  },
  {
   "cell_type": "code",
   "execution_count": 34,
   "id": "cf30e6fc-422f-4c30-8d61-7c59a5afd92b",
   "metadata": {},
   "outputs": [],
   "source": [
    "# Custon Definition to validate Mobile number\n",
    "def validate_mobile_no(number):\n",
    "    logging.info('Validate mobile number function started')\n",
    "    \n",
    "    # Condition 1 Check if Surname is entered numeric\n",
    "    if not number.isnumeric():\n",
    "        logging.error(\"Number cannot be Text\")\n",
    "        raise mobileNO('Mobile number cannot be words')\n",
    "    \n",
    "    elif len(number) != 10:\n",
    "        logging.error(\"Number length is not equall to 10\")\n",
    "        raise mobileNO('Length of mobile number should be 10 digits')\n",
    "    \n",
    "    else:\n",
    "        print('Mobile Number is valid')\n",
    "        logging.info('Mobile Card number is Valid')\n",
    "        "
   ]
  },
  {
   "cell_type": "code",
   "execution_count": 35,
   "id": "c395ca69-766e-494d-9480-62bf389f9ad8",
   "metadata": {},
   "outputs": [
    {
     "name": "stdout",
     "output_type": "stream",
     "text": [
      "Mobile Number is valid\n"
     ]
    }
   ],
   "source": [
    "# Test Case 1 : Checking a Valid mobile number number\n",
    "logging.info('Test Case 1')\n",
    "try:\n",
    "    number = '1234567890'\n",
    "    validate_mobile_no(number)\n",
    "    logging.info('Try Block executed')\n",
    "except mobileNO as e:\n",
    "    print(e)\n",
    "    logging.exception('Except block executed')"
   ]
  },
  {
   "cell_type": "code",
   "execution_count": 36,
   "id": "e6c6ee18-cddc-4642-a3af-eeadcf2a7732",
   "metadata": {},
   "outputs": [
    {
     "name": "stdout",
     "output_type": "stream",
     "text": [
      "Length of mobile number should be 10 digits\n"
     ]
    }
   ],
   "source": [
    "# Test case 2 : Entering invalid Mobile number\n",
    "logging.info('Test Case 2')\n",
    "try:\n",
    "    number = '12345'\n",
    "    validate_mobile_no(number)\n",
    "    logging.info('Try Block executed')\n",
    "except mobileNO as e:\n",
    "    print(e)\n",
    "    logging.exception('Except block executed')"
   ]
  },
  {
   "cell_type": "markdown",
   "id": "4ffe0f09-d23d-4fcb-900c-368eaac4db81",
   "metadata": {},
   "source": [
    "# Showing logfile results"
   ]
  },
  {
   "cell_type": "code",
   "execution_count": null,
   "id": "f2036442-b108-4701-bf6a-667be86bedd4",
   "metadata": {},
   "outputs": [],
   "source": [
    "# Shutdown logging first\n",
    "logging.shutdown()"
   ]
  },
  {
   "cell_type": "code",
   "execution_count": 37,
   "id": "924ec06c-d2e0-4c58-bfe9-0625b7a43a36",
   "metadata": {},
   "outputs": [
    {
     "name": "stdout",
     "output_type": "stream",
     "text": [
      "2023-07-09 15:30:53,002 - parso.python.diff - DEBUG - diff parser start\n",
      "2023-07-09 15:30:53,003 - parso.python.diff - DEBUG - line_lengths old: 2; new: 2\n",
      "2023-07-09 15:30:53,003 - parso.python.diff - DEBUG - -> code[equal] old[1:1] new[1:1]\n",
      "2023-07-09 15:30:53,003 - parso.python.diff - DEBUG - parse_part from 1 to 2 (to 1 in part parser)\n",
      "2023-07-09 15:30:53,003 - parso.python.diff - DEBUG - -> code[replace] old[2:2] new[2:2]\n",
      "2023-07-09 15:30:53,003 - parso.python.diff - DEBUG - diff parser end\n",
      "2023-07-09 15:32:31,853 - parso.python.diff - DEBUG - diff parser start\n",
      "2023-07-09 15:32:31,853 - parso.python.diff - DEBUG - line_lengths old: 2; new: 6\n",
      "2023-07-09 15:32:31,853 - parso.python.diff - DEBUG - -> code[equal] old[1:1] new[1:1]\n",
      "2023-07-09 15:32:31,854 - parso.python.diff - DEBUG - parse_part from 1 to 2 (to 2 in part parser)\n",
      "2023-07-09 15:32:31,854 - parso.python.diff - DEBUG - -> code[replace] old[2:2] new[2:6]\n",
      "2023-07-09 15:32:31,854 - parso.python.diff - DEBUG - parse_part from 3 to 6 (to 5 in part parser)\n",
      "2023-07-09 15:32:31,854 - parso.python.diff - DEBUG - diff parser end\n",
      "2023-07-09 15:32:43,783 - parso.python.diff - DEBUG - diff parser start\n",
      "2023-07-09 15:32:43,783 - parso.python.diff - DEBUG - line_lengths old: 6; new: 7\n",
      "2023-07-09 15:32:43,783 - parso.python.diff - DEBUG - -> code[equal] old[1:5] new[1:5]\n",
      "2023-07-09 15:32:43,784 - parso.python.diff - DEBUG - copy old[2:2] new[1:2]\n",
      "2023-07-09 15:32:43,785 - parso.python.diff - DEBUG - parse_part from 3 to 7 (to 6 in part parser)\n",
      "2023-07-09 15:32:43,785 - parso.python.diff - DEBUG - -> code[replace] old[6:6] new[6:7]\n",
      "2023-07-09 15:32:43,785 - parso.python.diff - DEBUG - diff parser end\n",
      "2023-07-09 15:32:45,932 - parso.python.diff - DEBUG - diff parser start\n",
      "2023-07-09 15:32:45,933 - parso.python.diff - DEBUG - line_lengths old: 7; new: 7\n",
      "2023-07-09 15:32:45,933 - parso.python.diff - DEBUG - -> code[equal] old[1:6] new[1:6]\n",
      "2023-07-09 15:32:45,933 - parso.python.diff - DEBUG - copy old[2:2] new[1:2]\n",
      "2023-07-09 15:32:45,934 - parso.python.diff - DEBUG - parse_part from 3 to 7 (to 6 in part parser)\n",
      "2023-07-09 15:32:45,934 - parso.python.diff - DEBUG - -> code[replace] old[7:7] new[7:7]\n",
      "2023-07-09 15:32:45,934 - parso.python.diff - DEBUG - diff parser end\n",
      "2023-07-09 15:33:23,806 - parso.python.diff - DEBUG - diff parser start\n",
      "2023-07-09 15:33:23,807 - parso.python.diff - DEBUG - line_lengths old: 7; new: 8\n",
      "2023-07-09 15:33:23,807 - parso.python.diff - DEBUG - -> code[equal] old[1:6] new[1:6]\n",
      "2023-07-09 15:33:23,807 - parso.python.diff - DEBUG - copy old[2:2] new[1:2]\n",
      "2023-07-09 15:33:23,808 - parso.python.diff - DEBUG - parse_part from 3 to 8 (to 7 in part parser)\n",
      "2023-07-09 15:33:23,808 - parso.python.diff - DEBUG - -> code[replace] old[7:7] new[7:8]\n",
      "2023-07-09 15:33:23,808 - parso.python.diff - DEBUG - diff parser end\n",
      "2023-07-09 15:33:32,722 - parso.python.diff - DEBUG - diff parser start\n",
      "2023-07-09 15:33:32,723 - parso.python.diff - DEBUG - line_lengths old: 8; new: 8\n",
      "2023-07-09 15:33:32,723 - parso.python.diff - DEBUG - -> code[equal] old[1:7] new[1:7]\n",
      "2023-07-09 15:33:32,723 - parso.python.diff - DEBUG - copy old[2:2] new[1:2]\n",
      "2023-07-09 15:33:32,724 - parso.python.diff - DEBUG - parse_part from 3 to 8 (to 7 in part parser)\n",
      "2023-07-09 15:33:32,724 - parso.python.diff - DEBUG - -> code[replace] old[8:8] new[8:8]\n",
      "2023-07-09 15:33:32,724 - parso.python.diff - DEBUG - diff parser end\n",
      "2023-07-09 15:33:41,819 - parso.python.diff - DEBUG - diff parser start\n",
      "2023-07-09 15:33:41,819 - parso.python.diff - DEBUG - line_lengths old: 8; new: 9\n",
      "2023-07-09 15:33:41,819 - parso.python.diff - DEBUG - -> code[equal] old[1:7] new[1:7]\n",
      "2023-07-09 15:33:41,820 - parso.python.diff - DEBUG - copy old[2:2] new[1:2]\n",
      "2023-07-09 15:33:41,821 - parso.python.diff - DEBUG - parse_part from 3 to 9 (to 8 in part parser)\n",
      "2023-07-09 15:33:41,821 - parso.python.diff - DEBUG - -> code[replace] old[8:8] new[8:9]\n",
      "2023-07-09 15:33:41,821 - parso.python.diff - DEBUG - diff parser end\n",
      "2023-07-09 15:34:28,082 - parso.python.diff - DEBUG - diff parser start\n",
      "2023-07-09 15:34:28,082 - parso.python.diff - DEBUG - line_lengths old: 9; new: 14\n",
      "2023-07-09 15:34:28,083 - parso.python.diff - DEBUG - -> code[equal] old[1:8] new[1:8]\n",
      "2023-07-09 15:34:28,083 - parso.python.diff - DEBUG - copy old[2:2] new[1:2]\n",
      "2023-07-09 15:34:28,084 - parso.python.diff - DEBUG - parse_part from 3 to 14 (to 13 in part parser)\n",
      "2023-07-09 15:34:28,084 - parso.python.diff - DEBUG - -> code[insert] old[9:8] new[9:13]\n",
      "2023-07-09 15:34:28,085 - parso.python.diff - DEBUG - -> code[equal] old[9:9] new[14:14]\n",
      "2023-07-09 15:34:28,085 - parso.python.diff - DEBUG - diff parser end\n",
      "2023-07-09 15:35:19,723 - parso.python.diff - DEBUG - diff parser start\n",
      "2023-07-09 15:35:19,723 - parso.python.diff - DEBUG - line_lengths old: 14; new: 16\n",
      "2023-07-09 15:35:19,723 - parso.python.diff - DEBUG - -> code[equal] old[1:13] new[1:13]\n",
      "2023-07-09 15:35:19,723 - parso.python.diff - DEBUG - copy old[2:2] new[1:2]\n",
      "2023-07-09 15:35:19,726 - parso.python.diff - DEBUG - parse_part from 3 to 16 (to 15 in part parser)\n",
      "2023-07-09 15:35:19,726 - parso.python.diff - DEBUG - -> code[replace] old[14:14] new[14:16]\n",
      "2023-07-09 15:35:19,726 - parso.python.diff - DEBUG - diff parser end\n",
      "2023-07-09 15:35:22,958 - parso.python.diff - DEBUG - diff parser start\n",
      "2023-07-09 15:35:22,958 - parso.python.diff - DEBUG - line_lengths old: 16; new: 16\n",
      "2023-07-09 15:35:22,958 - parso.python.diff - DEBUG - -> code[equal] old[1:15] new[1:15]\n",
      "2023-07-09 15:35:22,958 - parso.python.diff - DEBUG - copy old[2:2] new[1:2]\n",
      "2023-07-09 15:35:22,960 - parso.python.diff - DEBUG - parse_part from 3 to 16 (to 15 in part parser)\n",
      "2023-07-09 15:35:22,961 - parso.python.diff - DEBUG - -> code[replace] old[16:16] new[16:16]\n",
      "2023-07-09 15:35:22,961 - parso.python.diff - DEBUG - diff parser end\n",
      "2023-07-09 15:36:03,942 - root - INFO - This is my Start of question 3\n",
      "2023-07-09 15:36:03,943 - root - INFO - Finally Block is executed\n",
      "2023-07-09 15:36:16,589 - root - INFO - This is my Start of question 3\n",
      "2023-07-09 15:36:16,589 - root - INFO - Finally Block is executed\n",
      "2023-07-09 15:36:49,231 - root - INFO - This is my Start of question 3\n",
      "2023-07-09 15:36:49,232 - root - INFO - Finally Block is executed\n",
      "2023-07-09 15:36:58,910 - root - INFO - This is my Start of question 3\n",
      "2023-07-09 15:36:58,911 - root - INFO - Finally Block is executed\n",
      "2023-07-09 15:37:27,927 - root - INFO - This is my Start of question 3\n",
      "2023-07-09 15:37:27,928 - root - INFO - Finally Block is executed\n",
      "2023-07-09 17:18:39,530 - root - INFO - This is my Start of question 3\n",
      "2023-07-09 17:18:39,531 - root - INFO - Finally Block is executed\n",
      "2023-07-09 17:21:29,057 - Comm - ERROR - No such comm target registered: jupyter.widget.control\n",
      "2023-07-09 17:21:29,061 - Comm - WARNING - No such comm: 12566d85-c718-476a-99ce-d2467da54da8\n",
      "2023-07-09 17:21:29,061 - Comm - DEBUG - Current comms: []\n",
      "2023-07-09 17:23:12,900 - root - INFO - This is my Start of question 3\n",
      "2023-07-09 17:23:12,901 - root - INFO - Finally Block is executed\n",
      "2023-07-09 17:23:49,606 - root - INFO - Start of d=function divide\n",
      "2023-07-09 17:23:49,606 - root - INFO - Try Block executed\n",
      "2023-07-09 17:23:49,606 - root - INFO - Else Block executed\n",
      "2023-07-09 17:24:11,414 - root - INFO - Start of d=function divide\n",
      "2023-07-09 17:24:11,415 - root - INFO - Try Block executed\n",
      "2023-07-09 17:24:11,415 - root - INFO - Else Block executed\n",
      "2023-07-09 17:24:26,030 - root - INFO - Start of d=function divide\n",
      "2023-07-09 17:24:26,031 - root - ERROR - Except block executed\n",
      "Traceback (most recent call last):\n",
      "  File \"/tmp/ipykernel_3408/1442908747.py\", line 6, in divide\n",
      "    result = a/b\n",
      "ZeroDivisionError: division by zero\n",
      "2023-07-09 17:24:37,394 - root - INFO - Start of d=function divide\n",
      "2023-07-09 17:24:37,395 - root - INFO - Try Block executed\n",
      "2023-07-09 17:24:37,395 - root - INFO - Else Block executed\n",
      "2023-07-09 17:24:45,494 - root - INFO - Start of d=function divide\n",
      "2023-07-09 17:24:45,494 - root - INFO - Try Block executed\n",
      "2023-07-09 17:24:45,494 - root - INFO - Else Block executed\n",
      "2023-07-09 17:24:55,244 - root - INFO - Start of d=function divide\n",
      "2023-07-09 17:24:55,245 - root - INFO - Try Block executed\n",
      "2023-07-09 17:24:55,245 - root - INFO - Else Block executed\n",
      "2023-07-09 17:25:02,004 - root - INFO - Start of d=function divide\n",
      "2023-07-09 17:25:02,005 - root - INFO - Try Block executed\n",
      "2023-07-09 17:25:02,005 - root - INFO - Else Block executed\n",
      "2023-07-09 17:26:28,431 - root - INFO - Explaining Finally block code of Question 3\n",
      "2023-07-09 17:26:28,432 - root - ERROR - Except block executed\n",
      "Traceback (most recent call last):\n",
      "  File \"/tmp/ipykernel_3408/2040818249.py\", line 6, in <module>\n",
      "    c = a / b\n",
      "ZeroDivisionError: division by zero\n",
      "2023-07-09 17:26:28,432 - root - INFO - Finally Block executed\n",
      "2023-07-09 17:30:16,204 - root - INFO - This is start of the function Raise explaination\n",
      "2023-07-09 17:30:20,468 - root - ERROR - Exception occured invalid mobile number\n",
      "NoneType: None\n",
      "2023-07-09 17:31:13,689 - root - INFO - This is start of the function Raise explaination\n",
      "2023-07-09 17:31:16,837 - root - ERROR - Exception occured invalid mobile number\n",
      "NoneType: None\n",
      "2023-07-09 17:31:31,754 - root - INFO - This is start of the function Raise explaination\n",
      "2023-07-09 17:47:56,691 - root - INFO - Question 5 , case 1 started\n",
      "2023-07-09 17:47:56,691 - root - INFO - No Error occured\n",
      "2023-07-09 17:48:32,110 - root - INFO - Question 5 , case 2 started\n",
      "2023-07-09 17:48:32,111 - root - ERROR - Percentage not in range\n",
      "2023-07-09 17:48:39,091 - root - INFO - Question 5 , case 3 started\n",
      "2023-07-09 17:48:39,092 - root - ERROR - Percentage not in range\n",
      "2023-07-09 18:02:04,699 - Comm - ERROR - No such comm target registered: jupyter.widget.control\n",
      "2023-07-09 18:02:04,702 - Comm - WARNING - No such comm: 6eede419-4884-4475-976f-72acb9a3d6ea\n",
      "2023-07-09 18:02:04,702 - Comm - DEBUG - Current comms: []\n",
      "2023-07-10 07:00:19,503 - root - INFO - This is my Start of question 3\n",
      "2023-07-10 07:00:19,504 - root - INFO - Finally Block is executed\n",
      "2023-07-10 07:00:20,725 - root - INFO - Start of d=function divide\n",
      "2023-07-10 07:00:20,725 - root - INFO - Try Block executed\n",
      "2023-07-10 07:00:20,725 - root - INFO - Else Block executed\n",
      "2023-07-10 07:00:21,006 - root - INFO - Start of d=function divide\n",
      "2023-07-10 07:00:21,007 - root - INFO - Try Block executed\n",
      "2023-07-10 07:00:21,007 - root - INFO - Else Block executed\n",
      "2023-07-10 07:00:21,241 - root - INFO - Start of d=function divide\n",
      "2023-07-10 07:00:21,242 - root - ERROR - Except block executed\n",
      "Traceback (most recent call last):\n",
      "  File \"/tmp/ipykernel_404/1442908747.py\", line 6, in divide\n",
      "    result = a/b\n",
      "ZeroDivisionError: division by zero\n",
      "2023-07-10 07:00:21,762 - root - INFO - Explaining Finally block code of Question 3\n",
      "2023-07-10 07:00:21,763 - root - ERROR - Except block executed\n",
      "Traceback (most recent call last):\n",
      "  File \"/tmp/ipykernel_404/2040818249.py\", line 6, in <module>\n",
      "    c = a / b\n",
      "ZeroDivisionError: division by zero\n",
      "2023-07-10 07:00:21,763 - root - INFO - Finally Block executed\n",
      "2023-07-10 07:00:22,540 - root - INFO - This is start of the function Raise explaination\n",
      "2023-07-10 07:00:31,846 - root - ERROR - Exception occured invalid mobile number\n",
      "NoneType: None\n",
      "2023-07-10 07:00:51,992 - root - INFO - This is start of the function Raise explaination\n",
      "2023-07-10 07:01:03,155 - root - ERROR - Exception occured invalid mobile number\n",
      "NoneType: None\n",
      "2023-07-10 07:01:07,160 - root - INFO - This is start of the function Raise explaination\n",
      "2023-07-10 07:01:14,273 - root - INFO - Question 5 , case 1 started\n",
      "2023-07-10 07:01:14,273 - root - INFO - No Error occured\n",
      "2023-07-10 07:01:14,862 - root - INFO - Question 5 , case 2 started\n",
      "2023-07-10 07:01:14,863 - root - ERROR - Percentage not in range\n",
      "2023-07-10 07:01:18,518 - root - INFO - Question 5 , case 3 started\n",
      "2023-07-10 07:01:18,519 - root - ERROR - Percentage not in range\n",
      "2023-07-10 07:01:27,243 - root - INFO - Validate mobile number function started\n",
      "2023-07-10 07:02:41,100 - parso.python.diff - DEBUG - diff parser start\n",
      "2023-07-10 07:02:41,100 - parso.python.diff - DEBUG - line_lengths old: 6; new: 6\n",
      "2023-07-10 07:02:41,100 - parso.python.diff - DEBUG - -> code[equal] old[1:5] new[1:5]\n",
      "2023-07-10 07:02:41,101 - parso.python.diff - DEBUG - copy old[2:5] new[1:3]\n",
      "2023-07-10 07:02:41,101 - parso.python.diff - DEBUG - parse_part from 4 to 6 (to 5 in part parser)\n",
      "2023-07-10 07:02:41,101 - parso.python.diff - DEBUG - -> code[replace] old[6:6] new[6:6]\n",
      "2023-07-10 07:02:41,101 - parso.python.diff - DEBUG - diff parser end\n",
      "2023-07-10 07:02:56,178 - root - INFO - Validate mobile number function started\n",
      "2023-07-10 07:04:53,715 - root - INFO - Validate mobile number function started\n",
      "2023-07-10 07:05:00,406 - root - INFO - Validate mobile number function started\n",
      "2023-07-10 07:05:00,406 - root - INFO - Try Block executed\n",
      "2023-07-10 07:05:40,719 - root - INFO - Validate mobile number function started\n",
      "2023-07-10 07:05:40,720 - root - INFO - Mobile Card number is Valid\n",
      "2023-07-10 07:05:40,720 - root - INFO - Try Block executed\n",
      "2023-07-10 07:06:01,874 - root - INFO - Test Case 1 , Question 6\n",
      "2023-07-10 07:06:01,875 - root - INFO - Validate mobile number function started\n",
      "2023-07-10 07:06:01,875 - root - INFO - Mobile Card number is Valid\n",
      "2023-07-10 07:06:01,876 - root - INFO - Try Block executed\n",
      "2023-07-10 07:06:19,190 - root - INFO - Validate mobile number function started\n",
      "2023-07-10 07:06:19,191 - root - ERROR - Number length is not equall to 10\n",
      "2023-07-10 07:06:19,191 - root - ERROR - Except block executed\n",
      "Traceback (most recent call last):\n",
      "  File \"/tmp/ipykernel_404/2785224505.py\", line 3, in <module>\n",
      "    validate_mobile_no(number)\n",
      "  File \"/tmp/ipykernel_404/404821965.py\", line 11, in validate_mobile_no\n",
      "    raise mobileNO('Length of mobile number should be 10 digits')\n",
      "mobileNO: Length of mobile number should be 10 digits\n",
      "2023-07-10 07:09:34,700 - root - INFO - Test Case 3\n",
      "2023-07-10 07:09:34,702 - root - INFO - Validate mobile number function started\n",
      "2023-07-10 07:09:34,702 - root - ERROR - Number length is not equall to 10\n",
      "2023-07-10 07:09:34,702 - root - ERROR - Except block executed\n",
      "Traceback (most recent call last):\n",
      "  File \"/tmp/ipykernel_404/3923038340.py\", line 4, in <module>\n",
      "    validate_mobile_no(number)\n",
      "  File \"/tmp/ipykernel_404/617473961.py\", line 12, in validate_mobile_no\n",
      "    raise mobileNO('Length of mobile number should be 10 digits')\n",
      "mobileNO: Length of mobile number should be 10 digits\n",
      "2023-07-10 07:09:58,197 - root - INFO - Test Case 1\n",
      "2023-07-10 07:09:58,198 - root - INFO - Validate mobile number function started\n",
      "2023-07-10 07:09:58,199 - root - INFO - Mobile Card number is Valid\n",
      "2023-07-10 07:09:58,199 - root - INFO - Try Block executed\n",
      "2023-07-10 07:09:58,637 - root - INFO - Test Case 2\n",
      "2023-07-10 07:09:58,638 - root - INFO - Validate mobile number function started\n",
      "2023-07-10 07:09:58,638 - root - ERROR - Number length is not equall to 10\n",
      "2023-07-10 07:09:58,638 - root - ERROR - Except block executed\n",
      "Traceback (most recent call last):\n",
      "  File \"/tmp/ipykernel_404/606511855.py\", line 5, in <module>\n",
      "    validate_mobile_no(number)\n",
      "  File \"/tmp/ipykernel_404/1496126896.py\", line 12, in validate_mobile_no\n",
      "    raise mobileNO('Length of mobile number should be 10 digits')\n",
      "mobileNO: Length of mobile number should be 10 digits\n",
      "\n"
     ]
    }
   ],
   "source": [
    "with open('TryExcept.log','r') as f:\n",
    "    print(f.read())"
   ]
  },
  {
   "cell_type": "code",
   "execution_count": null,
   "id": "98549ba3-388a-4c4a-8fe2-7f8d3ceeca60",
   "metadata": {},
   "outputs": [],
   "source": []
  }
 ],
 "metadata": {
  "kernelspec": {
   "display_name": "Python 3 (ipykernel)",
   "language": "python",
   "name": "python3"
  },
  "language_info": {
   "codemirror_mode": {
    "name": "ipython",
    "version": 3
   },
   "file_extension": ".py",
   "mimetype": "text/x-python",
   "name": "python",
   "nbconvert_exporter": "python",
   "pygments_lexer": "ipython3",
   "version": "3.10.8"
  }
 },
 "nbformat": 4,
 "nbformat_minor": 5
}
