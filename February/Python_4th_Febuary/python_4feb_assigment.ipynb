{
 "cells": [
  {
   "cell_type": "markdown",
   "id": "ac66fd63-775d-4066-afef-9b9dc9b8800a",
   "metadata": {},
   "source": [
    "# Answer. 1"
   ]
  },
  {
   "cell_type": "code",
   "execution_count": 1,
   "id": "79a581d8-e119-491b-a827-e838c99929c5",
   "metadata": {},
   "outputs": [],
   "source": [
    "# Create program to short the given list of tuples based on intergers values using lamda function\n",
    "\n",
    "my_list = [('Sachin Tendulkar', 34357), ('Ricky Ponting', 27483), ('Jack Kallis', 25534), ('Virat Kohli', 24936)]   #Given list"
   ]
  },
  {
   "cell_type": "code",
   "execution_count": 5,
   "id": "6d2b289f-af56-474e-bc38-bcc93eec0223",
   "metadata": {},
   "outputs": [],
   "source": [
    "sorted_list = sorted(my_list , key = lambda x : x[1])    #Creating lamda finction to sort the list of tuple on intergers values"
   ]
  },
  {
   "cell_type": "code",
   "execution_count": 6,
   "id": "d4c69877-35aa-48d5-aaa3-4747a1c61e1d",
   "metadata": {},
   "outputs": [
    {
     "name": "stdout",
     "output_type": "stream",
     "text": [
      "[('Virat Kohli', 24936), ('Jack Kallis', 25534), ('Ricky Ponting', 27483), ('Sachin Tendulkar', 34357)]\n"
     ]
    }
   ],
   "source": [
    "print(sorted_list)  #Print the generated list"
   ]
  },
  {
   "cell_type": "markdown",
   "id": "a7baaadf-d7ae-4435-a395-38f9f91bb2a6",
   "metadata": {},
   "source": [
    "# Answer. 2"
   ]
  },
  {
   "cell_type": "code",
   "execution_count": 16,
   "id": "c36a9d82-930f-48b9-b1bc-740b9fe05cc5",
   "metadata": {},
   "outputs": [],
   "source": [
    "#Program to square the element of list using map nad lambbda function \n",
    "\n",
    "l1 =[1,2,3,4,5,6]  #Given List "
   ]
  },
  {
   "cell_type": "code",
   "execution_count": 9,
   "id": "aa51ae79-0998-4455-9eb2-50aa8e0379de",
   "metadata": {},
   "outputs": [
    {
     "data": {
      "text/plain": [
       "[1, 4, 9, 16, 25, 36]"
      ]
     },
     "execution_count": 9,
     "metadata": {},
     "output_type": "execute_result"
    }
   ],
   "source": [
    "list(map(lambda x : x**2 , l1))    #Map the lamda function to list l1 for square the list element and print the list"
   ]
  },
  {
   "cell_type": "markdown",
   "id": "32e8a453-8225-45c5-9811-0308f3487613",
   "metadata": {},
   "source": [
    "# Answer. 3"
   ]
  },
  {
   "cell_type": "code",
   "execution_count": 13,
   "id": "aad57d61-da05-4746-9042-d10a81b3337a",
   "metadata": {},
   "outputs": [],
   "source": [
    "#Program to convert the list into the tuple \n",
    "\n",
    "l2 = [1, 2, 3, 4, 5, 6, 7, 8, 9, 10]  #Given list"
   ]
  },
  {
   "cell_type": "code",
   "execution_count": 14,
   "id": "fb7a3353-eb7a-4dad-9fe4-513dcd618b20",
   "metadata": {},
   "outputs": [],
   "source": [
    "def con(x):      #Define the function \n",
    "    return x   #function return the x"
   ]
  },
  {
   "cell_type": "code",
   "execution_count": 15,
   "id": "d0cb9704-4874-47bb-8031-b84c1da4185c",
   "metadata": {},
   "outputs": [
    {
     "data": {
      "text/plain": [
       "(1, 2, 3, 4, 5, 6, 7, 8, 9, 10)"
      ]
     },
     "execution_count": 15,
     "metadata": {},
     "output_type": "execute_result"
    }
   ],
   "source": [
    "tuple(map(con,l2))    #Map the list to the function to convert the list to tuple"
   ]
  },
  {
   "cell_type": "markdown",
   "id": "07b3ff32-2c2e-4d85-abe6-757051c08b99",
   "metadata": {},
   "source": [
    "# Answer. 4"
   ]
  },
  {
   "cell_type": "code",
   "execution_count": 17,
   "id": "2b2bd772-5f0a-48bc-8fc1-ff1cd4f5f029",
   "metadata": {},
   "outputs": [],
   "source": [
    "from functools import reduce  # import the reduce function through functools"
   ]
  },
  {
   "cell_type": "code",
   "execution_count": 18,
   "id": "ba20abfe-bfc4-43e2-b6a9-81b75d22d0bb",
   "metadata": {},
   "outputs": [
    {
     "data": {
      "text/plain": [
       "15511210043330985984000000"
      ]
     },
     "execution_count": 18,
     "metadata": {},
     "output_type": "execute_result"
    }
   ],
   "source": [
    "num = list(range(1,26))     #Creating the list from 1 to 25\n",
    "\n",
    "reduce(lambda x,y: x*y ,num)   #multiplying the element in the list using the lamda function an reduce the lamda fuction"
   ]
  },
  {
   "cell_type": "markdown",
   "id": "9599d008-6154-4a04-beaf-cd736d62ec2c",
   "metadata": {},
   "source": [
    "# Answer. 5"
   ]
  },
  {
   "cell_type": "code",
   "execution_count": 49,
   "id": "78972c39-1c8f-49a4-939c-911977d9ae39",
   "metadata": {},
   "outputs": [],
   "source": [
    "# program to filter the number divided by 2 and 3 using lamda\n",
    "\n",
    "list2 = [2, 3, 6, 9, 27, 60, 90, 120, 55, 46] "
   ]
  },
  {
   "cell_type": "code",
   "execution_count": 55,
   "id": "69def785-a405-4d2b-86e2-41f4d4c4f3cb",
   "metadata": {},
   "outputs": [
    {
     "data": {
      "text/plain": [
       "[2, 3, 6, 9, 27, 60, 90, 120, 46]"
      ]
     },
     "execution_count": 55,
     "metadata": {},
     "output_type": "execute_result"
    }
   ],
   "source": [
    "list(filter(lambda x :  x%2 == 0 or x%3 == 0 ,list2))  "
   ]
  },
  {
   "cell_type": "markdown",
   "id": "79f0b066-aaa2-4f66-a523-28f5024cf70d",
   "metadata": {},
   "source": [
    "# Answer. 6"
   ]
  },
  {
   "cell_type": "code",
   "execution_count": 1,
   "id": "fa3bd3f4-8f43-40b7-b1e4-826a83216027",
   "metadata": {},
   "outputs": [],
   "source": [
    "# python program to find palindromes in the given list of strings using lambda and filter function. \n",
    "\n",
    "list3 = ['python', 'php', 'aba', 'radar', 'level']"
   ]
  },
  {
   "cell_type": "code",
   "execution_count": 4,
   "id": "5a5075a6-d311-4552-b000-2326c28f59de",
   "metadata": {},
   "outputs": [],
   "source": [
    "palindromes = list(filter(lambda x : x == x[::-1] ,list3))"
   ]
  },
  {
   "cell_type": "code",
   "execution_count": 5,
   "id": "cdb65b3d-dca4-491a-b6ae-c41891c48c5d",
   "metadata": {},
   "outputs": [
    {
     "name": "stdout",
     "output_type": "stream",
     "text": [
      "['php', 'aba', 'radar', 'level']\n"
     ]
    }
   ],
   "source": [
    "print(palindromes)"
   ]
  },
  {
   "cell_type": "code",
   "execution_count": null,
   "id": "5069658a-48cb-46ad-b18e-025cb8ed7156",
   "metadata": {},
   "outputs": [],
   "source": []
  }
 ],
 "metadata": {
  "kernelspec": {
   "display_name": "Python 3 (ipykernel)",
   "language": "python",
   "name": "python3"
  },
  "language_info": {
   "codemirror_mode": {
    "name": "ipython",
    "version": 3
   },
   "file_extension": ".py",
   "mimetype": "text/x-python",
   "name": "python",
   "nbconvert_exporter": "python",
   "pygments_lexer": "ipython3",
   "version": "3.10.8"
  }
 },
 "nbformat": 4,
 "nbformat_minor": 5
}
