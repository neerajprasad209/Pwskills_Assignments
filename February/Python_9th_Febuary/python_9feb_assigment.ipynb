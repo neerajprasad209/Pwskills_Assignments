{
 "cells": [
  {
   "cell_type": "markdown",
   "id": "e003ce45-68f2-4fee-8358-4f6a7df9e901",
   "metadata": {
    "tags": []
   },
   "source": [
    "# Q1. Create a vehicle class with an init method having instance variables as name_of_vehicle, max_speed and average_of_vehicle."
   ]
  },
  {
   "cell_type": "code",
   "execution_count": 13,
   "id": "19d5e9b6-4dcf-446d-9f91-cee5cf738f4e",
   "metadata": {},
   "outputs": [],
   "source": [
    "class Car :\n",
    "        \n",
    "        def __init__(self, name_of_car, max_speed, average_of_vehicle ):\n",
    "            self.name_of_car = name_of_car\n",
    "            self.max_speed = max_speed\n",
    "            self.average_of_vehicle = average_of_vehicle\n",
    "            \n",
    "        def return_vehicle_detail(self) :\n",
    "            return self.name_of_car, self.max_speed, self.average_of_vehicle"
   ]
  },
  {
   "cell_type": "code",
   "execution_count": 14,
   "id": "fc1e32ba-dc56-4ca7-80b3-f45aca96a96c",
   "metadata": {},
   "outputs": [],
   "source": [
    "neeraj = Car(\"Sedan\",110,\"10kmpl\")"
   ]
  },
  {
   "cell_type": "code",
   "execution_count": 15,
   "id": "5f7fcb99-5570-44db-b527-fbc4c5a54bdf",
   "metadata": {},
   "outputs": [
    {
     "data": {
      "text/plain": [
       "('Sedan', 110, '10kmpl')"
      ]
     },
     "execution_count": 15,
     "metadata": {},
     "output_type": "execute_result"
    }
   ],
   "source": [
    "neeraj.return_vehicle_detail()"
   ]
  },
  {
   "cell_type": "markdown",
   "id": "7de79267-c6da-47ae-b84e-4ce378c8e3ee",
   "metadata": {
    "tags": []
   },
   "source": [
    "# Q2.  Create a child class car from the vehicle class created in Que 1, which will inherit the vehicle class. Create a method named seating_capacity which takes capacity as an argument and returns the name of the vehicle and its seating capacity."
   ]
  },
  {
   "cell_type": "code",
   "execution_count": 16,
   "id": "80ebc5f8-81f1-459b-9e2f-689ba5a2f946",
   "metadata": {},
   "outputs": [],
   "source": [
    "class Hundai(Car):\n",
    "    def __init__(self, name_of_car, max_speed, average_of_vehicle, setting_capacity):\n",
    "        super().__init__(name_of_car, max_speed, average_of_vehicle)\n",
    "        self.setting_capacity = setting_capacity\n",
    "        \n",
    "    def return_vehicle_detail(self) :\n",
    "            return self.name_of_car, self.max_speed, self.average_of_vehicle, self.setting_capacity"
   ]
  },
  {
   "cell_type": "code",
   "execution_count": 17,
   "id": "654f2a60-b376-4fb7-b08b-fe55b781e10b",
   "metadata": {},
   "outputs": [],
   "source": [
    "amaze = Hundai(\"Hundai\",\"180kph\",\"10kmpl\",4) "
   ]
  },
  {
   "cell_type": "code",
   "execution_count": 18,
   "id": "c284437b-957c-48f4-9464-4d5d46465b35",
   "metadata": {},
   "outputs": [
    {
     "data": {
      "text/plain": [
       "('Hundai', '180kph', '10kmpl', 4)"
      ]
     },
     "execution_count": 18,
     "metadata": {},
     "output_type": "execute_result"
    }
   ],
   "source": [
    "amaze.return_vehicle_detail()"
   ]
  },
  {
   "cell_type": "markdown",
   "id": "88fd0a0c-fa6c-4bc8-8f82-de427524bf1c",
   "metadata": {},
   "source": [
    "# Q3. What is multiple inheritance? Write a python code to demonstrate multiple inheritance."
   ]
  },
  {
   "cell_type": "markdown",
   "id": "90d4f90b-ea27-4c76-bf37-1fda5b2bf409",
   "metadata": {},
   "source": [
    "Inheritance allows us to define a class that inherits all the methods and properties from another class.    \n",
    "The Parent class is the class being inherited from, also called base class. The Child class is the class     \n",
    "that inherits from another class, also called derived class."
   ]
  },
  {
   "cell_type": "code",
   "execution_count": 22,
   "id": "be1f38b7-4d39-43d5-b98f-b1adba3fd179",
   "metadata": {},
   "outputs": [],
   "source": [
    "class Mobile():\n",
    "    def __init__(self, brand, ram, camera, network):\n",
    "        self.brand = brand\n",
    "        self.ram = ram\n",
    "        self.camera = camera\n",
    "        self.network = network"
   ]
  },
  {
   "cell_type": "code",
   "execution_count": 42,
   "id": "e017b47b-0579-40ed-9c39-48740c48764d",
   "metadata": {},
   "outputs": [],
   "source": [
    "class Samsung(Mobile):\n",
    "    def __init__(self, brand, ram, camera, network, model):\n",
    "        super().__init__(brand, ram, camera, network)\n",
    "        self.model = model\n",
    "    \n",
    "    def return_mobile(self):\n",
    "        return f\"Brand: {self.brand}, Model: {self.model}, RAM: {self.ram}, Camera: {self.camera}, Network: {self.network}.\""
   ]
  },
  {
   "cell_type": "code",
   "execution_count": 43,
   "id": "36765a0c-123f-4b84-a51f-ae260139579c",
   "metadata": {},
   "outputs": [],
   "source": [
    "samsung_a7 = Samsung(\"Samsung\",\"A7\",\"8GB\",\"28 MegaPixel\",\"4g,5g\")"
   ]
  },
  {
   "cell_type": "code",
   "execution_count": 44,
   "id": "f2e85641-b241-4039-9c42-7cfeba07f93b",
   "metadata": {},
   "outputs": [
    {
     "data": {
      "text/plain": [
       "'Brand: Samsung, Model: 4g,5g, RAM: A7, Camera: 8GB, Network: 28 MegaPixel.'"
      ]
     },
     "execution_count": 44,
     "metadata": {},
     "output_type": "execute_result"
    }
   ],
   "source": [
    "samsung_a7.return_mobile()"
   ]
  },
  {
   "cell_type": "markdown",
   "id": "09a287ba-f222-46f5-9499-30f95ca87af5",
   "metadata": {},
   "source": [
    "# Q4. What are getter and setter in python? Create a class and create a getter and a setter method in this class."
   ]
  },
  {
   "cell_type": "code",
   "execution_count": 8,
   "id": "571fe721-f248-4bbe-ac40-52c921811454",
   "metadata": {},
   "outputs": [],
   "source": [
    "# Python program showing the use of\n",
    "# @property Decorator\n",
    "  \n",
    "class Myfunc:\n",
    "    def __init__(self):\n",
    "        self._age = 0\n",
    "        \n",
    "     # a getter function\n",
    "    @property\n",
    "    def age(self):\n",
    "        print(\"Getter method called\")\n",
    "        return self._age\n",
    "       \n",
    "     # a setter function\n",
    "    @age.setter\n",
    "    def age(self, a):\n",
    "        if(a < 18):\n",
    "            print(\"Sorry you age is below eligibility criteria\")\n",
    "        print(\"setter method called\")\n",
    "        self._age = a"
   ]
  },
  {
   "cell_type": "code",
   "execution_count": 9,
   "id": "4f7a3d62-bb78-40f5-82d3-5726bf358bcc",
   "metadata": {},
   "outputs": [],
   "source": [
    "mark = Myfunc()"
   ]
  },
  {
   "cell_type": "code",
   "execution_count": 10,
   "id": "80dc547a-4666-492c-a603-233ad5b71610",
   "metadata": {},
   "outputs": [
    {
     "name": "stdout",
     "output_type": "stream",
     "text": [
      "setter method called\n"
     ]
    }
   ],
   "source": [
    "mark.age = 19"
   ]
  },
  {
   "cell_type": "code",
   "execution_count": 11,
   "id": "3b3fa441-09e6-48af-9601-53e917ac374b",
   "metadata": {},
   "outputs": [
    {
     "name": "stdout",
     "output_type": "stream",
     "text": [
      "Getter method called\n",
      "19\n"
     ]
    }
   ],
   "source": [
    "print(mark.age)"
   ]
  },
  {
   "cell_type": "markdown",
   "id": "1e66e959-2c0b-45a4-b175-1e1dfb2bf74a",
   "metadata": {},
   "source": [
    "# Q5.What is method overriding in python? Write a python code to demonstrate method overriding."
   ]
  },
  {
   "cell_type": "markdown",
   "id": "ef4cf140-9764-4b9a-afe5-8fbafe8d2a24",
   "metadata": {},
   "source": [
    "Method overriding in Python is when you have two methods with the same name that each perform different tasks. This is an important feature of inheritance in Python."
   ]
  },
  {
   "cell_type": "markdown",
   "id": "69e523f1-b5ce-406f-939c-e3b58b135313",
   "metadata": {},
   "source": [
    "In the child class has access to the properties and functions of the parent class method while also extending additional functions of its own to the method. "
   ]
  },
  {
   "cell_type": "code",
   "execution_count": 17,
   "id": "7a2e7d9c-ae39-41e0-beb1-47dc1cba576a",
   "metadata": {},
   "outputs": [],
   "source": [
    "class Animal:\n",
    "\t# function breathe\n",
    "\tdef breathe(self):\n",
    "\t    print(\"I breathe oxygen.\")\n",
    "    \n",
    "    # function feed\n",
    "\tdef feed(self):\n",
    "\t    print(\"I eat food.\")"
   ]
  },
  {
   "cell_type": "code",
   "execution_count": 18,
   "id": "49a7afa0-d325-4133-ad37-6c0949f5ba2c",
   "metadata": {},
   "outputs": [],
   "source": [
    "class Herbivorous(Animal):\n",
    "    \n",
    "    # function feed\n",
    "\tdef feed(self):\n",
    "\t    print(\"I eat only plants. I am vegetarian.\")"
   ]
  },
  {
   "cell_type": "code",
   "execution_count": 19,
   "id": "1d2e20f5-4313-4e86-8016-adf7521e0a4e",
   "metadata": {},
   "outputs": [],
   "source": [
    "herbi = Herbivorous()"
   ]
  },
  {
   "cell_type": "code",
   "execution_count": 20,
   "id": "d9a810cd-6cef-4c8b-a7c0-684c268d1804",
   "metadata": {},
   "outputs": [
    {
     "name": "stdout",
     "output_type": "stream",
     "text": [
      "I eat only plants. I am vegetarian.\n"
     ]
    }
   ],
   "source": [
    "herbi.feed()"
   ]
  },
  {
   "cell_type": "code",
   "execution_count": 21,
   "id": "9d7ce999-2afb-4194-bf2d-5dc72afb655f",
   "metadata": {},
   "outputs": [
    {
     "name": "stdout",
     "output_type": "stream",
     "text": [
      "I breathe oxygen.\n"
     ]
    }
   ],
   "source": [
    "herbi.breathe()"
   ]
  },
  {
   "cell_type": "code",
   "execution_count": null,
   "id": "37698112-3180-4d7a-9452-3f10d7496f10",
   "metadata": {},
   "outputs": [],
   "source": []
  }
 ],
 "metadata": {
  "kernelspec": {
   "display_name": "Python 3 (ipykernel)",
   "language": "python",
   "name": "python3"
  },
  "language_info": {
   "codemirror_mode": {
    "name": "ipython",
    "version": 3
   },
   "file_extension": ".py",
   "mimetype": "text/x-python",
   "name": "python",
   "nbconvert_exporter": "python",
   "pygments_lexer": "ipython3",
   "version": "3.10.8"
  }
 },
 "nbformat": 4,
 "nbformat_minor": 5
}
