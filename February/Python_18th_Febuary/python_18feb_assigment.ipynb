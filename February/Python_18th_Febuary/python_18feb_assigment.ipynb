{
 "cells": [
  {
   "cell_type": "markdown",
   "id": "db17f8f5-a720-4590-8df3-48c3602cb1bc",
   "metadata": {},
   "source": [
    "# Q1. What is an API? Give an example, where an API is used in real life."
   ]
  },
  {
   "cell_type": "markdown",
   "id": "fbc67aa0-137c-4aff-9563-d3581d1b88be",
   "metadata": {},
   "source": [
    "## Answer:\n",
    "\n",
    "### API stands for Application Programming Interface. It is a set of protocols, routines, and tools for building software applications. APIs allow different software systems to communicate with each other and exchange information, even if they are built using different programming languages, operating systems, or platforms.\n",
    "\n",
    "### Real Life Example of one stock market API is the Alpha Vantage API. This API provides real-time and historical stock market data, as well as technical indicators and other financial data, for stocks, ETFs, mutual funds, and cryptocurrencies.\n",
    "\n",
    "### Developers can use the Alpha Vantage API to build financial applications that require stock market data, such as stock trading platforms, portfolio trackers, and investment research tools. The API provides various endpoints to retrieve different types of data, including real-time stock quotes, intraday stock prices, daily stock prices, and stock performance metrics like moving averages, relative strength index (RSI), and Bollinger Bands.\n",
    "\n",
    "### Other examples of stock market APIs include the Yahoo Finance API, IEX Cloud API, and the Google Finance API (although this one is no longer actively maintained). These APIs provide similar functionality, allowing developers to access financial data for use in their applications.\n"
   ]
  },
  {
   "cell_type": "markdown",
   "id": "fb107b3c-8e1d-42d2-acc4-36d835451efd",
   "metadata": {},
   "source": [
    "# 5 Examples of APIs We Use in Our Everyday Lives"
   ]
  },
  {
   "cell_type": "markdown",
   "id": "e807a8a0-1fb7-48eb-a56d-1fdf6f99022a",
   "metadata": {},
   "source": [
    "1. Weather Snippets : One common API usage example we come across on a daily basis is weather data\n",
    "\n",
    "2. Log in Using XYZ : Taken from Buffer’s social login Another prominent example of API usage is the “log-in using Facebook/Twitter/Google/Github” functionality you see on so many websites.\n",
    "\n",
    "3. Pay with XYZ : Most online stores offer Paypal and other payment methods, utilizing API connections to these services. Ever used PayPal to pay for something, directly within an eCommerce store? Yep, that’s a payment API at work.\n",
    "\n",
    "4. Travel Booking : There are many APIs at work within the travel and booking industry. Click to expand this graphic by AltexSoft.Ever wondered how travel booking sites are able to aggregate thousands of flights and destinations and showcase the cheapest option? Often, the answer is by using third-party APIs to collect flight and hotel availabilities from providers.\n",
    "\n",
    "5. Online Banking : Yep, even banks are starting to use web APIs! The open banking movement, initially spurred by PSD2, is still in full swing."
   ]
  },
  {
   "cell_type": "markdown",
   "id": "6412948d-0b8a-4dd5-8ad7-278d1d6ac235",
   "metadata": {},
   "source": [
    "# Q2: Give advantages and disadvantages of using API."
   ]
  },
  {
   "cell_type": "markdown",
   "id": "634599b7-630f-4986-aa62-2065762d55d4",
   "metadata": {},
   "source": [
    "## Answer :\n",
    "\n",
    "### Advantages of using API:\n",
    "\n",
    "1. Interoperability: APIs enable different software systems to interact with each other seamlessly, regardless of their underlying technologies or programming languages. This allows for greater interoperability between systems and can lead to more efficient and effective software development.\n",
    "\n",
    "2. Flexibility: APIs allow developers to create applications that are flexible and customizable. Developers can choose the specific functionality they need from an API and incorporate it into their applications, rather than building that functionality from scratch.\n",
    "\n",
    "3. Time and cost savings: APIs can save time and money for developers and organizations by providing ready-made solutions that can be easily integrated into existing systems. This can reduce the amount of time and resources needed to build new software applications.\n",
    "\n",
    "4. Innovation: APIs can spur innovation by allowing developers to create new applications that integrate with existing systems. This can lead to the development of new products and services that might not have been possible without APIs.\n",
    "\n",
    "\n",
    "### Disadvantages of using API:\n",
    "\n",
    "1. Complexity: APIs can be complex to use and require technical expertise to implement and maintain. This can make it challenging for non-technical users to integrate with them.\n",
    "\n",
    "2. Security Risks: APIs can introduce security risks, such as data breaches or unauthorized access to sensitive data, if not implemented properly or if security protocols are not followed.\n",
    "\n",
    "3. Dependency: When an application relies heavily on a third-party API, it can create a dependency on that API. Any changes or disruptions to the API can have a significant impact on the application, leading to downtime or other issues.\n",
    "\n",
    "4. Limited functionality: APIs may not always provide all the functionality needed for a particular application. In such cases, developers may need to build custom solutions, which can be time-consuming and costly.\n",
    "\n",
    "Overall, APIs offer significant advantages for software development and integration, but it's important to consider the potential drawbacks and risks associated with their use. Developers should carefully evaluate the pros and cons of using APIs and choose the best approach for their particular needs."
   ]
  },
  {
   "cell_type": "markdown",
   "id": "9dfe2d2e-8c20-42db-80b9-3a99fa51300b",
   "metadata": {},
   "source": [
    "# Q3: What is a Web API? Differentiate between API and Web API."
   ]
  },
  {
   "cell_type": "markdown",
   "id": "2bd28703-e3e6-4a36-8a4f-48029e66a1d8",
   "metadata": {},
   "source": [
    "## Answer :\n",
    "\n",
    "### A Web API, also known as a web service, is a type of API that is accessed over the web using HTTP requests and responses. Web APIs allow applications to exchange data with web servers and access resources such as databases, file systems, or other services.\n",
    "\n",
    "### The main difference between an API and a Web API is that APIs can be accessed through different channels, including desktop applications, mobile apps, and embedded systems, whereas Web APIs are specifically designed to be accessed over the web using HTTP.\n",
    "\n",
    "### Another difference is that Web APIs often use standard web technologies such as REST (Representational State Transfer) or SOAP (Simple Object Access Protocol) to exchange data between systems, while APIs may use a variety of communication protocols and data formats depending on their design.\n",
    "\n",
    "### Differences between API and Web API are as per below:\n",
    "|Features        | API                           | Web API                      |\n",
    "|:------:|:------------------------------|:----------------------------|\n",
    "| Access | Can be accessed through various channels, including desktop applications, mobile apps, and embedded systems | Specifically designed to be accessed over the web using HTTP |\n",
    "| Protocol | May use different communication protocols and data formats depending on their design | Typically use standard web technologies such as REST or SOAP |\n",
    "| Resource | Can provide access to various types of services and resources, such as operating system functions, hardware devices, or databases | Provide access to web-based services and resources such as databases, file systems, or other web services |\n",
    "| Integration | Can be integrated with a wide range of software systems and applications | Often integrated with web-based software systems and applications |\n",
    "| Security | Security protocols can vary depending on the design and implementation of the API | Typically use standard web security protocols such as OAuth or SSL/TLS |\n",
    "| Examples | Operating system APIs, hardware APIs, database APIs, etc. | AlphaVantage API, Google Maps API, Twitter API, Facebook API, etc. |\n"
   ]
  },
  {
   "cell_type": "markdown",
   "id": "1760139d-3020-4e3a-b04f-d7e9dc8b010d",
   "metadata": {},
   "source": [
    "# Q4: Explain REST and SOAP Architecture. Mention shortcomings of SOAP."
   ]
  },
  {
   "cell_type": "markdown",
   "id": "df6819f2-d333-42e9-8e19-4dac5e0702d0",
   "metadata": {},
   "source": [
    "## Answer :\n",
    "\n",
    "### REST and SOAP are two different architectural styles for designing web services.\n",
    "\n",
    "1. REST (Representational State Transfer) is an architectural style that emphasizes the use of HTTP methods and resource URIs (Uniform Resource Identifiers) to represent and manipulate web resources. RESTful APIs typically use standard HTTP methods such as GET, POST, PUT, and DELETE to retrieve, create, update, and delete resources. REST is lightweight and scalable, and can be easily implemented using simple HTTP protocols.\n",
    "\n",
    "2. SOAP (Simple Object Access Protocol), on the other hand, is a protocol that defines a standard format for exchanging structured data between applications over the internet. SOAP relies on XML (Extensible Markup Language) as its messaging format, and typically uses the HTTP or SMTP (Simple Mail Transfer Protocol) protocols for communication. SOAP is highly structured and can be used for complex operations, but can also be more cumbersome to implement and use than RESTful APIs.\n",
    "\n",
    "### Shortcomings of SOAP\n",
    "\n",
    "1. One of the main shortcomings of SOAP is its complexity. SOAP relies on a complex XML schema that can be difficult to read and understand, and the protocol itself can be cumbersome to implement and use. SOAP also tends to be more resource-intensive than RESTful APIs, which can make it less suitable for high-volume or low-bandwidth environments.\n",
    "\n",
    "2. Additionally, SOAP can be less flexible than REST, as it requires a strict adherence to a predefined interface and message format. This can make it difficult to customize or extend SOAP-based APIs to suit specific use cases or applications."
   ]
  },
  {
   "cell_type": "markdown",
   "id": "f5a70630-7043-48e9-9dc2-72119ad9df0d",
   "metadata": {},
   "source": [
    "# Q5: Differentiate between REST and SOAP."
   ]
  },
  {
   "cell_type": "markdown",
   "id": "56fb5205-de42-4f5f-b4ef-05f176466cd2",
   "metadata": {},
   "source": [
    "## Answer :\n",
    "\n",
    "### Difference between REST and SOAP As below:\n",
    "\n",
    "|Feature         | REST                                         | SOAP                                         |\n",
    "|:-------:|:---------------------------------------------|:---------------------------------------------|\n",
    "| Protocol | Uses HTTP                                    | Can use HTTP, SMTP, and others                |\n",
    "| Data format | Typically uses JSON or XML              | Always uses XML                              |\n",
    "| Communication style | Stateless, each request contains all information needed | Can be stateful or stateless |\n",
    "| Message structure | Doesn't define a specific message structure | Has a standardized message structure defined by XML schema |\n",
    "| Performance | Generally faster and more lightweight       | Can be more resource-intensive and slower     |\n",
    "| Flexibility | Generally more flexible                     | Often more rigid and requires more planning and design |\n",
    "\n",
    "### Overall, the choice between REST and SOAP depends on the specific needs of the application or service being developed. REST is often preferred for smaller, high-performance applications with a smaller data footprint, while SOAP may be more appropriate for larger, enterprise-level applications that require more robust messaging capabilities.\n"
   ]
  },
  {
   "cell_type": "code",
   "execution_count": null,
   "id": "272bfa07-ddfb-4761-9aad-b95663403862",
   "metadata": {},
   "outputs": [],
   "source": []
  }
 ],
 "metadata": {
  "kernelspec": {
   "display_name": "Python 3 (ipykernel)",
   "language": "python",
   "name": "python3"
  },
  "language_info": {
   "codemirror_mode": {
    "name": "ipython",
    "version": 3
   },
   "file_extension": ".py",
   "mimetype": "text/x-python",
   "name": "python",
   "nbconvert_exporter": "python",
   "pygments_lexer": "ipython3",
   "version": "3.10.8"
  }
 },
 "nbformat": 4,
 "nbformat_minor": 5
}
