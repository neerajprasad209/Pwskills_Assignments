{
 "cells": [
  {
   "cell_type": "markdown",
   "id": "89dd1827-4901-4eba-b6c8-53d6fbd42d4d",
   "metadata": {},
   "source": [
    "# Q1. What is Abstraction in OOps? Explain with an example."
   ]
  },
  {
   "cell_type": "markdown",
   "id": "1635a15f-c5b4-4277-b1ea-a696f66b1c5c",
   "metadata": {},
   "source": [
    "Abstraction is used to hide the internal functionality of the function from the users. The users only interact with the basic implementation of the function,      \n",
    "but inner working is hidden. User is familiar with that \"what function does\" but they don't know \"how it does.\""
   ]
  },
  {
   "cell_type": "code",
   "execution_count": 4,
   "id": "51c9f981-9a37-4848-8e41-aef4decd4592",
   "metadata": {},
   "outputs": [],
   "source": [
    "#Example\n",
    "import abc\n",
    "\n",
    "#Abs_method definition\n",
    "class Shape:                  \n",
    "    @abc.abstractmethod\n",
    "    def area(self):\n",
    "        pass"
   ]
  },
  {
   "cell_type": "code",
   "execution_count": 2,
   "id": "7da3313f-4de9-403e-a3db-7a6daa2817a1",
   "metadata": {},
   "outputs": [],
   "source": [
    "class area(Shape):\n",
    "    def area_of_triangle(self):\n",
    "        return\"Gives area of triangle\""
   ]
  },
  {
   "cell_type": "code",
   "execution_count": 3,
   "id": "afb5210c-d494-43bd-8e21-4ba9f671dc99",
   "metadata": {},
   "outputs": [
    {
     "data": {
      "text/plain": [
       "'Gives area of triangle'"
      ]
     },
     "execution_count": 3,
     "metadata": {},
     "output_type": "execute_result"
    }
   ],
   "source": [
    "aot = area()\n",
    "aot.area_of_triangle()"
   ]
  },
  {
   "cell_type": "markdown",
   "id": "2d9ac26f-ac16-4bd9-b2e2-77330b2aed69",
   "metadata": {},
   "source": [
    "# Q2. Differentiate between Abstraction and Encapsulation. Explain with an example."
   ]
  },
  {
   "cell_type": "markdown",
   "id": "ca2aedf8-a499-4a8c-b9cf-d44c643955b6",
   "metadata": {},
   "source": [
    "|            Abstraction            |            Encapsulation            |\n",
    "| --------------------------------- | --------------------------------- | \n",
    "| It is the process of gaining information | It is a method that helps wrap up data into a single module | \n",
    "| The problems in this technique are solved at the interface level. | Problems in encapsulation are solved at the implementation level. |\n",
    "| It can be implemented using abstract classes and interfaces. | It can be implemented using access modifiers like public, private and protected. |"
   ]
  },
  {
   "cell_type": "code",
   "execution_count": 3,
   "id": "7dd337ad-8fdd-46ea-9f8d-b695d2ab63e2",
   "metadata": {},
   "outputs": [
    {
     "name": "stdout",
     "output_type": "stream",
     "text": [
      "Name:  Neeraj Salary: 8000\n",
      "Neeraj is working on Data Science\n"
     ]
    }
   ],
   "source": [
    "#example Encapsulation\n",
    "\n",
    "class Emp:\n",
    "    # constructor\n",
    "    def __init__(self, name, salary, project):\n",
    "        # data members\n",
    "        self.name = name\n",
    "        self.salary = salary\n",
    "        self.project = project\n",
    "\n",
    "    # method\n",
    "    # to display employee's details\n",
    "    def show(self):\n",
    "        # accessing public data member\n",
    "        print(\"Name: \", self.name, 'Salary:', self.salary)\n",
    "\n",
    "    # method\n",
    "    def work(self):\n",
    "        print(self.name, 'is working on', self.project)\n",
    "\n",
    "# creating object of a class\n",
    "emp = Emp('Neeraj', 8000, 'Data Science')\n",
    "\n",
    "# calling public method of the class\n",
    "emp.show()\n",
    "emp.work()"
   ]
  },
  {
   "cell_type": "code",
   "execution_count": 4,
   "id": "4250978c-a718-4e18-84da-e92149e25496",
   "metadata": {},
   "outputs": [],
   "source": [
    "#example Abstraction\n",
    "import abc\n",
    "\n",
    "#Abs_method definition\n",
    "class Shape:                  \n",
    "    @abc.abstractmethod\n",
    "    def area(self):\n",
    "        pass"
   ]
  },
  {
   "cell_type": "code",
   "execution_count": 5,
   "id": "b98a3450-5563-43ee-aa59-87f9c9a2b665",
   "metadata": {},
   "outputs": [],
   "source": [
    "class area(Shape):\n",
    "    def area_of_triangle(self):\n",
    "        return\"Gives area of triangle\""
   ]
  },
  {
   "cell_type": "code",
   "execution_count": 6,
   "id": "0705971f-714c-4451-a29d-273077779a07",
   "metadata": {},
   "outputs": [
    {
     "data": {
      "text/plain": [
       "'Gives area of triangle'"
      ]
     },
     "execution_count": 6,
     "metadata": {},
     "output_type": "execute_result"
    }
   ],
   "source": [
    "aot = area()\n",
    "aot.area_of_triangle()"
   ]
  },
  {
   "cell_type": "markdown",
   "id": "65aed528-6c78-464e-b982-ad771f927c18",
   "metadata": {},
   "source": [
    "# Q3. What is abc module in python? Why is it used?"
   ]
  },
  {
   "cell_type": "markdown",
   "id": "ff3fbb48-f310-48c0-a975-cad07c7494a3",
   "metadata": {},
   "source": [
    "The main goal of the abstract base class is to provide a standardized way to test whether an object adheres to a given specification.             \n",
    "It can also prevent any attempt to instantiate a subclass that doesn’t override a particular method in the superclass.                 \n",
    "And finally, using an abstract class, a class can derive identity from another class without any object inheritance.        \n",
    "\n",
    "* Why it is used ?\n",
    "\n",
    "To understand the need to declare a virtual subclass, we need to consider the example of a list-like object where you don’t          \n",
    "want to put a restriction of only considering list or tuple. Before that let’s see how to use isinstance to check against a list or tuple of class. "
   ]
  },
  {
   "cell_type": "markdown",
   "id": "5cd22c54-3732-41eb-8d0e-e3c86aed0840",
   "metadata": {},
   "source": [
    "# Q4. How can we achieve data abstraction?"
   ]
  },
  {
   "cell_type": "markdown",
   "id": "2d3631a9-4084-41af-b250-2464ba697169",
   "metadata": {},
   "source": [
    "Abstract base classes, implemented through the Python abc module, allow you to write cleaner, safer code.            "
   ]
  },
  {
   "cell_type": "markdown",
   "id": "6d522aef-ef35-4927-addb-25ed5dfc85fe",
   "metadata": {},
   "source": [
    "Abstract classes are incomplete because they have methods that have nobody. If python allows creating an object for abstract classes then using that object if anyone calls the abstract method, but there is no actual implementation to invoke. So we use an abstract class as a template and according to the need, we extend it and build on it before we can use it. Due to the fact, an abstract class is not a concrete class, it cannot be instantiated. When we create an object for the abstract class it raises an error. "
   ]
  },
  {
   "cell_type": "markdown",
   "id": "ab1b6fe8-3649-4330-ba09-bdb71fa0c772",
   "metadata": {},
   "source": [
    "# Q5. Can we create an instance of an abstract class? Explain your answer."
   ]
  },
  {
   "cell_type": "markdown",
   "id": "9c9afb3a-8de2-41dc-97db-68691c9d4dab",
   "metadata": {},
   "source": [
    "* Abstract classes are not complete, as they may have some methods that are not defined. So we cannot create an instance or object of an abstract class in Python."
   ]
  }
 ],
 "metadata": {
  "kernelspec": {
   "display_name": "Python 3 (ipykernel)",
   "language": "python",
   "name": "python3"
  },
  "language_info": {
   "codemirror_mode": {
    "name": "ipython",
    "version": 3
   },
   "file_extension": ".py",
   "mimetype": "text/x-python",
   "name": "python",
   "nbconvert_exporter": "python",
   "pygments_lexer": "ipython3",
   "version": "3.10.8"
  }
 },
 "nbformat": 4,
 "nbformat_minor": 5
}
