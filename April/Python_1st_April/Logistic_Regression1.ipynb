{
 "cells": [
  {
   "cell_type": "markdown",
   "metadata": {},
   "source": [
    "<h1 align=center> Assignment  55: Logistic Regression 1 </h1>"
   ]
  },
  {
   "cell_type": "markdown",
   "metadata": {},
   "source": [
    "-----"
   ]
  },
  {
   "cell_type": "markdown",
   "metadata": {},
   "source": [
    "# Question 1 : Explain the difference between linear regression and logistic regression models. Provide an example of a scenario where logistic regression would be more appropriate."
   ]
  },
  {
   "cell_type": "markdown",
   "metadata": {},
   "source": [
    "## Answer :"
   ]
  },
  {
   "cell_type": "markdown",
   "metadata": {},
   "source": [
    "### Linear regression and logistic regression are two common types of regression models in statistics and machine learning. Linear regression is used to model the relationship between a continuous dependent variable and one or more independent variables, while logistic regression is used to model the probability of a binary outcome based on one or more independent variables.\n",
    "\n",
    "### In linear regression, the goal is to find the best line that fits the data points in a way that minimizes the sum of squared differences between the predicted values and the actual values. The output of a linear regression model is a continuous variable that can take any value within a range. For example, if we are predicting house prices based on the number of bedrooms, the output of the linear regression model could be any value greater than or equal to zero.\n",
    "\n",
    "### In logistic regression, the goal is to model the probability of a binary outcome (i.e., 0 or 1) based on one or more independent variables. The output of a logistic regression model is a probability value between 0 and 1, which represents the likelihood of the binary outcome occurring. For example, if we are predicting whether a customer will buy a product based on their age, the output of the logistic regression model could be a probability value between 0 and 1.\n",
    "\n",
    "### Logistic regression would be more appropriate than linear regression in scenarios where the dependent variable is binary or categorical. For example, if we are trying to predict whether a customer will churn (i.e., stop using a product or service) based on their demographics and usage patterns, logistic regression would be a more appropriate model than linear regression. In this case, the output of the logistic regression model would be a probability value representing the likelihood of churn, rather than a continuous variable like house prices. The probability value could then be used to make decisions, such as whether to offer the customer a retention incentive."
   ]
  },
  {
   "cell_type": "markdown",
   "metadata": {},
   "source": [
    "| Linear Regression | Logistic Regression |\n",
    "| --- | --- |\n",
    "| Used to model the relationship between a continuous dependent variable and one or more independent variables | Used to model the probability of a binary outcome based on one or more independent variables |\n",
    "| The output is a continuous variable that can take any value within a range | The output is a probability value between 0 and 1, which represents the likelihood of the binary outcome occurring |\n",
    "| Used when the dependent variable is continuous | Used when the dependent variable is binary or categorical |\n",
    "| Example scenario: Predicting house prices based on the number of bedrooms | Example scenario: Predicting whether a customer will churn based on their demographics and usage patterns |\n",
    "| The goal is to find the best line that fits the data points in a way that minimizes the sum of squared differences between the predicted values and the actual values | The goal is to model the probability of a binary outcome by finding the coefficients that maximize the likelihood of the observed data |"
   ]
  },
  {
   "cell_type": "markdown",
   "metadata": {},
   "source": [
    "# Question 2 : What is the cost function used in logistic regression, and how is it optimized?"
   ]
  },
  {
   "cell_type": "markdown",
   "metadata": {},
   "source": [
    "## Answer :"
   ]
  },
  {
   "cell_type": "markdown",
   "metadata": {},
   "source": [
    "### In logistic regression, the cost function is called the \"logistic loss\" or \"cross-entropy loss\" function. It measures the difference between the predicted probability values and the actual binary labels for the training data.\n",
    "\n",
    "### The logistic loss function is defined as follows:\n",
    "\n",
    "$ L(y, \\hat{y}) = -y\\log(\\hat{y}) - (1-y)\\log(1-\\hat{y}) $\n",
    "\n",
    "where y is the actual binary label (0 or 1) and $\\hat{y}$ is the predicted probability of the positive class (y=1) given the input features x.\n",
    "\n",
    "### The goal of logistic regression is to find the values of the coefficients (i.e., the parameters) that minimize the logistic loss function. This is typically done using an optimization algorithm called gradient descent. Gradient descent iteratively updates the parameter values in the direction of steepest descent, moving towards the minimum of the cost function. The steps of gradient descent are as follows:\n",
    "\n",
    "1. Initialize the coefficients to some values.\n",
    "\n",
    "2. Calculate the predicted probabilities for the training data using the current coefficients.\n",
    "\n",
    "3. Calculate the gradient of the cost function with respect to each coefficient.\n",
    "\n",
    "4. Update each coefficient by subtracting a fraction (the learning rate) of the gradient from its current value.\n",
    "\n",
    "5. Repeat steps 2-4 until convergence (i.e., until the cost function stops decreasing or a maximum number of iterations is reached).\n",
    "\n",
    "### There are also other optimization algorithms that can be used to optimize the logistic loss function, such as Newton's method and quasi-Newton methods. However, gradient descent is the most commonly used method due to its simplicity and efficiency.\n"
   ]
  },
  {
   "cell_type": "markdown",
   "metadata": {},
   "source": [
    "# Question 3 : Explain the concept of regularization in logistic regression and how it helps prevent overfitting."
   ]
  },
  {
   "cell_type": "markdown",
   "metadata": {},
   "source": [
    "## Answer :"
   ]
  },
  {
   "cell_type": "markdown",
   "metadata": {},
   "source": [
    "### Regularization is a technique used to prevent overfitting in machine learning models, including logistic regression. Overfitting occurs when a model learns the noise in the training data and is unable to generalize to new, unseen data. This can happen when the model has too many parameters, which allows it to fit the training data very closely but makes it less likely to generalize well.\n",
    "\n",
    "### There are two common types of regularization used in logistic regression: L1 and L2 regularization. L1 regularization, also known as Lasso regularization, adds a penalty term to the logistic regression cost function that is proportional to the absolute value of the model's coefficients. This penalty encourages the model to have fewer non-zero coefficients, effectively performing feature selection and reducing the complexity of the model.\n",
    "\n",
    "### L2 regularization, also known as Ridge regularization, adds a penalty term to the logistic regression cost function that is proportional to the square of the model's coefficients. This penalty encourages the model to have smaller coefficients overall, effectively reducing the magnitude of the coefficients and smoothing the decision boundary.\n",
    "\n",
    "### Both L1 and L2 regularization help prevent overfitting by discouraging the model from becoming too complex and fitting the noise in the training data. By adding a penalty to the cost function, the model is encouraged to prioritize simpler solutions that generalize better to new, unseen data.\n",
    "\n",
    "### Overall, regularization is a powerful tool that can be used to improve the performance of logistic regression models and prevent overfitting."
   ]
  },
  {
   "cell_type": "markdown",
   "metadata": {},
   "source": [
    "L1 regularization:\n",
    "\n",
    "$J(w) = -\\frac{1}{N} \\sum_{i=1}^N [y_i\\log(\\hat{y}_i) + (1-y_i)\\log(1-\\hat{y}i)] + \\lambda \\sum_{j=1}^p |w_j|$\n",
    "\n",
    "where $N$ is the number of samples, $y_i$ is the true label of the $i$-th sample, $\\hat{y}_i$ is the predicted probability of the $i$-th sample, $p$ is the number of features, $w_j$ is the weight of the $j$-th feature, and $\\lambda$ is the regularization strength.\n",
    "\n",
    "L2 regularization:\n",
    "\n",
    "$J(w) = -\\frac{1}{N} \\sum_{i=1}^N [y_i\\log(\\hat{y}_i) + (1-y_i)\\log(1-\\hat{y}i)] + \\lambda \\sum_{j=1}^p w_j^2$\n",
    "\n",
    "where $N$, $y_i$, $\\hat{y}_i$, $p$, $w_j$, and $\\lambda$ have the same meaning as in the L1 regularization loss function.\n",
    "\n",
    "### Note that the first term in both loss functions is the binary cross-entropy loss, which measures the difference between the predicted probability and the true label. The second term is the regularization penalty, which encourages the weights to be small (in the case of L2) or sparse (in the case of L1)."
   ]
  },
  {
   "cell_type": "markdown",
   "metadata": {},
   "source": [
    "# Question 4 : What is the ROC curve, and how is it used to evaluate the performance of the logistic regression model?"
   ]
  },
  {
   "cell_type": "markdown",
   "metadata": {},
   "source": [
    "## Answer :"
   ]
  },
  {
   "cell_type": "markdown",
   "metadata": {},
   "source": [
    "### The ROC (Receiver Operating Characteristic) curve is a graphical representation of the performance of a binary classification model, such as logistic regression. It is created by plotting the true positive rate (TPR) on the y-axis and the false positive rate (FPR) on the x-axis, at various threshold settings.\n",
    "\n",
    "### The TPR is the proportion of positive cases that are correctly classified as positive by the model, while the FPR is the proportion of negative cases that are incorrectly classified as positive by the model. By varying the threshold at which we classify a case as positive or negative, we can generate a range of TPR and FPR values and plot them on the ROC curve.\n",
    "\n",
    "### A perfect classifier would have a TPR of 1 and an FPR of 0, resulting in a point at the top left corner of the ROC curve. A random classifier, on the other hand, would have a diagonal line from the bottom left corner to the top right corner, indicating that the TPR and FPR are equal at all thresholds.\n",
    "\n",
    "### In general, a better classifier will have a ROC curve that is closer to the top left corner of the plot. We can quantify the overall performance of the model by calculating the area under the curve (AUC) of the ROC curve. A perfect classifier will have an AUC of 1, while a random classifier will have an AUC of 0.5.\n",
    "\n",
    "### The ROC curve and AUC are useful tools for evaluating the performance of a logistic regression model because they provide a way to compare different models and to visualize the trade-off between sensitivity (TPR) and specificity (1 - FPR) at different thresholds. The ROC curve is also robust to imbalanced classes, unlike other evaluation metrics such as accuracy, which can be misleading in the presence of class imbalance.\n",
    "\n",
    "### Below is example in python showing ROC curve and ROC_AUC Score :"
   ]
  },
  {
   "cell_type": "code",
   "execution_count": 1,
   "metadata": {},
   "outputs": [
    {
     "name": "stdout",
     "output_type": "stream",
     "text": [
      "ROC AUC Score : 0.9253\n",
      "\n",
      "===================================================================\n",
      "\n"
     ]
    },
    {
     "data": {
      "image/png": "[encoded data removed]",
      "text/plain": [
       "<Figure size 640x480 with 1 Axes>"
      ]
     },
     "metadata": {},
     "output_type": "display_data"
    }
   ],
   "source": [
    "from sklearn.datasets import make_classification\n",
    "from sklearn.linear_model import LogisticRegression\n",
    "from sklearn.metrics import roc_curve, roc_auc_score\n",
    "import matplotlib.pyplot as plt\n",
    "\n",
    "# Generate synthetic binary classification dataset\n",
    "X, y = make_classification(n_samples=1000, n_classes=2, weights=[0.9, 0.1], random_state=42)\n",
    "\n",
    "# Fit logistic regression model\n",
    "clf = LogisticRegression()\n",
    "clf.fit(X, y)\n",
    "\n",
    "# Predict probabilities for test set\n",
    "probs = clf.predict_proba(X)[:, 1]\n",
    "\n",
    "# Calculate false positive rate, true positive rate, and thresholds\n",
    "fpr, tpr, thresholds = roc_curve(y, probs)\n",
    "\n",
    "# Calculate AUC\n",
    "auc = roc_auc_score(y, probs)\n",
    "print('ROC AUC Score : %.4f' % auc)\n",
    "\n",
    "print('\\n===================================================================\\n')\n",
    "\n",
    "# Plot ROC curve\n",
    "plt.plot(fpr, tpr,label=f\"ROC AUC Score : {auc:.4f}\")\n",
    "plt.xlabel('False Positive Rate')\n",
    "plt.ylabel('True Positive Rate')\n",
    "plt.title('ROC Curve')\n",
    "plt.legend()\n",
    "plt.show()"
   ]
  },
  {
   "cell_type": "markdown",
   "metadata": {},
   "source": [
    "# Question 5 : What are some common techniques for feature selection in logistic regression? How do these techniques help improve the model's performance?"
   ]
  },
  {
   "cell_type": "markdown",
   "metadata": {},
   "source": [
    "## Answer :"
   ]
  },
  {
   "cell_type": "markdown",
   "metadata": {},
   "source": [
    "### Feature selection is the process of selecting a subset of relevant features (or variables) from the original set of features to use in a model. In logistic regression, feature selection techniques can help to improve the model's performance by reducing the number of irrelevant or redundant features, thereby reducing overfitting and increasing interpretability.\n",
    "\n",
    "### Here are some common techniques for feature selection in logistic regression:\n",
    "\n",
    "1. Univariate feature selection: This method evaluates each feature individually to determine its relationship with the target variable. It uses statistical tests such as chi-squared test, ANOVA, or correlation coefficient to rank the features based on their p-values or correlation strength. The top k features with the highest scores are selected for the model.\n",
    "\n",
    "2. Recursive feature elimination (RFE): This method uses an iterative process to remove features from the model one by one based on their importance scores. The importance score can be derived from the coefficients of the logistic regression model or from external methods such as random forests. RFE continues to remove features until the optimal number of features is reached.\n",
    "\n",
    "3. Lasso regularization: This method adds a penalty term to the logistic regression objective function that shrinks the coefficients of some features to zero, effectively removing them from the model. The strength of the penalty is controlled by a hyperparameter called the regularization strength. This method can select a sparse set of features that are most relevant to the target variable.\n",
    "\n",
    "4. Principal component analysis (PCA): This method transforms the original features into a new set of linearly uncorrelated variables called principal components. These components are sorted in descending order of explained variance, and the top k components are selected for the model. This method can help to reduce multicollinearity and simplify the model.\n",
    "\n",
    "5. Forward selection/backward elimination: These methods are stepwise selection algorithms that iteratively add or remove features from the model based on their contribution to the model's performance. Forward selection starts with an empty model and adds the best feature at each step until a stopping criterion is reached. Backward elimination starts with the full model and removes the least important feature at each step until a stopping criterion is reached.\n",
    "\n",
    "### These feature selection techniques help to improve the performance of logistic regression models by reducing the number of irrelevant or redundant features, which can lead to overfitting, improve interpretability, and simplify the model. By selecting a subset of the most relevant features, these techniques can also improve the model's predictive accuracy and reduce the risk of spurious correlations"
   ]
  },
  {
   "cell_type": "markdown",
   "metadata": {},
   "source": [
    "# Question 6 : How can you handle imbalanced datasets in logistic regression? What are some strategies for dealing with class imbalance?"
   ]
  },
  {
   "cell_type": "markdown",
   "metadata": {},
   "source": [
    "## Answer :"
   ]
  },
  {
   "cell_type": "markdown",
   "metadata": {},
   "source": [
    "### Imbalanced datasets occur when one class of the target variable is much more prevalent than the other. This can cause logistic regression models to be biased towards the majority class, leading to poor performance for the minority class. Here are some strategies for handling imbalanced datasets in logistic regression:\n",
    "\n",
    "1. Resampling: This involves either oversampling the minority class (i.e., creating new synthetic samples from the minority class) or undersampling the majority class (i.e., randomly removing samples from the majority class). The goal is to balance the class distribution in the dataset. However, oversampling can lead to overfitting, and undersampling can result in loss of information.\n",
    "\n",
    "2. Cost-sensitive learning: This involves assigning different misclassification costs to each class, such that misclassifying the minority class is penalized more heavily than misclassifying the majority class. This can be achieved by adjusting the threshold for class prediction, or by modifying the logistic regression objective function to include the cost matrix.\n",
    "\n",
    "3. Class weighting: This involves assigning a higher weight to the minority class samples during model training. This can be achieved by setting the class_weight parameter in scikit-learn's LogisticRegression class to 'balanced', which automatically adjusts the weights based on the class distribution.\n",
    "\n",
    "4. Ensemble methods: This involves combining multiple logistic regression models trained on different subsets of the dataset or with different hyperparameters. This can include bagging, boosting, or stacking methods, which can help to reduce the bias towards the majority class and improve the overall performance.\n",
    "\n",
    "5. Anomaly detection: This involves treating the minority class as an anomaly or outlier detection problem, and using techniques such as one-class SVM or isolation forest to identify and classify the minority class samples.\n",
    "\n",
    "### These strategies can help to address the problem of class imbalance in logistic regression models, and improve the performance for the minority class. However, the choice of strategy may depend on the specific characteristics of the dataset and the goals of the analysis. It is important to evaluate the performance of the model using appropriate metrics such as precision, recall, F1-score, or ROC AUC, and to perform cross-validation to assess the generalization performance of the model."
   ]
  },
  {
   "cell_type": "markdown",
   "metadata": {},
   "source": [
    "# Question 7 : Can you discuss some common issues and challenges that may arise when implementing logistic regression, and how they can be addressed? For example, what can be done if there is multicollinearity among the independent variables?"
   ]
  },
  {
   "cell_type": "markdown",
   "metadata": {},
   "source": [
    "## Answer :"
   ]
  },
  {
   "cell_type": "markdown",
   "metadata": {},
   "source": [
    "### Logistic regression is a powerful and widely used method for modeling binary or categorical outcomes. However, there are several issues and challenges that can arise when implementing logistic regression. Here are some common issues and possible solutions:\n",
    "\n",
    "1. Multicollinearity: This occurs when two or more independent variables are highly correlated with each other, which can cause unstable or biased coefficient estimates. To address multicollinearity, one option is to remove one of the correlated variables from the model. Alternatively, techniques such as principal component analysis (PCA) or ridge regression can be used to reduce the dimensionality of the data and account for the collinearity.\n",
    "\n",
    "2. Overfitting: This occurs when the model is too complex and captures noise or random fluctuations in the data, leading to poor generalization performance. To address overfitting, techniques such as regularization, cross-validation, or early stopping can be used to reduce the complexity of the model and improve its generalization performance.\n",
    "\n",
    "3. Imbalanced data: This occurs when the two classes in the binary outcome variable are not equally represented in the dataset. To address imbalanced data, techniques such as resampling, cost-sensitive learning, or class weighting can be used to balance the class distribution and improve the performance for the minority class.\n",
    "\n",
    "4. Outliers: This occurs when some observations in the dataset have extreme values or deviate significantly from the rest of the data. To address outliers, techniques such as robust regression, trimming, or Winsorization can be used to reduce the influence of the outliers on the model estimation.\n",
    "\n",
    "5. Missing data: This occurs when some observations have missing values for some of the variables in the dataset. To address missing data, techniques such as imputation, complete case analysis, or multiple imputation can be used to estimate the missing values and retain as much information as possible from the incomplete data.\n",
    "\n",
    "### Overall, logistic regression can be a powerful tool for modeling binary outcomes, but it requires careful attention to the potential issues and challenges that can arise during implementation. By addressing these issues using appropriate techniques and strategies, we can improve the performance and interpretability of logistic regression models."
   ]
  },
  {
   "cell_type": "markdown",
   "metadata": {},
   "source": [
    "## Reducing Multicolinearity using PCA Python code"
   ]
  },
  {
   "cell_type": "code",
   "execution_count": 2,
   "metadata": {},
   "outputs": [
    {
     "name": "stdout",
     "output_type": "stream",
     "text": [
      "Accuracy: 0.8200\n",
      "ROC AUC Score : 0.9110\n"
     ]
    }
   ],
   "source": [
    "from sklearn.datasets import make_classification\n",
    "from sklearn.decomposition import PCA\n",
    "from sklearn.linear_model import LogisticRegression\n",
    "from sklearn.model_selection import train_test_split\n",
    "from sklearn.metrics import accuracy_score, roc_auc_score\n",
    "\n",
    "# Generate a binary classification dataset with 1000 samples\n",
    "X, y = make_classification(n_samples=1000, n_features=10, n_informative=5, random_state=42)\n",
    "\n",
    "# Use PCA to reduce the dimensionality of the data and account for collinearity\n",
    "pca = PCA(n_components=5)\n",
    "X_pca = pca.fit_transform(X)\n",
    "\n",
    "# Split the dataset into training and testing sets\n",
    "X_train, X_test, y_train, y_test = train_test_split(X_pca, y, test_size=0.2, random_state=42)\n",
    "\n",
    "# Train a logistic regression model on the training set\n",
    "clf = LogisticRegression(random_state=42,max_iter=1000)\n",
    "clf.fit(X_train, y_train)\n",
    "\n",
    "# Predict the labels for the testing set\n",
    "y_pred = clf.predict(X_test)\n",
    "y_pred_prob = clf.predict_proba(X_test)[:,-1]\n",
    "\n",
    "# Evaluate the accuracy of the model\n",
    "acc = accuracy_score(y_test, y_pred)\n",
    "roc = roc_auc_score(y_test,y_pred_prob)\n",
    "print(f\"Accuracy: {acc:.4f}\")\n",
    "print(f'ROC AUC Score : {roc:.4f}')\n"
   ]
  },
  {
   "cell_type": "code",
   "execution_count": 3,
   "metadata": {},
   "outputs": [
    {
     "data": {
      "image/png": "[encoded data removed]",
      "text/plain": [
       "<Figure size 640x480 with 2 Axes>"
      ]
     },
     "metadata": {},
     "output_type": "display_data"
    }
   ],
   "source": [
    "from sklearn.metrics import confusion_matrix\n",
    "import seaborn as sns\n",
    "cf = confusion_matrix(y_test,y_pred)\n",
    "sns.heatmap(cf,annot=True)\n",
    "plt.show()\n"
   ]
  },
  {
   "cell_type": "code",
   "execution_count": 4,
   "metadata": {},
   "outputs": [
    {
     "name": "stdout",
     "output_type": "stream",
     "text": [
      "              precision    recall  f1-score   support\n",
      "\n",
      "           0       0.84      0.84      0.84       112\n",
      "           1       0.80      0.80      0.80        88\n",
      "\n",
      "    accuracy                           0.82       200\n",
      "   macro avg       0.82      0.82      0.82       200\n",
      "weighted avg       0.82      0.82      0.82       200\n",
      "\n"
     ]
    }
   ],
   "source": [
    "from sklearn.metrics import classification_report\n",
    "cr = classification_report(y_test,y_pred)\n",
    "print(cr)"
   ]
  },
  {
   "cell_type": "code",
   "execution_count": null,
   "metadata": {},
   "outputs": [],
   "source": []
  }
 ],
 "metadata": {
  "kernelspec": {
   "display_name": "venv",
   "language": "python",
   "name": "python3"
  },
  "language_info": {
   "codemirror_mode": {
    "name": "ipython",
    "version": 3
   },
   "file_extension": ".py",
   "mimetype": "text/x-python",
   "name": "python",
   "nbconvert_exporter": "python",
   "pygments_lexer": "ipython3",
   "version": "3.11.3"
  }
 },
 "nbformat": 4,
 "nbformat_minor": 2
}
