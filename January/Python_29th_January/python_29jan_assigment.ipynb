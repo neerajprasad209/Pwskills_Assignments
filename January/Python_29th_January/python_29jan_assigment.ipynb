{
 "cells": [
  {
   "cell_type": "markdown",
   "id": "f4895f7c-968f-4e3e-a7a0-2ea6930fe91c",
   "metadata": {},
   "source": [
    "## Answer 1\n",
    "\n",
    "Python was Developed by Guido van Rossum in 1991 and developed by Python Software Foundation.\n",
    "\n",
    "## Answer 2\n",
    "\n",
    "Python supoorts both object-oriented and procedural programing so it is suitable for wide range of application. \n",
    "\n",
    "## Answer 3\n",
    "\n",
    "Yes python is a case sensitive and it treates uppercase and lowercase letters in identifiers as different entities.\n",
    "\n",
    "## Answer 4\n",
    "\n",
    ".py is the correct extension for python file.\n",
    "\n",
    "## Answer 5\n",
    "\n",
    "Python code is First compiled then interpreted.\n",
    "it means when the python program is run -\n",
    "* first python check for syntax.\n",
    "* second it compiles and converts it to bytecode and bytecode is loaded in system memory.\n",
    "* third compiled bytecode interpreted from memory to execute it.\n",
    "\n",
    "In python the compilation part is hidden from the programer thus programmers belives that python is an interpreted language.\n",
    "\n",
    "\n",
    "## Answer 6\n",
    "\n",
    "Python relies on indentation, using whitespace, to define scope; such as the scope of loops, functions and classes. Other programming languages often use curly-brackets for this purpose.\n",
    "\n"
   ]
  },
  {
   "cell_type": "code",
   "execution_count": 6,
   "id": "46f8df63-ec1a-422a-b88e-befee2ca7d4f",
   "metadata": {},
   "outputs": [
    {
     "name": "stdout",
     "output_type": "stream",
     "text": [
      "Neeraj\n",
      "kumar\n",
      "pwskills\n",
      "course\n"
     ]
    }
   ],
   "source": [
    "#Answer6 example \n",
    "l=[\"Neeraj\",'kumar','pwskills','course']\n",
    "l1 =[]\n",
    "for i in l:\n",
    "    print(i)\n",
    "    l1.append(i.upper())"
   ]
  },
  {
   "cell_type": "markdown",
   "id": "97c06d95-ce8b-4919-ae18-6087527c4fc7",
   "metadata": {},
   "source": [
    "## Answer 7\n",
    "'#' is used for single line comment in python\n",
    "\n",
    "## Answer 8\n",
    "sys.version function is used to to find the version of python that we are currently working on"
   ]
  },
  {
   "cell_type": "code",
   "execution_count": 2,
   "id": "c06fba44-75a4-480a-9055-dabbf299a635",
   "metadata": {},
   "outputs": [
    {
     "name": "stdout",
     "output_type": "stream",
     "text": [
      "3.10.8 | packaged by conda-forge | (main, Nov 22 2022, 08:26:04) [GCC 10.4.0]\n"
     ]
    }
   ],
   "source": [
    "#example\n",
    "import sys\n",
    "print(sys.version)"
   ]
  },
  {
   "cell_type": "markdown",
   "id": "e592d6f5-cacd-47bf-b69b-b11199355356",
   "metadata": {},
   "source": [
    "## Answer 9\n",
    "\n",
    "Python support the creation of anonymous function at runtime using a construct called lambda \n",
    "\n",
    "## Answer 10\n",
    "\n",
    "pip is a package manager for python. It's a tool that allows you to install and manage the libraries \n",
    "\n",
    "## Answer 11\n",
    "\n",
    "Some of few built in function are \n",
    "\n",
    "* input()\n",
    "* int()\n",
    "* float()\n",
    "* find()\n",
    "* upper()\n",
    "* lower()\n",
    "* title()\n",
    "* capitalize()\n",
    "\n",
    "## Answer 12\n",
    "Their is no lenght define for identifier But identifier in pyhon can be written from (A-B) or (a-b) or (0-9) or underscore. \n",
    "\n",
    "## Answer 13\n",
    "\n",
    "Benifits of using python\n",
    "\n",
    "* Simple and easy to understand\n",
    "* Open source and free to use\n",
    "* Python is a high level language\n",
    "* Large community base\n",
    "* Python supports OOP's concept\n",
    "* Python is an interpreted language \n",
    "* Python is dynamdynamically typed language\n",
    "* Python Program is portable\n",
    "\n",
    "## Answer 14\n",
    "Memory management in python involvesa private heap containing all the Python objects and data structures.\n",
    "The management of this private heap is ensured internally by the python memory manager.\n",
    "\n",
    "## Answer 15\n",
    "\n",
    "* Before installing python we check  whether python is preinstalled or not.\n",
    "\n",
    "To check if device is pre-installed with Python or not, just go to the Command line and run the command \"python --version\"\n",
    "\n",
    "If Python is already installed, it will generate a message with the Python version available.\n",
    "\n",
    "* Download and Install Python\n",
    "\n",
    "1. Before starting with the installation process, we need to download it. For all the versions of Python for Windows are available on python.org.\n",
    "2. Download the required version or latest version of thee python.\n",
    "3. After the installer is downloaded. double click the .exe file for example python-3.10.10-amd64.exe to run the Python installer.\n",
    "4. Select the Add python.exe to PATH checkbox, which enables users to launch Python from the command line and click on Install Now.\n",
    "5. it 2-3 minutes  to complete the installation and after installation its show setup was successful.\n",
    "\n",
    "* To set path variable\n",
    "1. Go to Start and enter advanced system settings in the search bar.\n",
    "2. Click View advanced system settings.\n",
    "3. In the System Properties dialog, click the Advanced tab and then click Environment Variables.\n",
    "4. Now you can set path variable\n",
    "\n",
    "## Answer 16\n",
    "Yes indentation is required in python. Indentation is a very important concept of Python because without properly indenting the Python code will end up seeing IndentationError and the code will not get compiled. Python using whitespace, to define scope; such as the scope of loops, functions and classes. Other programming languages often use curly-brackets for this purpose."
   ]
  },
  {
   "cell_type": "code",
   "execution_count": null,
   "id": "5dcc9422-0372-4c8d-8854-6f1b00b4cb0d",
   "metadata": {},
   "outputs": [],
   "source": []
  }
 ],
 "metadata": {
  "kernelspec": {
   "display_name": "Python 3 (ipykernel)",
   "language": "python",
   "name": "python3"
  },
  "language_info": {
   "codemirror_mode": {
    "name": "ipython",
    "version": 3
   },
   "file_extension": ".py",
   "mimetype": "text/x-python",
   "name": "python",
   "nbconvert_exporter": "python",
   "pygments_lexer": "ipython3",
   "version": "3.10.8"
  }
 },
 "nbformat": 4,
 "nbformat_minor": 5
}
