{
 "cells": [
  {
   "cell_type": "markdown",
   "id": "e8dcc3c4-c3e4-4184-be1f-8b0ead5af361",
   "metadata": {},
   "source": [
    "# Answer 1."
   ]
  },
  {
   "cell_type": "code",
   "execution_count": 10,
   "id": "c0cbe5c2-8e8a-4bc3-9cb5-7bee9ba942e0",
   "metadata": {},
   "outputs": [
    {
     "name": "stdin",
     "output_type": "stream",
     "text": [
      "Enter Your Precentage: 98\n"
     ]
    },
    {
     "name": "stdout",
     "output_type": "stream",
     "text": [
      "98 %\n",
      "Grade A\n"
     ]
    }
   ],
   "source": [
    "#program for student percentage wise grading.\n",
    "stu_perc = int(input('Enter Your Precentage:'))  #taking student percentage input\n",
    "print(stu_perc,'%')  #print student percentage \n",
    "\n",
    "if stu_perc > 90:                              #if student grade is above 90% then this section execute otherwise it pass on to other condition\n",
    "    print('Grade A')\n",
    "elif stu_perc >80 and stu_perc <=90:           #if student grade is above 80% and less then or equall to 90% then this section execute otherwise it pass on to other condition.\n",
    "    print('Grade B')\n",
    "elif stu_perc >=60 and  stu_perc <=80:         #if student grade is above 60% and less then or equall to 80% then this section execute otherwise it pass on to other condition.\n",
    "    print('Grade C')\n",
    "else:                                          #this is default section if no one execute this section executes.\n",
    "    print('Grade D')\n",
    "        "
   ]
  },
  {
   "cell_type": "markdown",
   "id": "183d242a-5838-43f6-83fb-8ca7ab045bb4",
   "metadata": {},
   "source": [
    "----------"
   ]
  },
  {
   "cell_type": "markdown",
   "id": "2bfe9211-b776-40f5-9609-f569447bd083",
   "metadata": {},
   "source": [
    "# Answer 2."
   ]
  },
  {
   "cell_type": "code",
   "execution_count": 7,
   "id": "53ca7577-316b-40ac-81d1-ccd7206d9f8e",
   "metadata": {},
   "outputs": [
    {
     "name": "stdin",
     "output_type": "stream",
     "text": [
      "Enter the price of the Bike 20000\n"
     ]
    },
    {
     "name": "stdout",
     "output_type": "stream",
     "text": [
      "5% Road tax to be paid\n"
     ]
    }
   ],
   "source": [
    "# program for acceptthe cost of a bike and display the road tax according to the criteria.\n",
    "\n",
    "bike_price =int(input('Enter the price of the Bike'))     #taking bike as price as input from user\n",
    "\n",
    "if bike_price > 100000:                               #Condition if bike is above than 1000000 15% tax has to be paid.\n",
    "    print('15% Road tax to be paid')\n",
    "elif bike_price >50000 and bike_price <=100000:       #Condition if bike is above than 50000 and less than or equall to 100000 then 10% tax has to be paid.\n",
    "    print('10% Road tax to be paid')\n",
    "elif bike_price <=50000:                              #Condition if bike is less than or equall to 50000 then 5% tax has to be paid.\n",
    "    print('5% Road tax to be paid')\n",
    "                "
   ]
  },
  {
   "cell_type": "markdown",
   "id": "6a97ccb6-92d8-44d9-b0cc-e003faf93c17",
   "metadata": {},
   "source": [
    "------"
   ]
  },
  {
   "cell_type": "markdown",
   "id": "125d3b35-89eb-4d42-9111-a780df014df2",
   "metadata": {},
   "source": [
    "# Answer 3."
   ]
  },
  {
   "cell_type": "code",
   "execution_count": 16,
   "id": "7d9b16c7-030a-4362-bf87-1747ec6036f9",
   "metadata": {},
   "outputs": [
    {
     "name": "stdin",
     "output_type": "stream",
     "text": [
      "Enter your city jaipur\n"
     ]
    },
    {
     "name": "stdout",
     "output_type": "stream",
     "text": [
      "Jaipur has Jal Mahal\n"
     ]
    }
   ],
   "source": [
    "# Program to Display monumenats of the entered city\n",
    "\n",
    "city =str(input('Enter your city'))              #taking city as input form user \n",
    "\n",
    "if city == 'delhi' or city == 'Delhi':           #Condition if city is equall to delhi then then it execute the print statement otherwise it pass on to the other condition.\n",
    "    print('Delhi has Red Fort')\n",
    "    \n",
    "elif city == 'agra' or city == 'Agra':           #Condition if city is equall to agra then then it execute the print statement otherwise it pass on to the other condition.\n",
    "    print('Agra has Taj Mahal')\n",
    "    \n",
    "elif city == 'jaipur' or city == 'Jaipur':       #Condition if city is equall to jaipur then then it execute the print statement otherwise it pass on to the other condition.\n",
    "    print('Jaipur has Jal Mahal')"
   ]
  },
  {
   "cell_type": "markdown",
   "id": "ff676531-40e5-45bc-83cd-9364b7be112c",
   "metadata": {},
   "source": [
    "-----------------------------------"
   ]
  },
  {
   "cell_type": "markdown",
   "id": "8cfaaa63-0278-43d4-b1ba-89f3b5c00804",
   "metadata": {},
   "source": [
    "# Answer 4."
   ]
  },
  {
   "cell_type": "code",
   "execution_count": 12,
   "id": "2265d1c0-1543-4d78-b1f2-87d0c6d951f4",
   "metadata": {},
   "outputs": [
    {
     "name": "stdin",
     "output_type": "stream",
     "text": [
      "Enter the Number: 9369\n"
     ]
    },
    {
     "name": "stdout",
     "output_type": "stream",
     "text": [
      "7 times the given number is divided by 3\n"
     ]
    }
   ],
   "source": [
    "#program how many times a number can be divide by 3.\n",
    "\n",
    "num=int(input('Enter the Number:'))     #taking num input for user\n",
    "count=0       #count is a variable to count the division\n",
    "\n",
    "while (num >=10):    #putting the while condition \n",
    "    num = num/3      #dividing num with 3\n",
    "    count = count+1 #counting how many times num is divided.\n",
    "    \n",
    "print(count,'times the given number is divided by 3')   #print the count "
   ]
  },
  {
   "cell_type": "markdown",
   "id": "d9ac86ab-cb9f-4fb6-a2d2-e4db3b8082c7",
   "metadata": {},
   "source": [
    "--------------------------------"
   ]
  },
  {
   "cell_type": "markdown",
   "id": "dda7dd45-aa31-4807-a7c7-53e8016cbbc2",
   "metadata": {},
   "source": [
    "# Answer 5\n",
    "\n",
    "While loop in python is also called a pre tested loop. A while loop in python allows a part of code to be executed repeatedly  as long as a given condition is true.\n",
    "and when the condition becomes false it terminate the loop and comes out of the loop. \n",
    "while loop is used when we need to test the condition first."
   ]
  },
  {
   "cell_type": "markdown",
   "id": "e2b50765-27c1-4869-b674-2892951097b9",
   "metadata": {},
   "source": [
    "---------------------------------------"
   ]
  },
  {
   "cell_type": "markdown",
   "id": "5514fb3b-fdef-4e63-abed-8e4f49fbe154",
   "metadata": {},
   "source": [
    "# Answer 6"
   ]
  },
  {
   "cell_type": "code",
   "execution_count": 3,
   "id": "a2d560b2-b2f1-4bc9-94b3-3a96798c657c",
   "metadata": {},
   "outputs": [
    {
     "name": "stdout",
     "output_type": "stream",
     "text": [
      "* \n",
      "* * \n",
      "* * * \n",
      "* * * * \n"
     ]
    }
   ],
   "source": [
    "# Print 3 types of pattern using while loop\n",
    "num =4\n",
    "row=0\n",
    "while (row<num):\n",
    "    star= row+1\n",
    "    while star>0:\n",
    "        print(\"*\",end=\" \")\n",
    "        star = star-1\n",
    "    row=row+1\n",
    "    print()"
   ]
  },
  {
   "cell_type": "code",
   "execution_count": 7,
   "id": "179940b7-d879-4b19-b3cf-b383328f403d",
   "metadata": {},
   "outputs": [
    {
     "name": "stdout",
     "output_type": "stream",
     "text": [
      "   * \n",
      "  * * \n",
      " * * * \n",
      "* * * * \n"
     ]
    }
   ],
   "source": [
    "num =4\n",
    "row =0\n",
    "\n",
    "while row<num:\n",
    "    space=num-row-1\n",
    "    while space>0:\n",
    "        print(end=\" \")\n",
    "        space =space-1\n",
    "    star = row+1\n",
    "    while star>0:\n",
    "        print(\"*\",end=\" \")\n",
    "        star=star -1\n",
    "    row =row+1\n",
    "    print()"
   ]
  },
  {
   "cell_type": "code",
   "execution_count": 3,
   "id": "83b413f3-75d6-46ce-adbc-94fdd9428399",
   "metadata": {},
   "outputs": [
    {
     "name": "stdout",
     "output_type": "stream",
     "text": [
      "* * * * \n",
      "* * * \n",
      "* * \n",
      "* \n"
     ]
    }
   ],
   "source": [
    "num =4\n",
    "row =0\n",
    "while (row<num):  \n",
    "    star = row +1   \n",
    "    while star<5:   \n",
    "        print(\"*\",end=\" \")\n",
    "        star=star+1\n",
    "    row=row+1\n",
    "    print()"
   ]
  },
  {
   "cell_type": "markdown",
   "id": "b82523cc-05bd-4ac7-8682-98980d2a2dcc",
   "metadata": {},
   "source": [
    "# Answer 7"
   ]
  },
  {
   "cell_type": "code",
   "execution_count": 2,
   "id": "99ae12cf-ebfb-43b5-b690-3fbf8bdc1cbb",
   "metadata": {},
   "outputs": [
    {
     "name": "stdout",
     "output_type": "stream",
     "text": [
      "10\n",
      "9\n",
      "8\n",
      "7\n",
      "6\n",
      "5\n",
      "4\n",
      "3\n",
      "2\n",
      "1\n"
     ]
    }
   ],
   "source": [
    "# Print 1-10 Reverse number using while loop\n",
    "num=10\n",
    "while num >0:\n",
    "    print(num)\n",
    "    num=num-1"
   ]
  },
  {
   "cell_type": "code",
   "execution_count": null,
   "id": "8b832eda-6be3-4e62-bc6c-eb965a0f5f37",
   "metadata": {},
   "outputs": [],
   "source": []
  },
  {
   "cell_type": "code",
   "execution_count": null,
   "id": "1e2dd405-1f69-4d78-bf1b-89815afbc171",
   "metadata": {},
   "outputs": [],
   "source": []
  }
 ],
 "metadata": {
  "kernelspec": {
   "display_name": "Python 3 (ipykernel)",
   "language": "python",
   "name": "python3"
  },
  "language_info": {
   "codemirror_mode": {
    "name": "ipython",
    "version": 3
   },
   "file_extension": ".py",
   "mimetype": "text/x-python",
   "name": "python",
   "nbconvert_exporter": "python",
   "pygments_lexer": "ipython3",
   "version": "3.10.8"
  }
 },
 "nbformat": 4,
 "nbformat_minor": 5
}
